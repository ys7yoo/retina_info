{
 "cells": [
  {
   "cell_type": "code",
   "execution_count": 1,
   "metadata": {},
   "outputs": [],
   "source": [
    "import numpy as np\n",
    "import matplotlib.pyplot as plt\n",
    "from scipy import stats\n",
    "\n",
    "import os\n",
    "import sys\n",
    "cwd = os.getcwd()\n",
    "parent_dir = os.path.abspath(os.path.join(cwd, os.pardir))\n",
    "sys.path.insert(0, os.path.join(parent_dir, 'pysta2'))\n",
    "\n",
    "import pysta\n",
    "# import stc\n",
    "# import stcl\n",
    "\n",
    "# from stcl import load_centers\n",
    "\n",
    "import pandas as pd\n",
    "import os\n",
    "\n",
    "%load_ext autoreload\n",
    "%autoreload 2"
   ]
  },
  {
   "cell_type": "code",
   "execution_count": 2,
   "metadata": {},
   "outputs": [],
   "source": [
    "# helper functions for visualization\n",
    "def box_off():\n",
    "    ax = plt.gca()\n",
    "    ax.spines['top'].set_visible(False)\n",
    "    ax.spines['right'].set_visible(False)\n",
    "    \n",
    "def p2p(sta):\n",
    "    return np.max(sta) - np.min(sta)\n",
    "\n",
    "def psnr(sta):\n",
    "    return (np.max(sta.ravel()) - np.min(sta.ravel())) / np.std(sta.ravel())\n",
    "\n",
    "def plot_spatio_temporal(sta, height=13, width=13, dt=1000/30, ylabel=None, fig_basename=None):        \n",
    "    tap = sta.shape[-1]\n",
    "    figsize = (5.5,3.5)\n",
    "    plt.figure(figsize=figsize)\n",
    "    pysta.plot_temporal_profile(sta, tap, dt, ylim=[-0.5,0.5])\n",
    "    if ylabel is not None:\n",
    "        plt.ylabel(ylabel)\n",
    "    print('peak-to-peak diff. = {:.2f}'.format(p2p(sta)))\n",
    "    print('PSNR = {:.2f}'.format(psnr(sta)))\n",
    "#     plt.title('peak diff. = {:.2f}'.format(p2p(sta)))\n",
    "    plt.xlabel(None)\n",
    "\n",
    "    if fig_basename is not None:\n",
    "        plt.savefig(fig_basename + '_temp.pdf', bbox_inches='tight') # https://stackoverflow.com/a/4046233\n",
    "\n",
    "    plt.figure()\n",
    "    pysta.plot_stim_slices(sta, height=height, width=width, dt=dt, vmin=-0.5, vmax=0.5)\n",
    "\n",
    "#     plt.tight_layout()\n",
    "    \n",
    "    if fig_basename is not None:\n",
    "        plt.savefig(fig_basename + '_spatial.pdf', bbox_inches='tight')\n",
    "    \n",
    "    \n",
    "def groupby_dict(df, col, group):\n",
    "    data = dict()\n",
    "    for group_val, d in df.groupby(group):\n",
    "#         print(group_val)\n",
    "        data[group_val] = d[col].to_list()\n",
    "    return data\n",
    "\n",
    "\n",
    "def plot_bar_by_group(info, col, \n",
    "                      groupby='cell_type', \n",
    "                      group_values = ['ON', 'OFF', 'ON-OFF', 'Unknown'], color=['r','#00A0FF','green', '#A0A0A0']):\n",
    "    \n",
    "    means = info.groupby(groupby)[col].mean()[group_values]\n",
    "    sems = info.groupby(groupby)[col].sem()[group_values]\n",
    "\n",
    "    plt.bar(group_values, means, yerr=sems,\n",
    "            width=0.4, color=color, edgecolor='k', linewidth=1,\n",
    "            capsize=5)\n",
    "    \n",
    "    plt.ylabel(col.replace('_', ' '))\n",
    "    plt.xlabel(groupby.replace('_', ' '))\n",
    "    \n",
    "    plt.xlim(-0.5, len(group_values)-0.5)\n",
    "    box_off()"
   ]
  },
  {
   "cell_type": "markdown",
   "metadata": {},
   "source": [
    "Let's re-plot old Figure 3 (ON-OFF cell) for all the methods"
   ]
  },
  {
   "cell_type": "markdown",
   "metadata": {},
   "source": [
    "## load data"
   ]
  },
  {
   "cell_type": "code",
   "execution_count": 3,
   "metadata": {},
   "outputs": [],
   "source": [
    "# baseline dataset\n",
    "dataset0 = '8x8 10Hz'\n",
    "\n",
    "width = 8\n",
    "height = 8\n",
    "fps = 10\n",
    "\n",
    "info0 = pd.read_csv('20180828_{}pix_{}Hz_sta.csv'.format(width,fps))\n",
    "info0['dataset'] = dataset0"
   ]
  },
  {
   "cell_type": "code",
   "execution_count": 4,
   "metadata": {},
   "outputs": [],
   "source": [
    "# # different spatial & temporal resolutions (2018.08.28)\n",
    "# dataset1 = '8x8 25Hz'\n",
    "\n",
    "# width = 8\n",
    "# height = 8\n",
    "# fps = 25\n",
    "\n",
    "# dataset1 = '13x13 10Hz'\n",
    "\n",
    "# width = 13\n",
    "# height = 13\n",
    "# fps = 10\n",
    "\n",
    "dataset1 = '26x26 10Hz'\n",
    "\n",
    "width = 26\n",
    "height = 26\n",
    "fps = 10\n",
    "\n",
    "info1 = pd.read_csv('20180828_{}pix_{}Hz_sta.csv'.format(width,fps))\n",
    "info1['dataset'] = dataset1\n",
    "\n",
    "info = pd.concat([info0, info1])"
   ]
  },
  {
   "cell_type": "markdown",
   "metadata": {},
   "source": [
    "## compare STA p2p"
   ]
  },
  {
   "cell_type": "code",
   "execution_count": 5,
   "metadata": {},
   "outputs": [
    {
     "data": {
      "text/html": [
       "<div>\n",
       "<style scoped>\n",
       "    .dataframe tbody tr th:only-of-type {\n",
       "        vertical-align: middle;\n",
       "    }\n",
       "\n",
       "    .dataframe tbody tr th {\n",
       "        vertical-align: top;\n",
       "    }\n",
       "\n",
       "    .dataframe thead th {\n",
       "        text-align: right;\n",
       "    }\n",
       "</style>\n",
       "<table border=\"1\" class=\"dataframe\">\n",
       "  <thead>\n",
       "    <tr style=\"text-align: right;\">\n",
       "      <th></th>\n",
       "      <th>sta_p2p</th>\n",
       "      <th>sta_psnr</th>\n",
       "    </tr>\n",
       "    <tr>\n",
       "      <th>dataset</th>\n",
       "      <th></th>\n",
       "      <th></th>\n",
       "    </tr>\n",
       "  </thead>\n",
       "  <tbody>\n",
       "    <tr>\n",
       "      <th>26x26 10Hz</th>\n",
       "      <td>0.226395</td>\n",
       "      <td>12.951088</td>\n",
       "    </tr>\n",
       "    <tr>\n",
       "      <th>8x8 10Hz</th>\n",
       "      <td>0.336359</td>\n",
       "      <td>12.408469</td>\n",
       "    </tr>\n",
       "  </tbody>\n",
       "</table>\n",
       "</div>"
      ],
      "text/plain": [
       "             sta_p2p   sta_psnr\n",
       "dataset                        \n",
       "26x26 10Hz  0.226395  12.951088\n",
       "8x8 10Hz    0.336359  12.408469"
      ]
     },
     "execution_count": 5,
     "metadata": {},
     "output_type": "execute_result"
    }
   ],
   "source": [
    "info.groupby('dataset').mean()[['sta_p2p', 'sta_psnr']]"
   ]
  },
  {
   "cell_type": "code",
   "execution_count": 6,
   "metadata": {},
   "outputs": [
    {
     "data": {
      "text/html": [
       "<div>\n",
       "<style scoped>\n",
       "    .dataframe tbody tr th:only-of-type {\n",
       "        vertical-align: middle;\n",
       "    }\n",
       "\n",
       "    .dataframe tbody tr th {\n",
       "        vertical-align: top;\n",
       "    }\n",
       "\n",
       "    .dataframe thead th {\n",
       "        text-align: right;\n",
       "    }\n",
       "</style>\n",
       "<table border=\"1\" class=\"dataframe\">\n",
       "  <thead>\n",
       "    <tr style=\"text-align: right;\">\n",
       "      <th></th>\n",
       "      <th>sta_p2p</th>\n",
       "      <th>sta_psnr</th>\n",
       "    </tr>\n",
       "    <tr>\n",
       "      <th>dataset</th>\n",
       "      <th></th>\n",
       "      <th></th>\n",
       "    </tr>\n",
       "  </thead>\n",
       "  <tbody>\n",
       "    <tr>\n",
       "      <th>26x26 10Hz</th>\n",
       "      <td>0.012179</td>\n",
       "      <td>0.639467</td>\n",
       "    </tr>\n",
       "    <tr>\n",
       "      <th>8x8 10Hz</th>\n",
       "      <td>0.018342</td>\n",
       "      <td>0.586505</td>\n",
       "    </tr>\n",
       "  </tbody>\n",
       "</table>\n",
       "</div>"
      ],
      "text/plain": [
       "             sta_p2p  sta_psnr\n",
       "dataset                       \n",
       "26x26 10Hz  0.012179  0.639467\n",
       "8x8 10Hz    0.018342  0.586505"
      ]
     },
     "execution_count": 6,
     "metadata": {},
     "output_type": "execute_result"
    }
   ],
   "source": [
    "info.groupby('dataset').sem()[['sta_p2p', 'sta_psnr']]"
   ]
  },
  {
   "cell_type": "code",
   "execution_count": 7,
   "metadata": {},
   "outputs": [
    {
     "data": {
      "image/png": "[encoded data removed]",
      "text/plain": [
       "<Figure size 432x288 with 1 Axes>"
      ]
     },
     "metadata": {
      "needs_background": "light"
     },
     "output_type": "display_data"
    }
   ],
   "source": [
    "plot_bar_by_group(info, 'sta_p2p',\n",
    "                  groupby='dataset',\n",
    "                  group_values = [dataset0, dataset1], color=['b', 'r'])"
   ]
  },
  {
   "cell_type": "code",
   "execution_count": 8,
   "metadata": {},
   "outputs": [
    {
     "name": "stdout",
     "output_type": "stream",
     "text": [
      "1.4885817795978199e-06\n"
     ]
    }
   ],
   "source": [
    "# test significance: ON or OFF vs. ON/OFF\n",
    "data = groupby_dict(info, 'sta_p2p', 'dataset')\n",
    "\n",
    "t, p = stats.ttest_ind(data[dataset0], data[dataset1], equal_var=False)\n",
    "print(p)"
   ]
  },
  {
   "cell_type": "markdown",
   "metadata": {},
   "source": [
    "## Compare by cell types"
   ]
  },
  {
   "cell_type": "code",
   "execution_count": 9,
   "metadata": {},
   "outputs": [
    {
     "data": {
      "text/html": [
       "<div>\n",
       "<style scoped>\n",
       "    .dataframe tbody tr th:only-of-type {\n",
       "        vertical-align: middle;\n",
       "    }\n",
       "\n",
       "    .dataframe tbody tr th {\n",
       "        vertical-align: top;\n",
       "    }\n",
       "\n",
       "    .dataframe thead th {\n",
       "        text-align: right;\n",
       "    }\n",
       "</style>\n",
       "<table border=\"1\" class=\"dataframe\">\n",
       "  <thead>\n",
       "    <tr style=\"text-align: right;\">\n",
       "      <th></th>\n",
       "      <th></th>\n",
       "      <th>sta_p2p</th>\n",
       "      <th>sta_psnr</th>\n",
       "    </tr>\n",
       "    <tr>\n",
       "      <th>dataset</th>\n",
       "      <th>cell_type</th>\n",
       "      <th></th>\n",
       "      <th></th>\n",
       "    </tr>\n",
       "  </thead>\n",
       "  <tbody>\n",
       "    <tr>\n",
       "      <th rowspan=\"3\" valign=\"top\">8x8 10Hz</th>\n",
       "      <th>OFF</th>\n",
       "      <td>0.372672</td>\n",
       "      <td>17.239014</td>\n",
       "    </tr>\n",
       "    <tr>\n",
       "      <th>ON</th>\n",
       "      <td>0.421244</td>\n",
       "      <td>15.778832</td>\n",
       "    </tr>\n",
       "    <tr>\n",
       "      <th>Unknown</th>\n",
       "      <td>0.265957</td>\n",
       "      <td>7.192651</td>\n",
       "    </tr>\n",
       "    <tr>\n",
       "      <th rowspan=\"3\" valign=\"top\">26x26 10Hz</th>\n",
       "      <th>OFF</th>\n",
       "      <td>0.273742</td>\n",
       "      <td>19.450459</td>\n",
       "    </tr>\n",
       "    <tr>\n",
       "      <th>Unknown</th>\n",
       "      <td>0.182232</td>\n",
       "      <td>7.967625</td>\n",
       "    </tr>\n",
       "    <tr>\n",
       "      <th>ON</th>\n",
       "      <td>0.245490</td>\n",
       "      <td>14.021655</td>\n",
       "    </tr>\n",
       "  </tbody>\n",
       "</table>\n",
       "</div>"
      ],
      "text/plain": [
       "                       sta_p2p   sta_psnr\n",
       "dataset    cell_type                     \n",
       "8x8 10Hz   OFF        0.372672  17.239014\n",
       "           ON         0.421244  15.778832\n",
       "           Unknown    0.265957   7.192651\n",
       "26x26 10Hz OFF        0.273742  19.450459\n",
       "           Unknown    0.182232   7.967625\n",
       "           ON         0.245490  14.021655"
      ]
     },
     "execution_count": 9,
     "metadata": {},
     "output_type": "execute_result"
    }
   ],
   "source": [
    "info.groupby(['dataset','cell_type'], sort=False).mean()"
   ]
  },
  {
   "cell_type": "code",
   "execution_count": 10,
   "metadata": {},
   "outputs": [
    {
     "data": {
      "text/html": [
       "<div>\n",
       "<style scoped>\n",
       "    .dataframe tbody tr th:only-of-type {\n",
       "        vertical-align: middle;\n",
       "    }\n",
       "\n",
       "    .dataframe tbody tr th {\n",
       "        vertical-align: top;\n",
       "    }\n",
       "\n",
       "    .dataframe thead th {\n",
       "        text-align: right;\n",
       "    }\n",
       "</style>\n",
       "<table border=\"1\" class=\"dataframe\">\n",
       "  <thead>\n",
       "    <tr style=\"text-align: right;\">\n",
       "      <th></th>\n",
       "      <th></th>\n",
       "      <th>channel</th>\n",
       "      <th>sta_p2p</th>\n",
       "      <th>sta_psnr</th>\n",
       "    </tr>\n",
       "    <tr>\n",
       "      <th>dataset</th>\n",
       "      <th>cell_type</th>\n",
       "      <th></th>\n",
       "      <th></th>\n",
       "      <th></th>\n",
       "    </tr>\n",
       "  </thead>\n",
       "  <tbody>\n",
       "    <tr>\n",
       "      <th rowspan=\"3\" valign=\"top\">8x8 10Hz</th>\n",
       "      <th>OFF</th>\n",
       "      <td>NaN</td>\n",
       "      <td>0.029878</td>\n",
       "      <td>0.796546</td>\n",
       "    </tr>\n",
       "    <tr>\n",
       "      <th>ON</th>\n",
       "      <td>NaN</td>\n",
       "      <td>0.024581</td>\n",
       "      <td>0.617636</td>\n",
       "    </tr>\n",
       "    <tr>\n",
       "      <th>Unknown</th>\n",
       "      <td>NaN</td>\n",
       "      <td>0.029306</td>\n",
       "      <td>0.328985</td>\n",
       "    </tr>\n",
       "    <tr>\n",
       "      <th rowspan=\"3\" valign=\"top\">26x26 10Hz</th>\n",
       "      <th>OFF</th>\n",
       "      <td>NaN</td>\n",
       "      <td>0.022422</td>\n",
       "      <td>1.348955</td>\n",
       "    </tr>\n",
       "    <tr>\n",
       "      <th>Unknown</th>\n",
       "      <td>NaN</td>\n",
       "      <td>0.018445</td>\n",
       "      <td>0.174253</td>\n",
       "    </tr>\n",
       "    <tr>\n",
       "      <th>ON</th>\n",
       "      <td>NaN</td>\n",
       "      <td>0.020175</td>\n",
       "      <td>0.798910</td>\n",
       "    </tr>\n",
       "  </tbody>\n",
       "</table>\n",
       "</div>"
      ],
      "text/plain": [
       "                      channel   sta_p2p  sta_psnr\n",
       "dataset    cell_type                             \n",
       "8x8 10Hz   OFF            NaN  0.029878  0.796546\n",
       "           ON             NaN  0.024581  0.617636\n",
       "           Unknown        NaN  0.029306  0.328985\n",
       "26x26 10Hz OFF            NaN  0.022422  1.348955\n",
       "           Unknown        NaN  0.018445  0.174253\n",
       "           ON             NaN  0.020175  0.798910"
      ]
     },
     "execution_count": 10,
     "metadata": {},
     "output_type": "execute_result"
    }
   ],
   "source": [
    "info.groupby(['dataset','cell_type'], sort=False).sem()"
   ]
  },
  {
   "cell_type": "code",
   "execution_count": 11,
   "metadata": {},
   "outputs": [
    {
     "data": {
      "image/png": "[encoded data removed]",
      "text/plain": [
       "<Figure size 432x288 with 1 Axes>"
      ]
     },
     "metadata": {
      "needs_background": "light"
     },
     "output_type": "display_data"
    }
   ],
   "source": [
    "col = 'sta_p2p'\n",
    "plt.hist([info0[col].tolist(), info1[col].tolist()], density=True)\n",
    "plt.legend([dataset0, dataset1])\n",
    "plt.xlabel('STA peak-to-peak difference')\n",
    "plt.ylabel('desity')\n",
    "box_off()"
   ]
  },
  {
   "cell_type": "code",
   "execution_count": 12,
   "metadata": {},
   "outputs": [
    {
     "data": {
      "image/png": "[encoded data removed]",
      "text/plain": [
       "<Figure size 432x288 with 1 Axes>"
      ]
     },
     "metadata": {
      "needs_background": "light"
     },
     "output_type": "display_data"
    }
   ],
   "source": [
    "col = 'sta_psnr'\n",
    "plt.hist([info0[col].tolist(), info1[col].tolist()], density=True)\n",
    "plt.legend([dataset0, dataset1])\n",
    "plt.xlabel('STA PSNR')\n",
    "plt.ylabel('desity')\n",
    "box_off()"
   ]
  },
  {
   "cell_type": "code",
   "execution_count": 13,
   "metadata": {},
   "outputs": [],
   "source": [
    "if len(info['cell_type'].value_counts()) == 3: # ON, OFF, Unknown\n",
    "    group_values = ['ON', 'OFF', 'Unknown']\n",
    "    color = ['r','#00A0FF', '#A0A0A0']\n",
    "elif len(info['cell_type'].value_counts()) == 4: # ON, OFF, ON-OFF, Unknown\n",
    "    group_values = ['ON', 'OFF', 'ON-OFF', 'Unknown']\n",
    "    color = ['r','#00A0FF','green', '#A0A0A0']    "
   ]
  },
  {
   "cell_type": "code",
   "execution_count": 14,
   "metadata": {},
   "outputs": [
    {
     "data": {
      "text/plain": [
       "Text(0.5, 1.0, '8x8 10Hz')"
      ]
     },
     "execution_count": 14,
     "metadata": {},
     "output_type": "execute_result"
    },
    {
     "data": {
      "image/png": "[encoded data removed]",
      "text/plain": [
       "<Figure size 432x288 with 1 Axes>"
      ]
     },
     "metadata": {
      "needs_background": "light"
     },
     "output_type": "display_data"
    }
   ],
   "source": [
    "plot_bar_by_group(info0, 'sta_p2p',\n",
    "                  group_values = group_values, color=color)\n",
    "\n",
    "plt.ylim(0, 0.5)\n",
    "plt.title(dataset0)\n",
    "# plt.savefig(\"figure/sta/{}_p2p_bar.pdf\".format(dataset), bbox_inches='tight')\n",
    "# plt.savefig(\"figure/sta/{}_p2p_bar.png\".format(dataset), bbox_inches='tight')"
   ]
  },
  {
   "cell_type": "code",
   "execution_count": 15,
   "metadata": {},
   "outputs": [
    {
     "name": "stdout",
     "output_type": "stream",
     "text": [
      "0.21517341518832303\n",
      "0.0006173642310534816\n"
     ]
    }
   ],
   "source": [
    "# test significance: ON or OFF vs. ON/OFF\n",
    "data = groupby_dict(info0, 'sta_p2p', 'cell_type')\n",
    "\n",
    "t, p = stats.ttest_ind(data['ON'], data['OFF'], equal_var=False)\n",
    "print(p)\n",
    "\n",
    "t, p = stats.ttest_ind(data['ON'] + data['OFF'], data['Unknown'], equal_var=False)\n",
    "print(p)"
   ]
  },
  {
   "cell_type": "code",
   "execution_count": 16,
   "metadata": {},
   "outputs": [
    {
     "data": {
      "text/plain": [
       "Text(0.5, 1.0, '26x26 10Hz')"
      ]
     },
     "execution_count": 16,
     "metadata": {},
     "output_type": "execute_result"
    },
    {
     "data": {
      "image/png": "[encoded data removed]",
      "text/plain": [
       "<Figure size 432x288 with 1 Axes>"
      ]
     },
     "metadata": {
      "needs_background": "light"
     },
     "output_type": "display_data"
    }
   ],
   "source": [
    "plot_bar_by_group(info1, 'sta_p2p',\n",
    "                  group_values = group_values, color=color)\n",
    "\n",
    "plt.ylim(0, 0.5)\n",
    "plt.title(dataset1)\n",
    "# plt.savefig(\"figure/sta/{}_p2p_bar.pdf\".format(dataset), bbox_inches='tight')\n",
    "# plt.savefig(\"figure/sta/{}_p2p_bar.png\".format(dataset), bbox_inches='tight')"
   ]
  },
  {
   "cell_type": "code",
   "execution_count": 17,
   "metadata": {},
   "outputs": [
    {
     "name": "stdout",
     "output_type": "stream",
     "text": [
      "0.35276577033689704\n",
      "0.0016858513634830927\n"
     ]
    }
   ],
   "source": [
    "# test significance: ON or OFF vs. ON/OFF\n",
    "data = groupby_dict(info1, 'sta_p2p', 'cell_type')\n",
    "\n",
    "t, p = stats.ttest_ind(data['ON'], data['OFF'], equal_var=False)\n",
    "print(p)\n",
    "\n",
    "t, p = stats.ttest_ind(data['ON'] + data['OFF'], data['Unknown'], equal_var=False)\n",
    "print(p)"
   ]
  },
  {
   "cell_type": "code",
   "execution_count": null,
   "metadata": {},
   "outputs": [],
   "source": []
  }
 ],
 "metadata": {
  "kernelspec": {
   "display_name": "Python 3",
   "language": "python",
   "name": "python3"
  },
  "language_info": {
   "codemirror_mode": {
    "name": "ipython",
    "version": 3
   },
   "file_extension": ".py",
   "mimetype": "text/x-python",
   "name": "python",
   "nbconvert_exporter": "python",
   "pygments_lexer": "ipython3",
   "version": "3.7.6"
  }
 },
 "nbformat": 4,
 "nbformat_minor": 4
}
