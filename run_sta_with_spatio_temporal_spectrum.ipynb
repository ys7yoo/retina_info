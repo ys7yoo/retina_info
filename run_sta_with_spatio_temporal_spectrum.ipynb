{
 "cells": [
  {
   "cell_type": "code",
   "execution_count": 1,
   "metadata": {},
   "outputs": [],
   "source": [
    "import numpy as np\n",
    "import matplotlib.pyplot as plt\n",
    "from scipy import stats\n",
    "\n",
    "from scipy.fft import rfft, rfftfreq\n",
    "from scipy.fft import fft2\n",
    "from skimage.filters import window\n",
    "\n",
    "\n",
    "import os\n",
    "import sys\n",
    "cwd = os.getcwd()\n",
    "parent_dir = os.path.abspath(os.path.join(cwd, os.pardir))\n",
    "sys.path.insert(0, os.path.join(parent_dir, 'pysta2'))\n",
    "\n",
    "import pysta\n",
    "# import stc\n",
    "# import stcl\n",
    "\n",
    "# from stcl import load_centers\n",
    "\n",
    "import pandas as pd\n",
    "import os\n",
    "\n",
    "%load_ext autoreload\n",
    "%autoreload 2"
   ]
  },
  {
   "cell_type": "code",
   "execution_count": 2,
   "metadata": {},
   "outputs": [],
   "source": [
    "# helper functions for visualization\n",
    "def box_off():\n",
    "    ax = plt.gca()\n",
    "    ax.spines['top'].set_visible(False)\n",
    "    ax.spines['right'].set_visible(False)\n",
    "    \n",
    "def p2p(sta):\n",
    "    return np.max(sta) - np.min(sta)\n",
    "\n",
    "def psnr(sta):\n",
    "    return (np.max(sta.ravel()) - np.min(sta.ravel())) / np.std(sta.ravel())\n",
    "\n",
    "\n",
    "def plot_temporal_profile(sta, dt):\n",
    "    tap = sta.shape[0]\n",
    "#     figsize = (5.5,3.5)\n",
    "#     plt.figure(figsize=figsize)\n",
    "    pysta.plot_temporal_profile(sta, tap, dt, ylim=[-0.5,0.5])\n",
    "    plt.ylabel('STA')\n",
    "    print('peak-to-peak diff. = {:.2f}'.format(p2p(sta)))\n",
    "    # print('PSNR = {:.2f}'.format(psnr(sta)))\n",
    "\n",
    "    plt.title('peak-to-peak diff. = {:.2f}'.format(p2p(sta)))\n",
    "#     plt.xlabel('ms')\n",
    "    \n",
    "    \n",
    "def plot_temporal_spectrum(sta, dt):\n",
    "    wt = rfft(sta, axis=1)\n",
    "    \n",
    "    N = sta.shape[1]\n",
    "    fs = rfftfreq(N, dt)\n",
    "    \n",
    "    plt.plot(fs, np.abs(wt.T), 'o-')\n",
    "    plt.xlabel('Hz')\n",
    "    plt.ylabel('FFT amplitude')\n",
    "\n",
    "    box_off()\n",
    "\n",
    "\n",
    "def plot_spatial_spectrum(sta_slice, windowing='hann', pixel_size=1, precision=2):\n",
    "    assert len(sta_slice.shape)==2\n",
    "    \n",
    "    def set_ticks(ax, fs, precision=precision):\n",
    "        ticks = range(0, len(fs))\n",
    "        print_format = \"{:.\" + str(precision) + \"f}\"\n",
    "        ticklabels = [print_format.format(p) for p in (fs)]\n",
    "\n",
    "        ax.set_xticks(ticks)\n",
    "        ax.set_xticklabels(ticklabels)\n",
    "        ax.set_xlim(-0.5, len(fs)-0.5)\n",
    "#         from matplotlib.ticker import FormatStrFormatter\n",
    "#         ax.xaxis.set_major_formatter(FormatStrFormatter('%.0f'))\n",
    "        \n",
    "        ax.set_yticks(ticks)\n",
    "        ax.set_yticklabels(ticklabels)\n",
    "        ax.set_ylim(-0.5, len(fs)-0.5)\n",
    "\n",
    "        \n",
    "    w = fft2(sta_slice * window(windowing, sta_slice.shape))\n",
    "\n",
    "    fs = rfftfreq(sta_slice.shape[0])\n",
    "    \n",
    "    # crop and take abs w \n",
    "    abs_w = np.abs(w[:len(fs),:len(fs)])\n",
    "    plt.imshow(abs_w, cmap='gray', origin='lower')\n",
    "\n",
    "    set_ticks(plt.gca(), fs, precision=precision)\n",
    "    \n",
    "    plt.xlabel('frequency')\n",
    "    plt.ylabel('frequency')\n",
    "    \n",
    "    abs_w[0,0] = - np.Inf\n",
    "    idx_max = np.unravel_index(np.argmax(abs_w, axis=None), abs_w.shape)\n",
    "    plt.plot(idx_max[1],idx_max[0], 'r*')\n",
    "    \n",
    "    \n",
    "    \n",
    "def plot_spatio_temporal(sta, height=13, width=13, dt=1000/30, ylabel=None, fig_basename=None):        \n",
    "    tap = sta.shape[-1]\n",
    "    figsize = (5.5,3.5)\n",
    "    plt.figure(figsize=figsize)\n",
    "    \n",
    "    plot_temporal_profile(sta, dt)\n",
    "    \n",
    "    \n",
    "#     pysta.plot_temporal_profile(sta, tap, dt, ylim=[-0.5,0.5])\n",
    "#     if ylabel is not None:\n",
    "#         plt.ylabel(ylabel)\n",
    "#     print('peak-to-peak diff. = {:.2f}'.format(p2p(sta)))\n",
    "#     print('PSNR = {:.2f}'.format(psnr(sta)))\n",
    "# #     plt.title('peak diff. = {:.2f}'.format(p2p(sta)))\n",
    "#     plt.xlabel(None)\n",
    "\n",
    "    if fig_basename is not None:\n",
    "        plt.savefig(fig_basename + '_temp.pdf', bbox_inches='tight') # https://stackoverflow.com/a/4046233\n",
    "\n",
    "    plt.figure()\n",
    "    pysta.plot_stim_slices(sta, height=height, width=width, dt=dt, vmin=-0.5, vmax=0.5)\n",
    "\n",
    "#     plt.tight_layout()\n",
    "    \n",
    "    if fig_basename is not None:\n",
    "        plt.savefig(fig_basename + '_spatial.pdf', bbox_inches='tight')\n",
    "    \n",
    "    \n",
    "def groupby_dict(df, col, group):\n",
    "    data = dict()\n",
    "    for group_val, d in df.groupby(group):\n",
    "#         print(group_val)\n",
    "        data[group_val] = d[col].to_list()\n",
    "    return data\n",
    "\n",
    "\n",
    "def plot_bar_by_group(info, col, \n",
    "                      groupby='cell_type', \n",
    "                      group_values = ['ON', 'OFF', 'ON-OFF', 'Unknown'], color=['r','#00A0FF','green', '#A0A0A0']):\n",
    "    \n",
    "    means = info.groupby(groupby)[col].mean()[group_values]\n",
    "    sems = info.groupby(groupby)[col].sem()[group_values]\n",
    "\n",
    "    plt.bar(group_values, means, yerr=sems,\n",
    "            width=0.4, color=color, edgecolor='k', linewidth=1,\n",
    "            capsize=5)\n",
    "    \n",
    "    plt.ylabel(col)\n",
    "    plt.xlabel('cell type')\n",
    "    \n",
    "    plt.xlim(-0.5, len(group_values)-0.5)\n",
    "    box_off()"
   ]
  },
  {
   "cell_type": "code",
   "execution_count": 3,
   "metadata": {},
   "outputs": [],
   "source": [
    "def calc_spatial_spectrum(sta_reg):\n",
    "    # find pixel with highest variance\n",
    "    idx_max_var = np.argmax(np.var(sta_reg,axis=0))\n",
    "    temporal_profile = sta_reg[:,idx_max_var]\n",
    "\n",
    "    plt.figure(figsize=(12,4))\n",
    "    plt.plot(temporal_profile, '.-')\n",
    "    idx_peak = np.argmax(np.abs(temporal_profile))\n",
    "\n",
    "    sta_slice = sta_reg[idx_peak,:].reshape(height,width)\n",
    "    plt.plot(idx_peak, sta_reg[idx_peak, idx_max_var], 'r*')\n",
    "    plt.xlabel('frame')\n",
    "    plt.ylabel('STA at pixel {}'.format(idx_max_var))\n",
    "    box_off()\n",
    "\n",
    "\n",
    "    sta_slice = sta_reg[idx_peak,:].reshape(height,width)\n",
    "\n",
    "\n",
    "    plt.figure(figsize=(15,8))\n",
    "    plt.subplot(121)\n",
    "    plt.imshow(sta_slice, cmap='gray', origin='lower')\n",
    "\n",
    "    plt.subplot(122)\n",
    "    plot_spatial_spectrum(sta_slice)"
   ]
  },
  {
   "cell_type": "markdown",
   "metadata": {},
   "source": [
    "## load data"
   ]
  },
  {
   "cell_type": "code",
   "execution_count": 4,
   "metadata": {},
   "outputs": [],
   "source": [
    "# data_path = 'data'\n",
    "\n",
    "# # dataset = '20201209'\n",
    "# # width = 26\n",
    "# # height = 26\n",
    "\n",
    "# # dataset = '20201216'\n",
    "# # width = 13\n",
    "# # height = 13\n",
    "\n",
    "# dataset = '20180626'\n",
    "# width = 8\n",
    "# height = 8\n",
    "# fps = 10"
   ]
  },
  {
   "cell_type": "code",
   "execution_count": 5,
   "metadata": {},
   "outputs": [],
   "source": [
    "# gaussian stim with the highest contrast\n",
    "data_path = 'data_gaussian'\n",
    "dataset = 'contrast100'\n",
    "dataset = 'contrast50'\n",
    "\n",
    "width = 8\n",
    "height = 8\n",
    "fps = 10"
   ]
  },
  {
   "cell_type": "code",
   "execution_count": 6,
   "metadata": {},
   "outputs": [
    {
     "data": {
      "text/plain": [
       "'20180828_26pix_10Hz'"
      ]
     },
     "execution_count": 6,
     "metadata": {},
     "output_type": "execute_result"
    }
   ],
   "source": [
    "# different spatial & temporal resolutions (2018.08.28)\n",
    "data_path = 'data_binary_stim'\n",
    "\n",
    "# width = 8\n",
    "# height = 8\n",
    "# fps = 10\n",
    "\n",
    "# width = 8\n",
    "# height = 8\n",
    "# fps = 25\n",
    "\n",
    "# width = 13\n",
    "# height = 13\n",
    "# fps = 10\n",
    "\n",
    "width = 26\n",
    "height = 26\n",
    "fps = 10\n",
    "\n",
    "dataset = '20180828_{}pix_{}Hz'.format(width,fps)\n",
    "dataset"
   ]
  },
  {
   "cell_type": "code",
   "execution_count": 7,
   "metadata": {},
   "outputs": [],
   "source": [
    "# cloud stim data (2021.01.13)\n",
    "# ln -s ~/data/cloud_stim_data data_cloud_stim\n",
    "data_path = 'data_cloud_stim'\n",
    "\n",
    "dataset = '20210113'\n",
    "width = 26\n",
    "height = 26\n",
    "fps = 10"
   ]
  },
  {
   "cell_type": "code",
   "execution_count": 8,
   "metadata": {},
   "outputs": [],
   "source": [
    "# cloud stim data (2021.02.03 - 52x52, 30Hz)\n",
    "# ln -s ~/data/cloud_stim_data data_cloud_stim\n",
    "data_path = 'data_cloud_stim'\n",
    "dataset = '20210203_contrast100'\n",
    "width = 52\n",
    "height = 52\n",
    "fps = 30"
   ]
  },
  {
   "cell_type": "code",
   "execution_count": 9,
   "metadata": {},
   "outputs": [
    {
     "data": {
      "text/plain": [
       "102"
      ]
     },
     "execution_count": 9,
     "metadata": {},
     "output_type": "execute_result"
    }
   ],
   "source": [
    "data = np.load(os.path.join(data_path, dataset + '.npz'))\n",
    "info = pd.read_csv(os.path.join(data_path, dataset + '_info.csv'))\n",
    "\n",
    "\n",
    "stim = data['stim'] - 0.5\n",
    "spike_counts = data['spike_counts']\n",
    "\n",
    "len(info)"
   ]
  },
  {
   "cell_type": "code",
   "execution_count": 10,
   "metadata": {},
   "outputs": [
    {
     "data": {
      "text/plain": [
       "(array([48672000.,        0.,        0.,        0.,        0.,        0.,\n",
       "               0.,        0.,        0., 48672000.]),\n",
       " array([-0.5, -0.4, -0.3, -0.2, -0.1,  0. ,  0.1,  0.2,  0.3,  0.4,  0.5]),\n",
       " <BarContainer object of 10 artists>)"
      ]
     },
     "execution_count": 10,
     "metadata": {},
     "output_type": "execute_result"
    },
    {
     "data": {
      "image/png": "[encoded data removed]",
      "text/plain": [
       "<Figure size 432x288 with 1 Axes>"
      ]
     },
     "metadata": {
      "needs_background": "light"
     },
     "output_type": "display_data"
    }
   ],
   "source": [
    "plt.hist(stim.ravel())"
   ]
  },
  {
   "cell_type": "code",
   "execution_count": 11,
   "metadata": {},
   "outputs": [],
   "source": [
    "if fps == 10:\n",
    "    tap = 8\n",
    "elif fps == 25:\n",
    "    tap = 20\n",
    "elif fps == 30:\n",
    "    tap = 24"
   ]
  },
  {
   "cell_type": "markdown",
   "metadata": {},
   "source": [
    "## calc STA and peak-to-peak difference for all RGCs"
   ]
  },
  {
   "cell_type": "code",
   "execution_count": 12,
   "metadata": {},
   "outputs": [
    {
     "name": "stdout",
     "output_type": "stream",
     "text": [
      "12a ON-OFF\n",
      "12b ON-OFF\n",
      "13a ON-OFF\n"
     ]
    },
    {
     "ename": "KeyboardInterrupt",
     "evalue": "",
     "output_type": "error",
     "traceback": [
      "\u001b[0;31m---------------------------------------------------------------------------\u001b[0m",
      "\u001b[0;31mKeyboardInterrupt\u001b[0m                         Traceback (most recent call last)",
      "\u001b[0;32m<ipython-input-12-a90d10a220bb>\u001b[0m in \u001b[0;36m<module>\u001b[0;34m\u001b[0m\n\u001b[1;32m     10\u001b[0m \u001b[0;34m\u001b[0m\u001b[0m\n\u001b[1;32m     11\u001b[0m \u001b[0;34m\u001b[0m\u001b[0m\n\u001b[0;32m---> 12\u001b[0;31m     \u001b[0mspike_triggered_stim\u001b[0m\u001b[0;34m,\u001b[0m \u001b[0mweights\u001b[0m \u001b[0;34m=\u001b[0m \u001b[0mpysta\u001b[0m\u001b[0;34m.\u001b[0m\u001b[0mgrab_spike_triggered_stim\u001b[0m\u001b[0;34m(\u001b[0m\u001b[0mstim\u001b[0m\u001b[0;34m,\u001b[0m \u001b[0mspike_counts\u001b[0m\u001b[0;34m[\u001b[0m\u001b[0mch_idx\u001b[0m\u001b[0;34m]\u001b[0m\u001b[0;34m,\u001b[0m \u001b[0mtap\u001b[0m\u001b[0;34m=\u001b[0m\u001b[0mtap\u001b[0m\u001b[0;34m)\u001b[0m\u001b[0;34m\u001b[0m\u001b[0;34m\u001b[0m\u001b[0m\n\u001b[0m\u001b[1;32m     13\u001b[0m \u001b[0;34m\u001b[0m\u001b[0m\n\u001b[1;32m     14\u001b[0m     \u001b[0msta\u001b[0m \u001b[0;34m=\u001b[0m \u001b[0mnp\u001b[0m\u001b[0;34m.\u001b[0m\u001b[0maverage\u001b[0m\u001b[0;34m(\u001b[0m\u001b[0mspike_triggered_stim\u001b[0m\u001b[0;34m,\u001b[0m \u001b[0mweights\u001b[0m\u001b[0;34m=\u001b[0m\u001b[0mweights\u001b[0m\u001b[0;34m,\u001b[0m \u001b[0maxis\u001b[0m\u001b[0;34m=\u001b[0m\u001b[0;36m0\u001b[0m\u001b[0;34m)\u001b[0m\u001b[0;34m\u001b[0m\u001b[0;34m\u001b[0m\u001b[0m\n",
      "\u001b[0;32m~/src/pysta2/pysta.py\u001b[0m in \u001b[0;36mgrab_spike_triggered_stim\u001b[0;34m(stim, spike, tap)\u001b[0m\n\u001b[1;32m     32\u001b[0m             \u001b[0mspike_count\u001b[0m\u001b[0;34m.\u001b[0m\u001b[0mappend\u001b[0m\u001b[0;34m(\u001b[0m\u001b[0msp\u001b[0m\u001b[0;34m)\u001b[0m\u001b[0;34m\u001b[0m\u001b[0;34m\u001b[0m\u001b[0m\n\u001b[1;32m     33\u001b[0m \u001b[0;34m\u001b[0m\u001b[0m\n\u001b[0;32m---> 34\u001b[0;31m     \u001b[0;32mreturn\u001b[0m \u001b[0mnp\u001b[0m\u001b[0;34m.\u001b[0m\u001b[0marray\u001b[0m\u001b[0;34m(\u001b[0m\u001b[0mspike_trigered_stim\u001b[0m\u001b[0;34m)\u001b[0m\u001b[0;34m,\u001b[0m \u001b[0mnp\u001b[0m\u001b[0;34m.\u001b[0m\u001b[0marray\u001b[0m\u001b[0;34m(\u001b[0m\u001b[0mspike_count\u001b[0m\u001b[0;34m)\u001b[0m\u001b[0;34m.\u001b[0m\u001b[0mastype\u001b[0m\u001b[0;34m(\u001b[0m\u001b[0mint\u001b[0m\u001b[0;34m)\u001b[0m\u001b[0;34m\u001b[0m\u001b[0;34m\u001b[0m\u001b[0m\n\u001b[0m\u001b[1;32m     35\u001b[0m \u001b[0;34m\u001b[0m\u001b[0m\n\u001b[1;32m     36\u001b[0m \u001b[0;34m\u001b[0m\u001b[0m\n",
      "\u001b[0;31mKeyboardInterrupt\u001b[0m: "
     ]
    }
   ],
   "source": [
    "# choose a channel\n",
    "sta_p2ps = []\n",
    "sta_psnrs = []\n",
    "\n",
    "for ch_idx in range(spike_counts.shape[0]):\n",
    "\n",
    "    channel_name = info['channel'][ch_idx]\n",
    "    cell_types = info['cell_type'][ch_idx]\n",
    "    print(channel_name, cell_types)\n",
    "    \n",
    "\n",
    "    spike_triggered_stim, weights = pysta.grab_spike_triggered_stim(stim, spike_counts[ch_idx], tap=tap)\n",
    "\n",
    "    sta = np.average(spike_triggered_stim, weights=weights, axis=0)\n",
    "    # sta.shape\n",
    "    \n",
    "    sta_p2ps.append(p2p(sta))\n",
    "    sta_psnrs.append(psnr(sta))\n",
    "\n",
    "#     print(spike_triggered_stim.shape)\n",
    "\n",
    "#     plot_spatio_temporal(sta, ylabel='STA') #, \n",
    "#     #                     fig_basename=os.path.join('figure', 'sta', channel_name))\n",
    "#     # plt.title(channel_name + '(%.2f)'.format)\n",
    "\n",
    "info['sta_p2p'] = sta_p2ps\n",
    "info['sta_psnr'] = sta_psnrs\n",
    "\n",
    "info.to_csv(dataset + '_sta.csv', index=None)"
   ]
  },
  {
   "cell_type": "markdown",
   "metadata": {},
   "source": [
    "## analyze results"
   ]
  },
  {
   "cell_type": "code",
   "execution_count": null,
   "metadata": {},
   "outputs": [],
   "source": [
    "# # dataset = '20201209'\n",
    "# # info = pd.read_csv('20201209_sta.csv')\n",
    "\n",
    "# dataset = '20201216'\n",
    "# info = pd.read_csv('20201216_sta.csv')\n"
   ]
  },
  {
   "cell_type": "code",
   "execution_count": null,
   "metadata": {},
   "outputs": [],
   "source": [
    "info['sta_p2p'].hist()\n",
    "plt.xlabel('STA peak-to-peak difference')\n",
    "plt.ylabel('count')\n",
    "box_off()"
   ]
  },
  {
   "cell_type": "code",
   "execution_count": null,
   "metadata": {},
   "outputs": [],
   "source": [
    "info['sta_psnr'].hist()\n",
    "plt.xlabel('STA PSNR')\n",
    "plt.ylabel('count')\n",
    "box_off()"
   ]
  },
  {
   "cell_type": "code",
   "execution_count": null,
   "metadata": {},
   "outputs": [],
   "source": [
    "idx_high_snr = info['sta_p2p'] >= 0.35\n",
    "info[idx_high_snr].sort_values(by='sta_p2p', ascending=False)"
   ]
  },
  {
   "cell_type": "code",
   "execution_count": null,
   "metadata": {},
   "outputs": [],
   "source": [
    "if len(info['cell_type'].value_counts()) == 3: # ON, OFF, Unknown\n",
    "    group_values = ['ON', 'OFF', 'Unknown']\n",
    "    color=['r','#00A0FF', '#A0A0A0']\n",
    "elif len(info['cell_type'].value_counts()) == 4: # ON, OFF, ON-OFF, Unknown\n",
    "    group_values = ['ON', 'OFF', 'ON-OFF', 'Unknown']\n",
    "    color=['r','#00A0FF','green', '#A0A0A0']    "
   ]
  },
  {
   "cell_type": "code",
   "execution_count": null,
   "metadata": {},
   "outputs": [],
   "source": [
    "info.groupby('cell_type', sort=False).mean()"
   ]
  },
  {
   "cell_type": "code",
   "execution_count": null,
   "metadata": {},
   "outputs": [],
   "source": [
    "plot_bar_by_group(info, 'sta_p2p',\n",
    "                  group_values = group_values, color=color)\n",
    "\n",
    "plt.ylim(0, 0.5)\n",
    "plt.savefig(\"figure/sta_{}_p2p_bar.pdf\".format(dataset), bbox_inches='tight')\n",
    "plt.savefig(\"figure/sta_{}_p2p_bar.png\".format(dataset), bbox_inches='tight')"
   ]
  },
  {
   "cell_type": "code",
   "execution_count": null,
   "metadata": {},
   "outputs": [],
   "source": [
    "# test significance: ON or OFF vs. ON/OFF\n",
    "data = groupby_dict(info, 'sta_p2p', 'cell_type')\n",
    "\n",
    "t, p = stats.ttest_ind(data['ON'], data['OFF'], equal_var=False)\n",
    "print(p)\n",
    "\n",
    "t, p = stats.ttest_ind(data['ON'] + data['OFF'], data['Unknown'], equal_var=False)\n",
    "print(p)"
   ]
  },
  {
   "cell_type": "code",
   "execution_count": null,
   "metadata": {},
   "outputs": [],
   "source": [
    "idx_high_snr = info['sta_psnr'] >= 8\n",
    "info[idx_high_snr].sort_values(by='sta_psnr', ascending=False)"
   ]
  },
  {
   "cell_type": "code",
   "execution_count": null,
   "metadata": {},
   "outputs": [],
   "source": [
    "plot_bar_by_group(info, 'sta_psnr',\n",
    "                  group_values = group_values, color=color)\n",
    "\n",
    "plt.savefig(\"figure/sta_{}_psnr_bar.pdf\".format(dataset), bbox_inches='tight')\n",
    "plt.savefig(\"figure/sta_{}_psnr_bar.png\".format(dataset), bbox_inches='tight')"
   ]
  },
  {
   "cell_type": "code",
   "execution_count": null,
   "metadata": {},
   "outputs": [],
   "source": [
    "# test significance: ON or OFF vs. ON/OFF\n",
    "data = groupby_dict(info, 'sta_psnr', 'cell_type')\n",
    "\n",
    "t, p = stats.ttest_ind(data['ON'], data['OFF'], equal_var=False)\n",
    "print(p)\n",
    "\n",
    "t, p = stats.ttest_ind(data['ON'] + data['OFF'], data['Unknown'], equal_var=False)\n",
    "print(p)\n",
    "\n",
    "# t, p = stats.ttest_ind(data['ON'] + data['OFF'], data['ON-OFF'], equal_var=False)\n",
    "# print(p)"
   ]
  },
  {
   "cell_type": "markdown",
   "metadata": {},
   "source": [
    "## spatio-temporal analysis of RF with ON or OFF RGC with high peak-to-peak difference"
   ]
  },
  {
   "cell_type": "code",
   "execution_count": null,
   "metadata": {},
   "outputs": [],
   "source": [
    "# choose a channel with highest p2p\n",
    "idx_on = info['cell_type'] == 'ON'\n",
    "idx_off = info['cell_type'] == 'OFF'\n",
    "idx = np.logical_or(idx_on, idx_off)\n",
    "\n",
    "ch_idx = info.loc[idx]['sta_p2p'].idxmax()\n",
    "# ch_idx = info.loc[idx]['sta_psnr'].idxmax()   #PSNR is better criteria"
   ]
  },
  {
   "cell_type": "code",
   "execution_count": null,
   "metadata": {},
   "outputs": [],
   "source": [
    "channel_name = info['channel'][ch_idx]\n",
    "cell_types = info['cell_type'][ch_idx]\n",
    "print(channel_name, cell_types)"
   ]
  },
  {
   "cell_type": "code",
   "execution_count": null,
   "metadata": {},
   "outputs": [],
   "source": [
    "if fps == 10:\n",
    "    tap = 8\n",
    "elif fps == 25:\n",
    "    tap = 20\n",
    "elif fps == 25:\n",
    "    tap = 24\n",
    "\n",
    "sta = pysta.calc_sta(stim, spike_counts[ch_idx], tap=tap)\n",
    "\n",
    "import os\n",
    "if not os.path.exists(os.path.join('figure', dataset)):\n",
    "    os.makedirs(os.path.join('figure', dataset))\n",
    "    \n",
    "plot_spatio_temporal(sta, \n",
    "                     width=width, height=height, dt=1000/fps,\n",
    "                     ylabel='STA',\n",
    "                     fig_basename=os.path.join('figure', dataset, channel_name+'_sta'))\n",
    "# plt.title(channel_name + '(%.2f)'.format)"
   ]
  },
  {
   "cell_type": "markdown",
   "metadata": {},
   "source": [
    "### spatial spectrum"
   ]
  },
  {
   "cell_type": "code",
   "execution_count": null,
   "metadata": {},
   "outputs": [],
   "source": [
    "calc_spatial_spectrum(sta)\n",
    "\n",
    "plt.savefig(os.path.join('figure',dataset, channel_name + '_sta_space_spectrum.pdf'))"
   ]
  },
  {
   "cell_type": "markdown",
   "metadata": {},
   "source": [
    "### temporal spectrum"
   ]
  },
  {
   "cell_type": "code",
   "execution_count": null,
   "metadata": {},
   "outputs": [],
   "source": [
    "plt.figure(figsize=(15,5))\n",
    "\n",
    "plt.subplot(121)\n",
    "plot_temporal_profile(sta, 1/fps)\n",
    "\n",
    "plt.subplot(122)\n",
    "plot_temporal_spectrum(sta, 1/fps)\n",
    "\n",
    "plt.savefig(os.path.join('figure',dataset, channel_name + '_sta_temp_spectrum.pdf'))"
   ]
  },
  {
   "cell_type": "code",
   "execution_count": null,
   "metadata": {},
   "outputs": [],
   "source": [
    "# actual frequency values\n",
    "rfftfreq(tap, 1/fps)"
   ]
  },
  {
   "cell_type": "markdown",
   "metadata": {},
   "source": [
    "## calc regularized STA"
   ]
  },
  {
   "cell_type": "code",
   "execution_count": null,
   "metadata": {},
   "outputs": [],
   "source": [
    "sta_reg = pysta.normalize_sta(stim, sta)"
   ]
  },
  {
   "cell_type": "code",
   "execution_count": null,
   "metadata": {
    "scrolled": true
   },
   "outputs": [],
   "source": [
    "plot_spatio_temporal(sta_reg, \n",
    "                     width=width, height=height, dt=1000/fps,\n",
    "                     ylabel='rSTA')\n",
    "#                      fig_basename=os.path.join('figure', 'rsta', channel_name))"
   ]
  },
  {
   "cell_type": "code",
   "execution_count": null,
   "metadata": {},
   "outputs": [],
   "source": [
    "# spatial spectrum\n",
    "calc_spatial_spectrum(sta_reg)\n",
    "\n",
    "plt.savefig(os.path.join('figure',dataset, channel_name + '_rsta_space_spectrum.pdf'))"
   ]
  },
  {
   "cell_type": "code",
   "execution_count": null,
   "metadata": {},
   "outputs": [],
   "source": [
    "plt.figure(figsize=(15,5))\n",
    "\n",
    "plt.subplot(121)\n",
    "plot_temporal_profile(sta_reg, 1/fps)\n",
    "\n",
    "plt.subplot(122)\n",
    "plot_temporal_spectrum(sta_reg, 1/fps)\n",
    "\n",
    "plt.savefig(os.path.join('figure',dataset, channel_name + '_rsta_temp_spectrum.pdf'))\n"
   ]
  },
  {
   "cell_type": "code",
   "execution_count": null,
   "metadata": {},
   "outputs": [],
   "source": []
  },
  {
   "cell_type": "code",
   "execution_count": null,
   "metadata": {},
   "outputs": [],
   "source": []
  }
 ],
 "metadata": {
  "kernelspec": {
   "display_name": "Python 3",
   "language": "python",
   "name": "python3"
  },
  "language_info": {
   "codemirror_mode": {
    "name": "ipython",
    "version": 3
   },
   "file_extension": ".py",
   "mimetype": "text/x-python",
   "name": "python",
   "nbconvert_exporter": "python",
   "pygments_lexer": "ipython3",
   "version": "3.7.9"
  }
 },
 "nbformat": 4,
 "nbformat_minor": 4
}
