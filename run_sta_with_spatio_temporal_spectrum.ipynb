{
 "cells": [
  {
   "cell_type": "code",
   "execution_count": 1,
   "metadata": {},
   "outputs": [],
   "source": [
    "import numpy as np\n",
    "import matplotlib.pyplot as plt\n",
    "from scipy import stats\n",
    "\n",
    "from scipy.fft import rfft, rfftfreq\n",
    "from scipy.fft import fft2\n",
    "from skimage.filters import window\n",
    "\n",
    "\n",
    "import os\n",
    "import sys\n",
    "cwd = os.getcwd()\n",
    "parent_dir = os.path.abspath(os.path.join(cwd, os.pardir))\n",
    "sys.path.insert(0, os.path.join(parent_dir, 'pysta2'))\n",
    "\n",
    "import pysta\n",
    "# import stc\n",
    "# import stcl\n",
    "\n",
    "# from stcl import load_centers\n",
    "\n",
    "import pandas as pd\n",
    "import os\n",
    "\n",
    "%load_ext autoreload\n",
    "%autoreload 2"
   ]
  },
  {
   "cell_type": "code",
   "execution_count": 2,
   "metadata": {},
   "outputs": [],
   "source": [
    "# helper functions for visualization\n",
    "def box_off():\n",
    "    ax = plt.gca()\n",
    "    ax.spines['top'].set_visible(False)\n",
    "    ax.spines['right'].set_visible(False)\n",
    "    \n",
    "def p2p(sta):\n",
    "    return np.max(sta) - np.min(sta)\n",
    "\n",
    "def psnr(sta):\n",
    "    return (np.max(sta.ravel()) - np.min(sta.ravel())) / np.std(sta.ravel())\n",
    "\n",
    "\n",
    "def plot_temporal_profile(sta, dt):\n",
    "    tap = sta.shape[-1]\n",
    "#     figsize = (5.5,3.5)\n",
    "#     plt.figure(figsize=figsize)\n",
    "    pysta.plot_temporal_profile(sta, tap, dt, ylim=[-0.5,0.5])\n",
    "    plt.ylabel('STA')\n",
    "    print('peak-to-peak diff. = {:.2f}'.format(p2p(sta)))\n",
    "    # print('PSNR = {:.2f}'.format(psnr(sta)))\n",
    "\n",
    "    plt.title('peak-to-peak diff. = {:.2f}'.format(p2p(sta)))\n",
    "#     plt.xlabel('ms')\n",
    "    \n",
    "    \n",
    "def plot_temporal_spectrum(sta, dt):\n",
    "    wt = rfft(sta, axis=1)\n",
    "    \n",
    "    N = sta.shape[1]\n",
    "    fs = rfftfreq(N, dt)\n",
    "    \n",
    "    plt.plot(fs, np.abs(wt.T), 'o-')\n",
    "    plt.xlabel('Hz')\n",
    "    plt.ylabel('FFT amplitude')\n",
    "\n",
    "    box_off()\n",
    "\n",
    "\n",
    "def plot_spatial_spectrum(sta_slice, windowing='hann', pixel_size=1, precision=0):\n",
    "    assert len(sta_slice.shape)==2\n",
    "    \n",
    "    def set_ticks(ax, fs, precision=precision):\n",
    "        ticks = range(0, len(fs))\n",
    "        ticklabels = fs\n",
    "\n",
    "        #         ticklabels = [\"{:.0f}\".format(p) for p in (fs[:half_N+1]/pixel_size)]\n",
    "        ax.set_xticks(ticks)\n",
    "        ax.set_xticklabels(ticklabels)\n",
    "        ax.set_xlim(-0.5, len(fs)-0.5)\n",
    "#         from matplotlib.ticker import FormatStrFormatter\n",
    "#         ax.xaxis.set_major_formatter(FormatStrFormatter('%.0f'))\n",
    "        \n",
    "        ax.set_yticks(ticks)\n",
    "        ax.set_yticklabels(ticklabels)\n",
    "        ax.set_ylim(-0.5, len(fs)-0.5)\n",
    "\n",
    "        \n",
    "    w = fft2(sta_slice * window(windowing, sta_slice.shape))\n",
    "\n",
    "    fs = rfftfreq(sta_slice.shape[0])\n",
    "    \n",
    "    plt.imshow(np.abs(w[:len(fs),:len(fs)]), cmap='gray', origin='lower')\n",
    "\n",
    "    set_ticks(plt.gca(), fs, precision=3)\n",
    "    \n",
    "    plt.xlabel('frequency')\n",
    "    plt.ylabel('frequency')\n",
    "    \n",
    "    \n",
    "def plot_spatio_temporal(sta, height=13, width=13, dt=1000/30, ylabel=None, fig_basename=None):        \n",
    "    tap = sta.shape[-1]\n",
    "    figsize = (5.5,3.5)\n",
    "    plt.figure(figsize=figsize)\n",
    "    \n",
    "    plot_temporal_profile(sta, dt)\n",
    "    \n",
    "    \n",
    "#     pysta.plot_temporal_profile(sta, tap, dt, ylim=[-0.5,0.5])\n",
    "#     if ylabel is not None:\n",
    "#         plt.ylabel(ylabel)\n",
    "#     print('peak-to-peak diff. = {:.2f}'.format(p2p(sta)))\n",
    "#     print('PSNR = {:.2f}'.format(psnr(sta)))\n",
    "# #     plt.title('peak diff. = {:.2f}'.format(p2p(sta)))\n",
    "#     plt.xlabel(None)\n",
    "\n",
    "    if fig_basename is not None:\n",
    "        plt.savefig(fig_basename + '_temp.pdf', bbox_inches='tight') # https://stackoverflow.com/a/4046233\n",
    "\n",
    "    plt.figure()\n",
    "    pysta.plot_stim_slices(sta, height=height, width=width, dt=dt, vmin=-0.5, vmax=0.5)\n",
    "\n",
    "#     plt.tight_layout()\n",
    "    \n",
    "    if fig_basename is not None:\n",
    "        plt.savefig(fig_basename + '_spatial.pdf', bbox_inches='tight')\n",
    "    \n",
    "    \n",
    "def groupby_dict(df, col, group):\n",
    "    data = dict()\n",
    "    for group_val, d in df.groupby(group):\n",
    "#         print(group_val)\n",
    "        data[group_val] = d[col].to_list()\n",
    "    return data\n",
    "\n",
    "\n",
    "def plot_bar_by_group(info, col, \n",
    "                      groupby='cell_type', \n",
    "                      group_values = ['ON', 'OFF', 'ON-OFF', 'Unknown'], color=['r','#00A0FF','green', '#A0A0A0']):\n",
    "    \n",
    "    means = info.groupby(groupby)[col].mean()[group_values]\n",
    "    sems = info.groupby(groupby)[col].sem()[group_values]\n",
    "\n",
    "    plt.bar(group_values, means, yerr=sems,\n",
    "            width=0.4, color=color, edgecolor='k', linewidth=1,\n",
    "            capsize=5)\n",
    "    \n",
    "    plt.ylabel(col)\n",
    "    plt.xlabel('cell type')\n",
    "    \n",
    "    plt.xlim(-0.5, len(group_values)-0.5)\n",
    "    box_off()"
   ]
  },
  {
   "cell_type": "markdown",
   "metadata": {},
   "source": [
    "Let's re-plot old Figure 3 (ON-OFF cell) for all the methods"
   ]
  },
  {
   "cell_type": "markdown",
   "metadata": {},
   "source": [
    "## load data"
   ]
  },
  {
   "cell_type": "code",
   "execution_count": 3,
   "metadata": {},
   "outputs": [],
   "source": [
    "# data_path = 'data'\n",
    "\n",
    "# # dataset = '20201209'\n",
    "# # width = 26\n",
    "# # height = 26\n",
    "\n",
    "# # dataset = '20201216'\n",
    "# # width = 13\n",
    "# # height = 13\n",
    "\n",
    "# dataset = '20180626'\n",
    "# width = 8\n",
    "# height = 8\n",
    "# fps = 10"
   ]
  },
  {
   "cell_type": "code",
   "execution_count": 4,
   "metadata": {},
   "outputs": [
    {
     "data": {
      "text/plain": [
       "'20180828_8pix_10Hz'"
      ]
     },
     "execution_count": 4,
     "metadata": {},
     "output_type": "execute_result"
    }
   ],
   "source": [
    "# different spatial & temporal resolutions (2018.08.28)\n",
    "data_path = 'data'\n",
    "\n",
    "width = 8\n",
    "height = 8\n",
    "fps = 10\n",
    "\n",
    "# width = 8\n",
    "# height = 8\n",
    "# fps = 25\n",
    "\n",
    "# width = 13\n",
    "# height = 13\n",
    "# fps = 10\n",
    "\n",
    "# width = 26\n",
    "# height = 26\n",
    "# fps = 10\n",
    "\n",
    "dataset = '20180828_{}pix_{}Hz'.format(width,fps)\n",
    "dataset"
   ]
  },
  {
   "cell_type": "code",
   "execution_count": 5,
   "metadata": {},
   "outputs": [],
   "source": [
    "# gaussian stim with the highest contrast\n",
    "data_path = 'data_gaussian'\n",
    "dataset = 'contrast100'\n",
    "\n",
    "width = 8\n",
    "height = 8\n",
    "fps = 10"
   ]
  },
  {
   "cell_type": "code",
   "execution_count": null,
   "metadata": {},
   "outputs": [],
   "source": []
  },
  {
   "cell_type": "code",
   "execution_count": 6,
   "metadata": {},
   "outputs": [
    {
     "data": {
      "text/plain": [
       "106"
      ]
     },
     "execution_count": 6,
     "metadata": {},
     "output_type": "execute_result"
    }
   ],
   "source": [
    "data = np.load(os.path.join(data_path, dataset + '.npz'))\n",
    "info = pd.read_csv(os.path.join(data_path, dataset + '_info.csv'))\n",
    "\n",
    "\n",
    "stim = data['stim'] - 0.5\n",
    "spike_counts = data['spike_counts']\n",
    "\n",
    "len(info)"
   ]
  },
  {
   "cell_type": "code",
   "execution_count": 7,
   "metadata": {},
   "outputs": [],
   "source": [
    "if fps == 10:\n",
    "    tap = 8\n",
    "elif fps == 25:\n",
    "    tap = 20"
   ]
  },
  {
   "cell_type": "markdown",
   "metadata": {},
   "source": [
    "## calc STA and peak-to-peak difference for all RGCs"
   ]
  },
  {
   "cell_type": "code",
   "execution_count": 8,
   "metadata": {},
   "outputs": [
    {
     "name": "stdout",
     "output_type": "stream",
     "text": [
      "ch_12a ON-OFF\n",
      "ch_13a ON\n",
      "ch_13b ON\n",
      "ch_14a ON\n",
      "ch_14b ON-OFF\n",
      "ch_14c OFF\n",
      "ch_16a ON\n",
      "ch_16b ON\n",
      "ch_17a ON-OFF\n",
      "ch_17b ON\n",
      "ch_17c ON\n",
      "ch_17d ON\n",
      "ch_21a ON-OFF\n",
      "ch_21b ON\n",
      "ch_21c ON\n",
      "ch_22a Unknown\n",
      "ch_22b ON\n",
      "ch_22c OFF\n",
      "ch_23a ON\n",
      "ch_23b ON\n",
      "ch_23c Unknown\n",
      "ch_24a ON-OFF\n",
      "ch_24b OFF\n",
      "ch_25a OFF\n",
      "ch_25b ON\n",
      "ch_26a OFF\n",
      "ch_26b Unknown\n",
      "ch_26c ON\n",
      "ch_26d ON\n",
      "ch_28a ON-OFF\n",
      "ch_28b OFF\n",
      "ch_28c Unknown\n",
      "ch_28d Unknown\n",
      "ch_31a Unknown\n",
      "ch_31b ON\n",
      "ch_32a Unknown\n",
      "ch_32b ON\n",
      "ch_34a ON-OFF\n",
      "ch_34b OFF\n",
      "ch_35a ON\n",
      "ch_35b ON-OFF\n",
      "ch_35c ON\n",
      "ch_35d Unknown\n",
      "ch_36a ON-OFF\n",
      "ch_36b ON\n",
      "ch_37a ON-OFF\n",
      "ch_37b OFF\n",
      "ch_37c ON\n",
      "ch_37d Unknown\n",
      "ch_38a OFF\n",
      "ch_38b ON-OFF\n",
      "ch_41a ON\n",
      "ch_41b ON\n",
      "ch_42a ON\n",
      "ch_42b ON\n",
      "ch_43a ON\n",
      "ch_45a ON-OFF\n",
      "ch_45b ON\n",
      "ch_45c ON\n",
      "ch_46a ON-OFF\n",
      "ch_46b ON\n",
      "ch_47a ON\n",
      "ch_47b ON-OFF\n",
      "ch_47c ON\n",
      "ch_47d ON\n",
      "ch_48a ON-OFF\n",
      "ch_48b ON-OFF\n",
      "ch_48c Unknown\n",
      "ch_48d ON\n",
      "ch_48e ON\n",
      "ch_51a Unknown\n",
      "ch_51b ON\n",
      "ch_52a ON-OFF\n",
      "ch_54a ON\n",
      "ch_55a OFF\n",
      "ch_55b ON-OFF\n",
      "ch_56a ON-OFF\n",
      "ch_57a ON-OFF\n",
      "ch_58a Unknown\n",
      "ch_58b ON-OFF\n",
      "ch_64a OFF\n",
      "ch_64b ON-OFF\n",
      "ch_65a ON-OFF\n",
      "ch_65b ON\n",
      "ch_68a ON-OFF\n",
      "ch_68b ON-OFF\n",
      "ch_71a ON-OFF\n",
      "ch_71b OFF\n",
      "ch_73a OFF\n",
      "ch_73b ON-OFF\n",
      "ch_74a ON-OFF\n",
      "ch_74b ON\n",
      "ch_74c ON\n",
      "ch_75a OFF\n",
      "ch_77a Unknown\n",
      "ch_78a OFF\n",
      "ch_78b ON-OFF\n",
      "ch_78c ON\n",
      "ch_82a ON-OFF\n",
      "ch_83a ON-OFF\n",
      "ch_84a ON-OFF\n",
      "ch_86a OFF\n",
      "ch_86b OFF\n",
      "ch_87a ON-OFF\n",
      "ch_87b ON-OFF\n",
      "ch_87c ON\n"
     ]
    }
   ],
   "source": [
    "# choose a channel\n",
    "sta_p2ps = []\n",
    "sta_psnrs = []\n",
    "\n",
    "for ch_idx in range(spike_counts.shape[0]):\n",
    "\n",
    "    channel_name = info['channel'][ch_idx]\n",
    "    cell_types = info['cell_type'][ch_idx]\n",
    "    print(channel_name, cell_types)\n",
    "    \n",
    "\n",
    "    spike_triggered_stim, weights = pysta.grab_spike_triggered_stim(stim, spike_counts[ch_idx], tap=tap)\n",
    "\n",
    "    sta = np.average(spike_triggered_stim, weights=weights, axis=0)\n",
    "    # sta.shape\n",
    "    \n",
    "    sta_p2ps.append(p2p(sta))\n",
    "    sta_psnrs.append(psnr(sta))\n",
    "\n",
    "#     print(spike_triggered_stim.shape)\n",
    "\n",
    "#     plot_spatio_temporal(sta, ylabel='STA') #, \n",
    "#     #                     fig_basename=os.path.join('figure', 'sta', channel_name))\n",
    "#     # plt.title(channel_name + '(%.2f)'.format)\n",
    "\n",
    "info['sta_p2p'] = sta_p2ps\n",
    "info['sta_psnr'] = sta_psnrs\n",
    "\n",
    "info.to_csv(dataset + '_sta.csv', index=None)"
   ]
  },
  {
   "cell_type": "markdown",
   "metadata": {},
   "source": [
    "## analyze results"
   ]
  },
  {
   "cell_type": "code",
   "execution_count": 9,
   "metadata": {},
   "outputs": [],
   "source": [
    "# # dataset = '20201209'\n",
    "# # info = pd.read_csv('20201209_sta.csv')\n",
    "\n",
    "# dataset = '20201216'\n",
    "# info = pd.read_csv('20201216_sta.csv')\n"
   ]
  },
  {
   "cell_type": "code",
   "execution_count": 10,
   "metadata": {},
   "outputs": [
    {
     "data": {
      "image/png": "[encoded data removed]",
      "text/plain": [
       "<Figure size 432x288 with 1 Axes>"
      ]
     },
     "metadata": {
      "needs_background": "light"
     },
     "output_type": "display_data"
    }
   ],
   "source": [
    "info['sta_p2p'].hist()\n",
    "plt.xlabel('STA peak-to-peak difference')\n",
    "plt.ylabel('count')\n",
    "box_off()"
   ]
  },
  {
   "cell_type": "code",
   "execution_count": 11,
   "metadata": {},
   "outputs": [
    {
     "data": {
      "image/png": "[encoded data removed]",
      "text/plain": [
       "<Figure size 432x288 with 1 Axes>"
      ]
     },
     "metadata": {
      "needs_background": "light"
     },
     "output_type": "display_data"
    }
   ],
   "source": [
    "info['sta_psnr'].hist()\n",
    "plt.xlabel('STA PSNR')\n",
    "plt.ylabel('count')\n",
    "box_off()"
   ]
  },
  {
   "cell_type": "code",
   "execution_count": 12,
   "metadata": {},
   "outputs": [
    {
     "data": {
      "text/html": [
       "<div>\n",
       "<style scoped>\n",
       "    .dataframe tbody tr th:only-of-type {\n",
       "        vertical-align: middle;\n",
       "    }\n",
       "\n",
       "    .dataframe tbody tr th {\n",
       "        vertical-align: top;\n",
       "    }\n",
       "\n",
       "    .dataframe thead th {\n",
       "        text-align: right;\n",
       "    }\n",
       "</style>\n",
       "<table border=\"1\" class=\"dataframe\">\n",
       "  <thead>\n",
       "    <tr style=\"text-align: right;\">\n",
       "      <th></th>\n",
       "      <th>channel</th>\n",
       "      <th>cell_type</th>\n",
       "      <th>number of spikes</th>\n",
       "      <th>sta std</th>\n",
       "      <th>sta max</th>\n",
       "      <th>sta min</th>\n",
       "      <th>sta_p2p</th>\n",
       "      <th>sta_psnr</th>\n",
       "    </tr>\n",
       "  </thead>\n",
       "  <tbody>\n",
       "    <tr>\n",
       "      <th>70</th>\n",
       "      <td>ch_51a</td>\n",
       "      <td>Unknown</td>\n",
       "      <td>748</td>\n",
       "      <td>0.023695</td>\n",
       "      <td>0.938456</td>\n",
       "      <td>0.362703</td>\n",
       "      <td>0.575753</td>\n",
       "      <td>22.356631</td>\n",
       "    </tr>\n",
       "    <tr>\n",
       "      <th>52</th>\n",
       "      <td>ch_41b</td>\n",
       "      <td>ON</td>\n",
       "      <td>1280</td>\n",
       "      <td>0.022052</td>\n",
       "      <td>0.892096</td>\n",
       "      <td>0.445768</td>\n",
       "      <td>0.446327</td>\n",
       "      <td>18.798149</td>\n",
       "    </tr>\n",
       "    <tr>\n",
       "      <th>68</th>\n",
       "      <td>ch_48d</td>\n",
       "      <td>ON</td>\n",
       "      <td>4279</td>\n",
       "      <td>0.016892</td>\n",
       "      <td>0.838096</td>\n",
       "      <td>0.438113</td>\n",
       "      <td>0.399455</td>\n",
       "      <td>21.776471</td>\n",
       "    </tr>\n",
       "    <tr>\n",
       "      <th>105</th>\n",
       "      <td>ch_87c</td>\n",
       "      <td>ON</td>\n",
       "      <td>5117</td>\n",
       "      <td>0.016004</td>\n",
       "      <td>0.733737</td>\n",
       "      <td>0.338609</td>\n",
       "      <td>0.395361</td>\n",
       "      <td>22.761882</td>\n",
       "    </tr>\n",
       "    <tr>\n",
       "      <th>92</th>\n",
       "      <td>ch_74c</td>\n",
       "      <td>ON</td>\n",
       "      <td>8095</td>\n",
       "      <td>0.015104</td>\n",
       "      <td>0.726142</td>\n",
       "      <td>0.336820</td>\n",
       "      <td>0.389176</td>\n",
       "      <td>23.717369</td>\n",
       "    </tr>\n",
       "    <tr>\n",
       "      <th>87</th>\n",
       "      <td>ch_71b</td>\n",
       "      <td>OFF</td>\n",
       "      <td>1358</td>\n",
       "      <td>0.019762</td>\n",
       "      <td>0.762100</td>\n",
       "      <td>0.375838</td>\n",
       "      <td>0.386263</td>\n",
       "      <td>18.175707</td>\n",
       "    </tr>\n",
       "    <tr>\n",
       "      <th>78</th>\n",
       "      <td>ch_58a</td>\n",
       "      <td>Unknown</td>\n",
       "      <td>770</td>\n",
       "      <td>0.020992</td>\n",
       "      <td>0.699960</td>\n",
       "      <td>0.318880</td>\n",
       "      <td>0.380984</td>\n",
       "      <td>17.006550</td>\n",
       "    </tr>\n",
       "    <tr>\n",
       "      <th>47</th>\n",
       "      <td>ch_37c</td>\n",
       "      <td>ON</td>\n",
       "      <td>3646</td>\n",
       "      <td>0.015716</td>\n",
       "      <td>0.812484</td>\n",
       "      <td>0.438070</td>\n",
       "      <td>0.374644</td>\n",
       "      <td>21.811326</td>\n",
       "    </tr>\n",
       "    <tr>\n",
       "      <th>41</th>\n",
       "      <td>ch_35c</td>\n",
       "      <td>ON</td>\n",
       "      <td>8689</td>\n",
       "      <td>0.014652</td>\n",
       "      <td>0.701510</td>\n",
       "      <td>0.333548</td>\n",
       "      <td>0.367961</td>\n",
       "      <td>23.001142</td>\n",
       "    </tr>\n",
       "    <tr>\n",
       "      <th>51</th>\n",
       "      <td>ch_41a</td>\n",
       "      <td>ON</td>\n",
       "      <td>5911</td>\n",
       "      <td>0.014084</td>\n",
       "      <td>0.720316</td>\n",
       "      <td>0.357797</td>\n",
       "      <td>0.362520</td>\n",
       "      <td>23.548625</td>\n",
       "    </tr>\n",
       "    <tr>\n",
       "      <th>19</th>\n",
       "      <td>ch_23b</td>\n",
       "      <td>ON</td>\n",
       "      <td>7011</td>\n",
       "      <td>0.016442</td>\n",
       "      <td>0.711833</td>\n",
       "      <td>0.358891</td>\n",
       "      <td>0.352903</td>\n",
       "      <td>19.665957</td>\n",
       "    </tr>\n",
       "  </tbody>\n",
       "</table>\n",
       "</div>"
      ],
      "text/plain": [
       "    channel cell_type  number of spikes   sta std   sta max   sta min  \\\n",
       "70   ch_51a   Unknown               748  0.023695  0.938456  0.362703   \n",
       "52   ch_41b        ON              1280  0.022052  0.892096  0.445768   \n",
       "68   ch_48d        ON              4279  0.016892  0.838096  0.438113   \n",
       "105  ch_87c        ON              5117  0.016004  0.733737  0.338609   \n",
       "92   ch_74c        ON              8095  0.015104  0.726142  0.336820   \n",
       "87   ch_71b       OFF              1358  0.019762  0.762100  0.375838   \n",
       "78   ch_58a   Unknown               770  0.020992  0.699960  0.318880   \n",
       "47   ch_37c        ON              3646  0.015716  0.812484  0.438070   \n",
       "41   ch_35c        ON              8689  0.014652  0.701510  0.333548   \n",
       "51   ch_41a        ON              5911  0.014084  0.720316  0.357797   \n",
       "19   ch_23b        ON              7011  0.016442  0.711833  0.358891   \n",
       "\n",
       "      sta_p2p   sta_psnr  \n",
       "70   0.575753  22.356631  \n",
       "52   0.446327  18.798149  \n",
       "68   0.399455  21.776471  \n",
       "105  0.395361  22.761882  \n",
       "92   0.389176  23.717369  \n",
       "87   0.386263  18.175707  \n",
       "78   0.380984  17.006550  \n",
       "47   0.374644  21.811326  \n",
       "41   0.367961  23.001142  \n",
       "51   0.362520  23.548625  \n",
       "19   0.352903  19.665957  "
      ]
     },
     "execution_count": 12,
     "metadata": {},
     "output_type": "execute_result"
    }
   ],
   "source": [
    "idx_high_snr = info['sta_p2p'] >= 0.35\n",
    "info[idx_high_snr].sort_values(by='sta_p2p', ascending=False)"
   ]
  },
  {
   "cell_type": "code",
   "execution_count": 13,
   "metadata": {},
   "outputs": [],
   "source": [
    "if len(info['cell_type'].value_counts()) == 3: # ON, OFF, Unknown\n",
    "    group_values = ['ON', 'OFF', 'Unknown']\n",
    "    color=['r','#00A0FF', '#A0A0A0']\n",
    "elif len(info['cell_type'].value_counts()) == 4: # ON, OFF, ON-OFF, Unknown\n",
    "    group_values = ['ON', 'OFF', 'ON-OFF', 'Unknown']\n",
    "    color=['r','#00A0FF','green', '#A0A0A0']    "
   ]
  },
  {
   "cell_type": "code",
   "execution_count": 14,
   "metadata": {},
   "outputs": [
    {
     "data": {
      "text/html": [
       "<div>\n",
       "<style scoped>\n",
       "    .dataframe tbody tr th:only-of-type {\n",
       "        vertical-align: middle;\n",
       "    }\n",
       "\n",
       "    .dataframe tbody tr th {\n",
       "        vertical-align: top;\n",
       "    }\n",
       "\n",
       "    .dataframe thead th {\n",
       "        text-align: right;\n",
       "    }\n",
       "</style>\n",
       "<table border=\"1\" class=\"dataframe\">\n",
       "  <thead>\n",
       "    <tr style=\"text-align: right;\">\n",
       "      <th></th>\n",
       "      <th>number of spikes</th>\n",
       "      <th>sta std</th>\n",
       "      <th>sta max</th>\n",
       "      <th>sta min</th>\n",
       "      <th>sta_p2p</th>\n",
       "      <th>sta_psnr</th>\n",
       "    </tr>\n",
       "    <tr>\n",
       "      <th>cell_type</th>\n",
       "      <th></th>\n",
       "      <th></th>\n",
       "      <th></th>\n",
       "      <th></th>\n",
       "      <th></th>\n",
       "      <th></th>\n",
       "    </tr>\n",
       "  </thead>\n",
       "  <tbody>\n",
       "    <tr>\n",
       "      <th>ON-OFF</th>\n",
       "      <td>16609.382353</td>\n",
       "      <td>0.007116</td>\n",
       "      <td>0.569409</td>\n",
       "      <td>0.462052</td>\n",
       "      <td>0.107317</td>\n",
       "      <td>13.877413</td>\n",
       "    </tr>\n",
       "    <tr>\n",
       "      <th>ON</th>\n",
       "      <td>8980.523810</td>\n",
       "      <td>0.011152</td>\n",
       "      <td>0.620176</td>\n",
       "      <td>0.442516</td>\n",
       "      <td>0.177489</td>\n",
       "      <td>14.030017</td>\n",
       "    </tr>\n",
       "    <tr>\n",
       "      <th>OFF</th>\n",
       "      <td>14488.588235</td>\n",
       "      <td>0.009704</td>\n",
       "      <td>0.613810</td>\n",
       "      <td>0.434200</td>\n",
       "      <td>0.179539</td>\n",
       "      <td>17.052015</td>\n",
       "    </tr>\n",
       "    <tr>\n",
       "      <th>Unknown</th>\n",
       "      <td>5303.846154</td>\n",
       "      <td>0.013991</td>\n",
       "      <td>0.629886</td>\n",
       "      <td>0.426120</td>\n",
       "      <td>0.202710</td>\n",
       "      <td>12.781634</td>\n",
       "    </tr>\n",
       "  </tbody>\n",
       "</table>\n",
       "</div>"
      ],
      "text/plain": [
       "           number of spikes   sta std   sta max   sta min   sta_p2p   sta_psnr\n",
       "cell_type                                                                     \n",
       "ON-OFF         16609.382353  0.007116  0.569409  0.462052  0.107317  13.877413\n",
       "ON              8980.523810  0.011152  0.620176  0.442516  0.177489  14.030017\n",
       "OFF            14488.588235  0.009704  0.613810  0.434200  0.179539  17.052015\n",
       "Unknown         5303.846154  0.013991  0.629886  0.426120  0.202710  12.781634"
      ]
     },
     "execution_count": 14,
     "metadata": {},
     "output_type": "execute_result"
    }
   ],
   "source": [
    "info.groupby('cell_type', sort=False).mean()"
   ]
  },
  {
   "cell_type": "code",
   "execution_count": 15,
   "metadata": {},
   "outputs": [
    {
     "data": {
      "image/png": "[encoded data removed]",
      "text/plain": [
       "<Figure size 432x288 with 1 Axes>"
      ]
     },
     "metadata": {
      "needs_background": "light"
     },
     "output_type": "display_data"
    }
   ],
   "source": [
    "plot_bar_by_group(info, 'sta_p2p',\n",
    "                  group_values = group_values, color=color)\n",
    "\n",
    "plt.ylim(0, 0.5)\n",
    "plt.savefig(\"figure/sta/{}_p2p_bar.pdf\".format(dataset), bbox_inches='tight')\n",
    "plt.savefig(\"figure/sta/{}_p2p_bar.png\".format(dataset), bbox_inches='tight')"
   ]
  },
  {
   "cell_type": "code",
   "execution_count": 16,
   "metadata": {},
   "outputs": [
    {
     "name": "stdout",
     "output_type": "stream",
     "text": [
      "0.9439356418103438\n",
      "0.5921266005632457\n"
     ]
    }
   ],
   "source": [
    "# test significance: ON or OFF vs. ON/OFF\n",
    "data = groupby_dict(info, 'sta_p2p', 'cell_type')\n",
    "\n",
    "t, p = stats.ttest_ind(data['ON'], data['OFF'], equal_var=False)\n",
    "print(p)\n",
    "\n",
    "t, p = stats.ttest_ind(data['ON'] + data['OFF'], data['Unknown'], equal_var=False)\n",
    "print(p)"
   ]
  },
  {
   "cell_type": "code",
   "execution_count": 17,
   "metadata": {},
   "outputs": [
    {
     "data": {
      "text/html": [
       "<div>\n",
       "<style scoped>\n",
       "    .dataframe tbody tr th:only-of-type {\n",
       "        vertical-align: middle;\n",
       "    }\n",
       "\n",
       "    .dataframe tbody tr th {\n",
       "        vertical-align: top;\n",
       "    }\n",
       "\n",
       "    .dataframe thead th {\n",
       "        text-align: right;\n",
       "    }\n",
       "</style>\n",
       "<table border=\"1\" class=\"dataframe\">\n",
       "  <thead>\n",
       "    <tr style=\"text-align: right;\">\n",
       "      <th></th>\n",
       "      <th>channel</th>\n",
       "      <th>cell_type</th>\n",
       "      <th>number of spikes</th>\n",
       "      <th>sta std</th>\n",
       "      <th>sta max</th>\n",
       "      <th>sta min</th>\n",
       "      <th>sta_p2p</th>\n",
       "      <th>sta_psnr</th>\n",
       "    </tr>\n",
       "  </thead>\n",
       "  <tbody>\n",
       "    <tr>\n",
       "      <th>1</th>\n",
       "      <td>ch_13a</td>\n",
       "      <td>ON</td>\n",
       "      <td>34400</td>\n",
       "      <td>0.004449</td>\n",
       "      <td>0.524178</td>\n",
       "      <td>0.486052</td>\n",
       "      <td>0.038108</td>\n",
       "      <td>8.372716</td>\n",
       "    </tr>\n",
       "    <tr>\n",
       "      <th>2</th>\n",
       "      <td>ch_13b</td>\n",
       "      <td>ON</td>\n",
       "      <td>9483</td>\n",
       "      <td>0.007966</td>\n",
       "      <td>0.561088</td>\n",
       "      <td>0.479195</td>\n",
       "      <td>0.081927</td>\n",
       "      <td>9.546151</td>\n",
       "    </tr>\n",
       "    <tr>\n",
       "      <th>8</th>\n",
       "      <td>ch_17a</td>\n",
       "      <td>ON-OFF</td>\n",
       "      <td>10553</td>\n",
       "      <td>0.004830</td>\n",
       "      <td>0.522330</td>\n",
       "      <td>0.478669</td>\n",
       "      <td>0.043356</td>\n",
       "      <td>8.637318</td>\n",
       "    </tr>\n",
       "    <tr>\n",
       "      <th>14</th>\n",
       "      <td>ch_21c</td>\n",
       "      <td>ON</td>\n",
       "      <td>744</td>\n",
       "      <td>0.021098</td>\n",
       "      <td>0.678991</td>\n",
       "      <td>0.437334</td>\n",
       "      <td>0.241657</td>\n",
       "      <td>10.751853</td>\n",
       "    </tr>\n",
       "    <tr>\n",
       "      <th>16</th>\n",
       "      <td>ch_22b</td>\n",
       "      <td>ON</td>\n",
       "      <td>9427</td>\n",
       "      <td>0.006506</td>\n",
       "      <td>0.561001</td>\n",
       "      <td>0.479463</td>\n",
       "      <td>0.081545</td>\n",
       "      <td>12.176788</td>\n",
       "    </tr>\n",
       "    <tr>\n",
       "      <th>...</th>\n",
       "      <td>...</td>\n",
       "      <td>...</td>\n",
       "      <td>...</td>\n",
       "      <td>...</td>\n",
       "      <td>...</td>\n",
       "      <td>...</td>\n",
       "      <td>...</td>\n",
       "      <td>...</td>\n",
       "    </tr>\n",
       "    <tr>\n",
       "      <th>101</th>\n",
       "      <td>ch_86a</td>\n",
       "      <td>OFF</td>\n",
       "      <td>8918</td>\n",
       "      <td>0.011459</td>\n",
       "      <td>0.685100</td>\n",
       "      <td>0.391667</td>\n",
       "      <td>0.293403</td>\n",
       "      <td>23.400269</td>\n",
       "    </tr>\n",
       "    <tr>\n",
       "      <th>102</th>\n",
       "      <td>ch_86b</td>\n",
       "      <td>OFF</td>\n",
       "      <td>11685</td>\n",
       "      <td>0.006805</td>\n",
       "      <td>0.588128</td>\n",
       "      <td>0.460443</td>\n",
       "      <td>0.127718</td>\n",
       "      <td>17.559977</td>\n",
       "    </tr>\n",
       "    <tr>\n",
       "      <th>103</th>\n",
       "      <td>ch_87a</td>\n",
       "      <td>ON-OFF</td>\n",
       "      <td>23387</td>\n",
       "      <td>0.006672</td>\n",
       "      <td>0.582740</td>\n",
       "      <td>0.455379</td>\n",
       "      <td>0.127247</td>\n",
       "      <td>17.737024</td>\n",
       "    </tr>\n",
       "    <tr>\n",
       "      <th>104</th>\n",
       "      <td>ch_87b</td>\n",
       "      <td>ON-OFF</td>\n",
       "      <td>4304</td>\n",
       "      <td>0.008134</td>\n",
       "      <td>0.554649</td>\n",
       "      <td>0.471234</td>\n",
       "      <td>0.083376</td>\n",
       "      <td>9.993480</td>\n",
       "    </tr>\n",
       "    <tr>\n",
       "      <th>105</th>\n",
       "      <td>ch_87c</td>\n",
       "      <td>ON</td>\n",
       "      <td>5117</td>\n",
       "      <td>0.016004</td>\n",
       "      <td>0.733737</td>\n",
       "      <td>0.338609</td>\n",
       "      <td>0.395361</td>\n",
       "      <td>22.761882</td>\n",
       "    </tr>\n",
       "  </tbody>\n",
       "</table>\n",
       "<p>90 rows × 8 columns</p>\n",
       "</div>"
      ],
      "text/plain": [
       "    channel cell_type  number of spikes   sta std   sta max   sta min  \\\n",
       "1    ch_13a        ON             34400  0.004449  0.524178  0.486052   \n",
       "2    ch_13b        ON              9483  0.007966  0.561088  0.479195   \n",
       "8    ch_17a    ON-OFF             10553  0.004830  0.522330  0.478669   \n",
       "14   ch_21c        ON               744  0.021098  0.678991  0.437334   \n",
       "16   ch_22b        ON              9427  0.006506  0.561001  0.479463   \n",
       "..      ...       ...               ...       ...       ...       ...   \n",
       "101  ch_86a       OFF              8918  0.011459  0.685100  0.391667   \n",
       "102  ch_86b       OFF             11685  0.006805  0.588128  0.460443   \n",
       "103  ch_87a    ON-OFF             23387  0.006672  0.582740  0.455379   \n",
       "104  ch_87b    ON-OFF              4304  0.008134  0.554649  0.471234   \n",
       "105  ch_87c        ON              5117  0.016004  0.733737  0.338609   \n",
       "\n",
       "      sta_p2p   sta_psnr  \n",
       "1    0.038108   8.372716  \n",
       "2    0.081927   9.546151  \n",
       "8    0.043356   8.637318  \n",
       "14   0.241657  10.751853  \n",
       "16   0.081545  12.176788  \n",
       "..        ...        ...  \n",
       "101  0.293403  23.400269  \n",
       "102  0.127718  17.559977  \n",
       "103  0.127247  17.737024  \n",
       "104  0.083376   9.993480  \n",
       "105  0.395361  22.761882  \n",
       "\n",
       "[90 rows x 8 columns]"
      ]
     },
     "execution_count": 17,
     "metadata": {},
     "output_type": "execute_result"
    }
   ],
   "source": [
    "idx_high_snr = info['sta_psnr'] >= 8\n",
    "info[idx_high_snr]"
   ]
  },
  {
   "cell_type": "code",
   "execution_count": 18,
   "metadata": {},
   "outputs": [
    {
     "data": {
      "image/png": "[encoded data removed]",
      "text/plain": [
       "<Figure size 432x288 with 1 Axes>"
      ]
     },
     "metadata": {
      "needs_background": "light"
     },
     "output_type": "display_data"
    }
   ],
   "source": [
    "plot_bar_by_group(info, 'sta_psnr',\n",
    "                  group_values = group_values, color=color)\n",
    "\n",
    "plt.savefig(\"figure/sta/{}_psnr_bar.pdf\".format(dataset), bbox_inches='tight')\n",
    "plt.savefig(\"figure/sta/{}_psnr_bar.png\".format(dataset), bbox_inches='tight')"
   ]
  },
  {
   "cell_type": "code",
   "execution_count": 19,
   "metadata": {},
   "outputs": [
    {
     "name": "stdout",
     "output_type": "stream",
     "text": [
      "0.036465802031538104\n",
      "0.2126779454598189\n"
     ]
    }
   ],
   "source": [
    "# test significance: ON or OFF vs. ON/OFF\n",
    "data = groupby_dict(info, 'sta_psnr', 'cell_type')\n",
    "\n",
    "t, p = stats.ttest_ind(data['ON'], data['OFF'], equal_var=False)\n",
    "print(p)\n",
    "\n",
    "t, p = stats.ttest_ind(data['ON'] + data['OFF'], data['Unknown'], equal_var=False)\n",
    "print(p)\n",
    "\n",
    "# t, p = stats.ttest_ind(data['ON'] + data['OFF'], data['ON-OFF'], equal_var=False)\n",
    "# print(p)"
   ]
  },
  {
   "cell_type": "markdown",
   "metadata": {},
   "source": [
    "## spatio-temporal analysis of RF with ON or OFF RGC with high peak-to-peak difference"
   ]
  },
  {
   "cell_type": "code",
   "execution_count": 20,
   "metadata": {},
   "outputs": [],
   "source": [
    "# choose a channel with highest p2p\n",
    "idx_on = info['cell_type'] == 'ON'\n",
    "idx_off = info['cell_type'] == 'OFF'\n",
    "idx = np.logical_or(idx_on, idx_off)\n",
    "\n",
    "#ch_idx = info.loc[idx]['sta_p2p'].idxmax()\n",
    "ch_idx = info.loc[idx]['sta_psnr'].idxmax()   #PSNR is better criteria"
   ]
  },
  {
   "cell_type": "code",
   "execution_count": 21,
   "metadata": {},
   "outputs": [
    {
     "name": "stdout",
     "output_type": "stream",
     "text": [
      "ch_74c ON\n"
     ]
    }
   ],
   "source": [
    "channel_name = info['channel'][ch_idx]\n",
    "cell_types = info['cell_type'][ch_idx]\n",
    "print(channel_name, cell_types)"
   ]
  },
  {
   "cell_type": "code",
   "execution_count": 22,
   "metadata": {},
   "outputs": [
    {
     "name": "stdout",
     "output_type": "stream",
     "text": [
      "(3026, 64, 8)\n",
      "peak-to-peak diff. = 0.39\n"
     ]
    },
    {
     "name": "stderr",
     "output_type": "stream",
     "text": [
      "/Users/yyoo/src/pysta2/pysta.py:428: MatplotlibDeprecationWarning: Passing non-integers as three-element position specification is deprecated since 3.3 and will be removed two minor releases later.\n",
      "  axes.append(plt.subplot(2, T / 2, t + 1))\n"
     ]
    },
    {
     "data": {
      "image/png": "[encoded data removed]",
      "text/plain": [
       "<Figure size 396x252 with 1 Axes>"
      ]
     },
     "metadata": {
      "needs_background": "light"
     },
     "output_type": "display_data"
    },
    {
     "data": {
      "text/plain": [
       "<Figure size 432x288 with 0 Axes>"
      ]
     },
     "metadata": {},
     "output_type": "display_data"
    },
    {
     "data": {
      "image/png": "[encoded data removed]",
      "text/plain": [
       "<Figure size 576x288 with 8 Axes>"
      ]
     },
     "metadata": {
      "needs_background": "light"
     },
     "output_type": "display_data"
    }
   ],
   "source": [
    "if fps == 10:\n",
    "    tap = 8\n",
    "elif fps == 25:\n",
    "    tap = 20\n",
    "\n",
    "spike_triggered_stim, weights = pysta.grab_spike_triggered_stim(stim, spike_counts[ch_idx], tap=tap)\n",
    "\n",
    "sta = np.average(spike_triggered_stim, weights=weights, axis=0)\n",
    "# sta.shape\n",
    "\n",
    "print(spike_triggered_stim.shape)\n",
    "\n",
    "\n",
    "import os\n",
    "if not os.path.exists(os.path.join('figure', 'sta')):\n",
    "    os.makedirs(os.path.join('figure', 'sta'))\n",
    "    \n",
    "plot_spatio_temporal(sta, \n",
    "                     width=width, height=height,\n",
    "                     ylabel='STA',\n",
    "                     fig_basename=os.path.join('figure', 'sta', channel_name))\n",
    "# plt.title(channel_name + '(%.2f)'.format)"
   ]
  },
  {
   "cell_type": "code",
   "execution_count": null,
   "metadata": {},
   "outputs": [],
   "source": []
  },
  {
   "cell_type": "markdown",
   "metadata": {},
   "source": [
    "### spatial spectrum"
   ]
  },
  {
   "cell_type": "code",
   "execution_count": 23,
   "metadata": {},
   "outputs": [
    {
     "data": {
      "image/png": "[encoded data removed]",
      "text/plain": [
       "<Figure size 864x360 with 2 Axes>"
      ]
     },
     "metadata": {
      "needs_background": "light"
     },
     "output_type": "display_data"
    }
   ],
   "source": [
    "sta_slice = sta[:,5].reshape(height,width)\n",
    "\n",
    "plt.figure(figsize=(12,5))\n",
    "plt.subplot(121)\n",
    "plt.imshow(sta_slice, cmap='gray', origin='lower')\n",
    "\n",
    "plt.subplot(122)\n",
    "plot_spatial_spectrum(sta_slice)"
   ]
  },
  {
   "cell_type": "markdown",
   "metadata": {},
   "source": [
    "### temporal spectrum"
   ]
  },
  {
   "cell_type": "code",
   "execution_count": 24,
   "metadata": {},
   "outputs": [
    {
     "name": "stdout",
     "output_type": "stream",
     "text": [
      "peak-to-peak diff. = 0.39\n"
     ]
    },
    {
     "data": {
      "image/png": "[encoded data removed]",
      "text/plain": [
       "<Figure size 864x288 with 2 Axes>"
      ]
     },
     "metadata": {
      "needs_background": "light"
     },
     "output_type": "display_data"
    }
   ],
   "source": [
    "plt.figure(figsize=(12,4))\n",
    "\n",
    "plt.subplot(121)\n",
    "plot_temporal_profile(sta, 1/fps)\n",
    "\n",
    "plt.subplot(122)\n",
    "plot_temporal_spectrum(sta, 1/fps)\n",
    "\n",
    "plt.savefig(dataset + '_' + channel_name + '.pdf')\n"
   ]
  },
  {
   "cell_type": "code",
   "execution_count": null,
   "metadata": {},
   "outputs": [],
   "source": []
  }
 ],
 "metadata": {
  "kernelspec": {
   "display_name": "Python 3",
   "language": "python",
   "name": "python3"
  },
  "language_info": {
   "codemirror_mode": {
    "name": "ipython",
    "version": 3
   },
   "file_extension": ".py",
   "mimetype": "text/x-python",
   "name": "python",
   "nbconvert_exporter": "python",
   "pygments_lexer": "ipython3",
   "version": "3.7.9"
  }
 },
 "nbformat": 4,
 "nbformat_minor": 4
}
