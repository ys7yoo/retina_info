{
 "cells": [
  {
   "cell_type": "code",
   "execution_count": 1,
   "metadata": {},
   "outputs": [],
   "source": [
    "import numpy as np\n",
    "import matplotlib.pyplot as plt\n",
    "from scipy import stats\n",
    "\n",
    "from scipy.fft import rfft, rfftfreq\n",
    "from scipy.fft import fft2\n",
    "from skimage.filters import window\n",
    "\n",
    "\n",
    "import os\n",
    "import sys\n",
    "cwd = os.getcwd()\n",
    "parent_dir = os.path.abspath(os.path.join(cwd, os.pardir))\n",
    "sys.path.insert(0, os.path.join(parent_dir, 'pysta2'))\n",
    "\n",
    "import pysta\n",
    "# import stc\n",
    "# import stcl\n",
    "\n",
    "# from stcl import load_centers\n",
    "\n",
    "import pandas as pd\n",
    "import os\n",
    "\n",
    "%load_ext autoreload\n",
    "%autoreload 2"
   ]
  },
  {
   "cell_type": "code",
   "execution_count": 2,
   "metadata": {},
   "outputs": [],
   "source": [
    "# helper functions for visualization\n",
    "def box_off():\n",
    "    ax = plt.gca()\n",
    "    ax.spines['top'].set_visible(False)\n",
    "    ax.spines['right'].set_visible(False)\n",
    "    \n",
    "def p2p(sta):\n",
    "    return np.max(sta) - np.min(sta)\n",
    "\n",
    "def psnr(sta):\n",
    "    return (np.max(sta.ravel()) - np.min(sta.ravel())) / np.std(sta.ravel())\n",
    "\n",
    "\n",
    "def plot_temporal_profile(sta, dt):\n",
    "    tap = sta.shape[-1]\n",
    "#     figsize = (5.5,3.5)\n",
    "#     plt.figure(figsize=figsize)\n",
    "    pysta.plot_temporal_profile(sta, tap, dt, ylim=[-0.5,0.5])\n",
    "    plt.ylabel('STA')\n",
    "    print('peak-to-peak diff. = {:.2f}'.format(p2p(sta)))\n",
    "    # print('PSNR = {:.2f}'.format(psnr(sta)))\n",
    "\n",
    "    plt.title('peak-to-peak diff. = {:.2f}'.format(p2p(sta)))\n",
    "#     plt.xlabel('ms')\n",
    "    \n",
    "    \n",
    "def plot_temporal_spectrum(sta, dt):\n",
    "    wt = rfft(sta, axis=1)\n",
    "    \n",
    "    N = sta.shape[1]\n",
    "    fs = rfftfreq(N, dt)\n",
    "    \n",
    "    plt.plot(fs, np.abs(wt.T), 'o-')\n",
    "    plt.xlabel('Hz')\n",
    "    plt.ylabel('FFT amplitude')\n",
    "\n",
    "    box_off()\n",
    "\n",
    "\n",
    "def plot_spatial_spectrum(sta_slice, windowing='hann', pixel_size=1, precision=2):\n",
    "    assert len(sta_slice.shape)==2\n",
    "    \n",
    "    def set_ticks(ax, fs, precision=precision):\n",
    "        ticks = range(0, len(fs))\n",
    "        print_format = \"{:.\" + str(precision) + \"f}\"\n",
    "        ticklabels = [print_format.format(p) for p in (fs)]\n",
    "\n",
    "        ax.set_xticks(ticks)\n",
    "        ax.set_xticklabels(ticklabels)\n",
    "        ax.set_xlim(-0.5, len(fs)-0.5)\n",
    "#         from matplotlib.ticker import FormatStrFormatter\n",
    "#         ax.xaxis.set_major_formatter(FormatStrFormatter('%.0f'))\n",
    "        \n",
    "        ax.set_yticks(ticks)\n",
    "        ax.set_yticklabels(ticklabels)\n",
    "        ax.set_ylim(-0.5, len(fs)-0.5)\n",
    "\n",
    "        \n",
    "    w = fft2(sta_slice * window(windowing, sta_slice.shape))\n",
    "\n",
    "    fs = rfftfreq(sta_slice.shape[0])\n",
    "    \n",
    "    # crop and take abs w \n",
    "    abs_w = np.abs(w[:len(fs),:len(fs)])\n",
    "    plt.imshow(abs_w, cmap='gray', origin='lower')\n",
    "\n",
    "    set_ticks(plt.gca(), fs, precision=precision)\n",
    "    \n",
    "    plt.xlabel('frequency')\n",
    "    plt.ylabel('frequency')\n",
    "    \n",
    "    abs_w[0,0] = - np.Inf\n",
    "    idx_max = np.unravel_index(np.argmax(abs_w, axis=None), abs_w.shape)\n",
    "    plt.plot(idx_max[0],idx_max[1], 'r*')\n",
    "    \n",
    "    \n",
    "    \n",
    "def plot_spatio_temporal(sta, height=13, width=13, dt=1000/30, ylabel=None, fig_basename=None):        \n",
    "    tap = sta.shape[-1]\n",
    "    figsize = (5.5,3.5)\n",
    "    plt.figure(figsize=figsize)\n",
    "    \n",
    "    plot_temporal_profile(sta, dt)\n",
    "    \n",
    "    \n",
    "#     pysta.plot_temporal_profile(sta, tap, dt, ylim=[-0.5,0.5])\n",
    "#     if ylabel is not None:\n",
    "#         plt.ylabel(ylabel)\n",
    "#     print('peak-to-peak diff. = {:.2f}'.format(p2p(sta)))\n",
    "#     print('PSNR = {:.2f}'.format(psnr(sta)))\n",
    "# #     plt.title('peak diff. = {:.2f}'.format(p2p(sta)))\n",
    "#     plt.xlabel(None)\n",
    "\n",
    "    if fig_basename is not None:\n",
    "        plt.savefig(fig_basename + '_temp.pdf', bbox_inches='tight') # https://stackoverflow.com/a/4046233\n",
    "\n",
    "    plt.figure()\n",
    "    pysta.plot_stim_slices(sta, height=height, width=width, dt=dt, vmin=-0.5, vmax=0.5)\n",
    "\n",
    "#     plt.tight_layout()\n",
    "    \n",
    "    if fig_basename is not None:\n",
    "        plt.savefig(fig_basename + '_spatial.pdf', bbox_inches='tight')\n",
    "    \n",
    "    \n",
    "def groupby_dict(df, col, group):\n",
    "    data = dict()\n",
    "    for group_val, d in df.groupby(group):\n",
    "#         print(group_val)\n",
    "        data[group_val] = d[col].to_list()\n",
    "    return data\n",
    "\n",
    "\n",
    "def plot_bar_by_group(info, col, \n",
    "                      groupby='cell_type', \n",
    "                      group_values = ['ON', 'OFF', 'ON-OFF', 'Unknown'], color=['r','#00A0FF','green', '#A0A0A0']):\n",
    "    \n",
    "    means = info.groupby(groupby)[col].mean()[group_values]\n",
    "    sems = info.groupby(groupby)[col].sem()[group_values]\n",
    "\n",
    "    plt.bar(group_values, means, yerr=sems,\n",
    "            width=0.4, color=color, edgecolor='k', linewidth=1,\n",
    "            capsize=5)\n",
    "    \n",
    "    plt.ylabel(col)\n",
    "    plt.xlabel('cell type')\n",
    "    \n",
    "    plt.xlim(-0.5, len(group_values)-0.5)\n",
    "    box_off()"
   ]
  },
  {
   "cell_type": "markdown",
   "metadata": {},
   "source": [
    "Let's re-plot old Figure 3 (ON-OFF cell) for all the methods"
   ]
  },
  {
   "cell_type": "markdown",
   "metadata": {},
   "source": [
    "## load data"
   ]
  },
  {
   "cell_type": "code",
   "execution_count": 3,
   "metadata": {},
   "outputs": [],
   "source": [
    "# data_path = 'data'\n",
    "\n",
    "# # dataset = '20201209'\n",
    "# # width = 26\n",
    "# # height = 26\n",
    "\n",
    "# # dataset = '20201216'\n",
    "# # width = 13\n",
    "# # height = 13\n",
    "\n",
    "# dataset = '20180626'\n",
    "# width = 8\n",
    "# height = 8\n",
    "# fps = 10"
   ]
  },
  {
   "cell_type": "code",
   "execution_count": 4,
   "metadata": {},
   "outputs": [],
   "source": [
    "# gaussian stim with the highest contrast\n",
    "data_path = 'data_gaussian'\n",
    "dataset = 'contrast100'\n",
    "dataset = 'contrast50'\n",
    "\n",
    "width = 8\n",
    "height = 8\n",
    "fps = 10"
   ]
  },
  {
   "cell_type": "code",
   "execution_count": 5,
   "metadata": {},
   "outputs": [
    {
     "data": {
      "text/plain": [
       "'20180828_26pix_10Hz'"
      ]
     },
     "execution_count": 5,
     "metadata": {},
     "output_type": "execute_result"
    }
   ],
   "source": [
    "# different spatial & temporal resolutions (2018.08.28)\n",
    "data_path = 'data'\n",
    "\n",
    "# width = 8\n",
    "# height = 8\n",
    "# fps = 10\n",
    "\n",
    "# width = 8\n",
    "# height = 8\n",
    "# fps = 25\n",
    "\n",
    "# width = 13\n",
    "# height = 13\n",
    "# fps = 10\n",
    "\n",
    "width = 26\n",
    "height = 26\n",
    "fps = 10\n",
    "\n",
    "dataset = '20180828_{}pix_{}Hz'.format(width,fps)\n",
    "dataset"
   ]
  },
  {
   "cell_type": "code",
   "execution_count": null,
   "metadata": {},
   "outputs": [],
   "source": []
  },
  {
   "cell_type": "code",
   "execution_count": 6,
   "metadata": {},
   "outputs": [
    {
     "data": {
      "text/plain": [
       "108"
      ]
     },
     "execution_count": 6,
     "metadata": {},
     "output_type": "execute_result"
    }
   ],
   "source": [
    "data = np.load(os.path.join(data_path, dataset + '.npz'))\n",
    "info = pd.read_csv(os.path.join(data_path, dataset + '_info.csv'))\n",
    "\n",
    "\n",
    "stim = data['stim'] - 0.5\n",
    "spike_counts = data['spike_counts']\n",
    "\n",
    "len(info)"
   ]
  },
  {
   "cell_type": "code",
   "execution_count": 7,
   "metadata": {},
   "outputs": [],
   "source": [
    "if fps == 10:\n",
    "    tap = 8\n",
    "elif fps == 25:\n",
    "    tap = 20"
   ]
  },
  {
   "cell_type": "markdown",
   "metadata": {},
   "source": [
    "## calc STA and peak-to-peak difference for all RGCs"
   ]
  },
  {
   "cell_type": "code",
   "execution_count": 8,
   "metadata": {},
   "outputs": [
    {
     "name": "stdout",
     "output_type": "stream",
     "text": [
      "12a OFF\n",
      "12b Unknown\n",
      "12c ON\n",
      "12d OFF\n",
      "12e ON\n",
      "13a OFF\n",
      "13b Unknown\n",
      "13c ON\n",
      "13d ON\n",
      "14a ON\n",
      "14b ON\n",
      "14c Unknown\n",
      "14d ON\n",
      "16a OFF\n",
      "22a ON\n",
      "22b OFF\n",
      "23a Unknown\n",
      "23b ON\n",
      "23c ON\n",
      "23d ON\n",
      "24a Unknown\n",
      "24b OFF\n",
      "24c ON\n",
      "24d ON\n",
      "25a Unknown\n",
      "25b OFF\n",
      "25c ON\n",
      "25d ON\n",
      "27a OFF\n",
      "27b ON\n",
      "27c ON\n",
      "27d OFF\n",
      "27e Unknown\n",
      "28a OFF\n",
      "28b Unknown\n",
      "28c ON\n",
      "31a OFF\n",
      "31b ON\n",
      "31c ON\n",
      "31d Unknown\n",
      "32a OFF\n",
      "32b OFF\n",
      "32c OFF\n",
      "32d OFF\n",
      "32e OFF\n",
      "32f OFF\n",
      "32g OFF\n",
      "32h OFF\n",
      "33a OFF\n",
      "33b OFF\n",
      "33c ON\n",
      "36a OFF\n",
      "36b ON\n",
      "36c OFF\n",
      "36d ON\n",
      "36e ON\n",
      "36f Unknown\n",
      "37a Unknown\n",
      "37b Unknown\n",
      "37c ON\n",
      "37d Unknown\n",
      "37e Unknown\n",
      "41a Unknown\n",
      "41b ON\n",
      "41c ON\n",
      "42a OFF\n",
      "42b OFF\n",
      "45a Unknown\n",
      "46a Unknown\n",
      "46b Unknown\n",
      "47a OFF\n",
      "47b Unknown\n",
      "48a OFF\n",
      "48b Unknown\n",
      "48c Unknown\n",
      "51a OFF\n",
      "51b Unknown\n",
      "51c ON\n",
      "51d ON\n",
      "52a Unknown\n",
      "52b ON\n",
      "53a OFF\n",
      "54a Unknown\n",
      "57a Unknown\n",
      "57b Unknown\n",
      "61a ON\n",
      "61b Unknown\n",
      "61c Unknown\n",
      "61d Unknown\n",
      "62a Unknown\n",
      "62b ON\n",
      "63a OFF\n",
      "63b Unknown\n",
      "64a Unknown\n",
      "67a Unknown\n",
      "67b Unknown\n",
      "72a Unknown\n",
      "73a Unknown\n",
      "73b Unknown\n",
      "76a Unknown\n",
      "82a Unknown\n",
      "82b Unknown\n",
      "83a Unknown\n",
      "83b Unknown\n",
      "84a Unknown\n",
      "86a Unknown\n",
      "86b Unknown\n",
      "87a Unknown\n"
     ]
    }
   ],
   "source": [
    "# choose a channel\n",
    "sta_p2ps = []\n",
    "sta_psnrs = []\n",
    "\n",
    "for ch_idx in range(spike_counts.shape[0]):\n",
    "\n",
    "    channel_name = info['channel'][ch_idx]\n",
    "    cell_types = info['cell_type'][ch_idx]\n",
    "    print(channel_name, cell_types)\n",
    "    \n",
    "\n",
    "    spike_triggered_stim, weights = pysta.grab_spike_triggered_stim(stim, spike_counts[ch_idx], tap=tap)\n",
    "\n",
    "    sta = np.average(spike_triggered_stim, weights=weights, axis=0)\n",
    "    # sta.shape\n",
    "    \n",
    "    sta_p2ps.append(p2p(sta))\n",
    "    sta_psnrs.append(psnr(sta))\n",
    "\n",
    "#     print(spike_triggered_stim.shape)\n",
    "\n",
    "#     plot_spatio_temporal(sta, ylabel='STA') #, \n",
    "#     #                     fig_basename=os.path.join('figure', 'sta', channel_name))\n",
    "#     # plt.title(channel_name + '(%.2f)'.format)\n",
    "\n",
    "info['sta_p2p'] = sta_p2ps\n",
    "info['sta_psnr'] = sta_psnrs\n",
    "\n",
    "info.to_csv(dataset + '_sta.csv', index=None)"
   ]
  },
  {
   "cell_type": "markdown",
   "metadata": {},
   "source": [
    "## analyze results"
   ]
  },
  {
   "cell_type": "code",
   "execution_count": 9,
   "metadata": {},
   "outputs": [],
   "source": [
    "# # dataset = '20201209'\n",
    "# # info = pd.read_csv('20201209_sta.csv')\n",
    "\n",
    "# dataset = '20201216'\n",
    "# info = pd.read_csv('20201216_sta.csv')\n"
   ]
  },
  {
   "cell_type": "code",
   "execution_count": 10,
   "metadata": {},
   "outputs": [
    {
     "data": {
      "image/png": "[encoded data removed]",
      "text/plain": [
       "<Figure size 432x288 with 1 Axes>"
      ]
     },
     "metadata": {
      "needs_background": "light"
     },
     "output_type": "display_data"
    }
   ],
   "source": [
    "info['sta_p2p'].hist()\n",
    "plt.xlabel('STA peak-to-peak difference')\n",
    "plt.ylabel('count')\n",
    "box_off()"
   ]
  },
  {
   "cell_type": "code",
   "execution_count": 11,
   "metadata": {},
   "outputs": [
    {
     "data": {
      "image/png": "[encoded data removed]",
      "text/plain": [
       "<Figure size 432x288 with 1 Axes>"
      ]
     },
     "metadata": {
      "needs_background": "light"
     },
     "output_type": "display_data"
    }
   ],
   "source": [
    "info['sta_psnr'].hist()\n",
    "plt.xlabel('STA PSNR')\n",
    "plt.ylabel('count')\n",
    "box_off()"
   ]
  },
  {
   "cell_type": "code",
   "execution_count": 12,
   "metadata": {},
   "outputs": [
    {
     "data": {
      "text/html": [
       "<div>\n",
       "<style scoped>\n",
       "    .dataframe tbody tr th:only-of-type {\n",
       "        vertical-align: middle;\n",
       "    }\n",
       "\n",
       "    .dataframe tbody tr th {\n",
       "        vertical-align: top;\n",
       "    }\n",
       "\n",
       "    .dataframe thead th {\n",
       "        text-align: right;\n",
       "    }\n",
       "</style>\n",
       "<table border=\"1\" class=\"dataframe\">\n",
       "  <thead>\n",
       "    <tr style=\"text-align: right;\">\n",
       "      <th></th>\n",
       "      <th>channel</th>\n",
       "      <th>cell_type</th>\n",
       "      <th>sta_p2p</th>\n",
       "      <th>sta_psnr</th>\n",
       "    </tr>\n",
       "  </thead>\n",
       "  <tbody>\n",
       "    <tr>\n",
       "      <th>29</th>\n",
       "      <td>27b</td>\n",
       "      <td>ON</td>\n",
       "      <td>0.519097</td>\n",
       "      <td>29.703993</td>\n",
       "    </tr>\n",
       "    <tr>\n",
       "      <th>12</th>\n",
       "      <td>14d</td>\n",
       "      <td>ON</td>\n",
       "      <td>0.507389</td>\n",
       "      <td>13.558402</td>\n",
       "    </tr>\n",
       "    <tr>\n",
       "      <th>53</th>\n",
       "      <td>36c</td>\n",
       "      <td>OFF</td>\n",
       "      <td>0.506540</td>\n",
       "      <td>21.755337</td>\n",
       "    </tr>\n",
       "    <tr>\n",
       "      <th>95</th>\n",
       "      <td>67b</td>\n",
       "      <td>Unknown</td>\n",
       "      <td>0.467742</td>\n",
       "      <td>7.415249</td>\n",
       "    </tr>\n",
       "    <tr>\n",
       "      <th>72</th>\n",
       "      <td>48a</td>\n",
       "      <td>OFF</td>\n",
       "      <td>0.462696</td>\n",
       "      <td>19.274653</td>\n",
       "    </tr>\n",
       "    <tr>\n",
       "      <th>103</th>\n",
       "      <td>83b</td>\n",
       "      <td>Unknown</td>\n",
       "      <td>0.430622</td>\n",
       "      <td>8.075097</td>\n",
       "    </tr>\n",
       "    <tr>\n",
       "      <th>60</th>\n",
       "      <td>37d</td>\n",
       "      <td>Unknown</td>\n",
       "      <td>0.430233</td>\n",
       "      <td>7.370326</td>\n",
       "    </tr>\n",
       "    <tr>\n",
       "      <th>91</th>\n",
       "      <td>63a</td>\n",
       "      <td>OFF</td>\n",
       "      <td>0.426025</td>\n",
       "      <td>15.095842</td>\n",
       "    </tr>\n",
       "    <tr>\n",
       "      <th>45</th>\n",
       "      <td>32f</td>\n",
       "      <td>OFF</td>\n",
       "      <td>0.416988</td>\n",
       "      <td>12.687924</td>\n",
       "    </tr>\n",
       "    <tr>\n",
       "      <th>31</th>\n",
       "      <td>27d</td>\n",
       "      <td>OFF</td>\n",
       "      <td>0.409310</td>\n",
       "      <td>19.745580</td>\n",
       "    </tr>\n",
       "    <tr>\n",
       "      <th>23</th>\n",
       "      <td>24d</td>\n",
       "      <td>ON</td>\n",
       "      <td>0.392079</td>\n",
       "      <td>15.382873</td>\n",
       "    </tr>\n",
       "    <tr>\n",
       "      <th>21</th>\n",
       "      <td>24b</td>\n",
       "      <td>OFF</td>\n",
       "      <td>0.388068</td>\n",
       "      <td>37.231880</td>\n",
       "    </tr>\n",
       "    <tr>\n",
       "      <th>51</th>\n",
       "      <td>36a</td>\n",
       "      <td>OFF</td>\n",
       "      <td>0.384880</td>\n",
       "      <td>31.236055</td>\n",
       "    </tr>\n",
       "    <tr>\n",
       "      <th>47</th>\n",
       "      <td>32h</td>\n",
       "      <td>OFF</td>\n",
       "      <td>0.381295</td>\n",
       "      <td>11.573769</td>\n",
       "    </tr>\n",
       "    <tr>\n",
       "      <th>46</th>\n",
       "      <td>32g</td>\n",
       "      <td>OFF</td>\n",
       "      <td>0.380682</td>\n",
       "      <td>9.760990</td>\n",
       "    </tr>\n",
       "    <tr>\n",
       "      <th>28</th>\n",
       "      <td>27a</td>\n",
       "      <td>OFF</td>\n",
       "      <td>0.366420</td>\n",
       "      <td>33.580716</td>\n",
       "    </tr>\n",
       "    <tr>\n",
       "      <th>54</th>\n",
       "      <td>36d</td>\n",
       "      <td>ON</td>\n",
       "      <td>0.366397</td>\n",
       "      <td>15.022459</td>\n",
       "    </tr>\n",
       "    <tr>\n",
       "      <th>50</th>\n",
       "      <td>33c</td>\n",
       "      <td>ON</td>\n",
       "      <td>0.363885</td>\n",
       "      <td>15.707247</td>\n",
       "    </tr>\n",
       "    <tr>\n",
       "      <th>81</th>\n",
       "      <td>53a</td>\n",
       "      <td>OFF</td>\n",
       "      <td>0.361191</td>\n",
       "      <td>27.838253</td>\n",
       "    </tr>\n",
       "    <tr>\n",
       "      <th>22</th>\n",
       "      <td>24c</td>\n",
       "      <td>ON</td>\n",
       "      <td>0.358323</td>\n",
       "      <td>21.435426</td>\n",
       "    </tr>\n",
       "    <tr>\n",
       "      <th>92</th>\n",
       "      <td>63b</td>\n",
       "      <td>Unknown</td>\n",
       "      <td>0.357616</td>\n",
       "      <td>7.346829</td>\n",
       "    </tr>\n",
       "  </tbody>\n",
       "</table>\n",
       "</div>"
      ],
      "text/plain": [
       "    channel cell_type   sta_p2p   sta_psnr\n",
       "29      27b        ON  0.519097  29.703993\n",
       "12      14d        ON  0.507389  13.558402\n",
       "53      36c       OFF  0.506540  21.755337\n",
       "95      67b   Unknown  0.467742   7.415249\n",
       "72      48a       OFF  0.462696  19.274653\n",
       "103     83b   Unknown  0.430622   8.075097\n",
       "60      37d   Unknown  0.430233   7.370326\n",
       "91      63a       OFF  0.426025  15.095842\n",
       "45      32f       OFF  0.416988  12.687924\n",
       "31      27d       OFF  0.409310  19.745580\n",
       "23      24d        ON  0.392079  15.382873\n",
       "21      24b       OFF  0.388068  37.231880\n",
       "51      36a       OFF  0.384880  31.236055\n",
       "47      32h       OFF  0.381295  11.573769\n",
       "46      32g       OFF  0.380682   9.760990\n",
       "28      27a       OFF  0.366420  33.580716\n",
       "54      36d        ON  0.366397  15.022459\n",
       "50      33c        ON  0.363885  15.707247\n",
       "81      53a       OFF  0.361191  27.838253\n",
       "22      24c        ON  0.358323  21.435426\n",
       "92      63b   Unknown  0.357616   7.346829"
      ]
     },
     "execution_count": 12,
     "metadata": {},
     "output_type": "execute_result"
    }
   ],
   "source": [
    "idx_high_snr = info['sta_p2p'] >= 0.35\n",
    "info[idx_high_snr].sort_values(by='sta_p2p', ascending=False)"
   ]
  },
  {
   "cell_type": "code",
   "execution_count": 13,
   "metadata": {},
   "outputs": [],
   "source": [
    "if len(info['cell_type'].value_counts()) == 3: # ON, OFF, Unknown\n",
    "    group_values = ['ON', 'OFF', 'Unknown']\n",
    "    color=['r','#00A0FF', '#A0A0A0']\n",
    "elif len(info['cell_type'].value_counts()) == 4: # ON, OFF, ON-OFF, Unknown\n",
    "    group_values = ['ON', 'OFF', 'ON-OFF', 'Unknown']\n",
    "    color=['r','#00A0FF','green', '#A0A0A0']    "
   ]
  },
  {
   "cell_type": "code",
   "execution_count": 14,
   "metadata": {},
   "outputs": [
    {
     "data": {
      "text/html": [
       "<div>\n",
       "<style scoped>\n",
       "    .dataframe tbody tr th:only-of-type {\n",
       "        vertical-align: middle;\n",
       "    }\n",
       "\n",
       "    .dataframe tbody tr th {\n",
       "        vertical-align: top;\n",
       "    }\n",
       "\n",
       "    .dataframe thead th {\n",
       "        text-align: right;\n",
       "    }\n",
       "</style>\n",
       "<table border=\"1\" class=\"dataframe\">\n",
       "  <thead>\n",
       "    <tr style=\"text-align: right;\">\n",
       "      <th></th>\n",
       "      <th>sta_p2p</th>\n",
       "      <th>sta_psnr</th>\n",
       "    </tr>\n",
       "    <tr>\n",
       "      <th>cell_type</th>\n",
       "      <th></th>\n",
       "      <th></th>\n",
       "    </tr>\n",
       "  </thead>\n",
       "  <tbody>\n",
       "    <tr>\n",
       "      <th>OFF</th>\n",
       "      <td>0.273742</td>\n",
       "      <td>19.450459</td>\n",
       "    </tr>\n",
       "    <tr>\n",
       "      <th>Unknown</th>\n",
       "      <td>0.182232</td>\n",
       "      <td>7.967625</td>\n",
       "    </tr>\n",
       "    <tr>\n",
       "      <th>ON</th>\n",
       "      <td>0.245490</td>\n",
       "      <td>14.021655</td>\n",
       "    </tr>\n",
       "  </tbody>\n",
       "</table>\n",
       "</div>"
      ],
      "text/plain": [
       "            sta_p2p   sta_psnr\n",
       "cell_type                     \n",
       "OFF        0.273742  19.450459\n",
       "Unknown    0.182232   7.967625\n",
       "ON         0.245490  14.021655"
      ]
     },
     "execution_count": 14,
     "metadata": {},
     "output_type": "execute_result"
    }
   ],
   "source": [
    "info.groupby('cell_type', sort=False).mean()"
   ]
  },
  {
   "cell_type": "code",
   "execution_count": 15,
   "metadata": {},
   "outputs": [
    {
     "data": {
      "image/png": "[encoded data removed]",
      "text/plain": [
       "<Figure size 432x288 with 1 Axes>"
      ]
     },
     "metadata": {
      "needs_background": "light"
     },
     "output_type": "display_data"
    }
   ],
   "source": [
    "plot_bar_by_group(info, 'sta_p2p',\n",
    "                  group_values = group_values, color=color)\n",
    "\n",
    "plt.ylim(0, 0.5)\n",
    "plt.savefig(\"figure/sta/{}_p2p_bar.pdf\".format(dataset), bbox_inches='tight')\n",
    "plt.savefig(\"figure/sta/{}_p2p_bar.png\".format(dataset), bbox_inches='tight')"
   ]
  },
  {
   "cell_type": "code",
   "execution_count": 16,
   "metadata": {},
   "outputs": [
    {
     "name": "stdout",
     "output_type": "stream",
     "text": [
      "0.3527657703368968\n",
      "0.0016858513634830927\n"
     ]
    }
   ],
   "source": [
    "# test significance: ON or OFF vs. ON/OFF\n",
    "data = groupby_dict(info, 'sta_p2p', 'cell_type')\n",
    "\n",
    "t, p = stats.ttest_ind(data['ON'], data['OFF'], equal_var=False)\n",
    "print(p)\n",
    "\n",
    "t, p = stats.ttest_ind(data['ON'] + data['OFF'], data['Unknown'], equal_var=False)\n",
    "print(p)"
   ]
  },
  {
   "cell_type": "code",
   "execution_count": 17,
   "metadata": {},
   "outputs": [
    {
     "data": {
      "text/html": [
       "<div>\n",
       "<style scoped>\n",
       "    .dataframe tbody tr th:only-of-type {\n",
       "        vertical-align: middle;\n",
       "    }\n",
       "\n",
       "    .dataframe tbody tr th {\n",
       "        vertical-align: top;\n",
       "    }\n",
       "\n",
       "    .dataframe thead th {\n",
       "        text-align: right;\n",
       "    }\n",
       "</style>\n",
       "<table border=\"1\" class=\"dataframe\">\n",
       "  <thead>\n",
       "    <tr style=\"text-align: right;\">\n",
       "      <th></th>\n",
       "      <th>channel</th>\n",
       "      <th>cell_type</th>\n",
       "      <th>sta_p2p</th>\n",
       "      <th>sta_psnr</th>\n",
       "    </tr>\n",
       "  </thead>\n",
       "  <tbody>\n",
       "    <tr>\n",
       "      <th>21</th>\n",
       "      <td>24b</td>\n",
       "      <td>OFF</td>\n",
       "      <td>0.388068</td>\n",
       "      <td>37.231880</td>\n",
       "    </tr>\n",
       "    <tr>\n",
       "      <th>28</th>\n",
       "      <td>27a</td>\n",
       "      <td>OFF</td>\n",
       "      <td>0.366420</td>\n",
       "      <td>33.580716</td>\n",
       "    </tr>\n",
       "    <tr>\n",
       "      <th>51</th>\n",
       "      <td>36a</td>\n",
       "      <td>OFF</td>\n",
       "      <td>0.384880</td>\n",
       "      <td>31.236055</td>\n",
       "    </tr>\n",
       "    <tr>\n",
       "      <th>29</th>\n",
       "      <td>27b</td>\n",
       "      <td>ON</td>\n",
       "      <td>0.519097</td>\n",
       "      <td>29.703993</td>\n",
       "    </tr>\n",
       "    <tr>\n",
       "      <th>40</th>\n",
       "      <td>32a</td>\n",
       "      <td>OFF</td>\n",
       "      <td>0.246164</td>\n",
       "      <td>29.047502</td>\n",
       "    </tr>\n",
       "    <tr>\n",
       "      <th>...</th>\n",
       "      <td>...</td>\n",
       "      <td>...</td>\n",
       "      <td>...</td>\n",
       "      <td>...</td>\n",
       "    </tr>\n",
       "    <tr>\n",
       "      <th>76</th>\n",
       "      <td>51b</td>\n",
       "      <td>Unknown</td>\n",
       "      <td>0.057108</td>\n",
       "      <td>8.130132</td>\n",
       "    </tr>\n",
       "    <tr>\n",
       "      <th>85</th>\n",
       "      <td>61a</td>\n",
       "      <td>ON</td>\n",
       "      <td>0.132921</td>\n",
       "      <td>8.121701</td>\n",
       "    </tr>\n",
       "    <tr>\n",
       "      <th>11</th>\n",
       "      <td>14c</td>\n",
       "      <td>Unknown</td>\n",
       "      <td>0.117823</td>\n",
       "      <td>8.107865</td>\n",
       "    </tr>\n",
       "    <tr>\n",
       "      <th>103</th>\n",
       "      <td>83b</td>\n",
       "      <td>Unknown</td>\n",
       "      <td>0.430622</td>\n",
       "      <td>8.075097</td>\n",
       "    </tr>\n",
       "    <tr>\n",
       "      <th>94</th>\n",
       "      <td>67a</td>\n",
       "      <td>Unknown</td>\n",
       "      <td>0.322981</td>\n",
       "      <td>8.001264</td>\n",
       "    </tr>\n",
       "  </tbody>\n",
       "</table>\n",
       "<p>81 rows × 4 columns</p>\n",
       "</div>"
      ],
      "text/plain": [
       "    channel cell_type   sta_p2p   sta_psnr\n",
       "21      24b       OFF  0.388068  37.231880\n",
       "28      27a       OFF  0.366420  33.580716\n",
       "51      36a       OFF  0.384880  31.236055\n",
       "29      27b        ON  0.519097  29.703993\n",
       "40      32a       OFF  0.246164  29.047502\n",
       "..      ...       ...       ...        ...\n",
       "76      51b   Unknown  0.057108   8.130132\n",
       "85      61a        ON  0.132921   8.121701\n",
       "11      14c   Unknown  0.117823   8.107865\n",
       "103     83b   Unknown  0.430622   8.075097\n",
       "94      67a   Unknown  0.322981   8.001264\n",
       "\n",
       "[81 rows x 4 columns]"
      ]
     },
     "execution_count": 17,
     "metadata": {},
     "output_type": "execute_result"
    }
   ],
   "source": [
    "idx_high_snr = info['sta_psnr'] >= 8\n",
    "info[idx_high_snr].sort_values(by='sta_psnr', ascending=False)"
   ]
  },
  {
   "cell_type": "code",
   "execution_count": 18,
   "metadata": {},
   "outputs": [
    {
     "data": {
      "image/png": "[encoded data removed]",
      "text/plain": [
       "<Figure size 432x288 with 1 Axes>"
      ]
     },
     "metadata": {
      "needs_background": "light"
     },
     "output_type": "display_data"
    }
   ],
   "source": [
    "plot_bar_by_group(info, 'sta_psnr',\n",
    "                  group_values = group_values, color=color)\n",
    "\n",
    "plt.savefig(\"figure/sta/{}_psnr_bar.pdf\".format(dataset), bbox_inches='tight')\n",
    "plt.savefig(\"figure/sta/{}_psnr_bar.png\".format(dataset), bbox_inches='tight')"
   ]
  },
  {
   "cell_type": "code",
   "execution_count": 19,
   "metadata": {},
   "outputs": [
    {
     "name": "stdout",
     "output_type": "stream",
     "text": [
      "0.0011428480822921884\n",
      "4.6740781196538155e-15\n"
     ]
    }
   ],
   "source": [
    "# test significance: ON or OFF vs. ON/OFF\n",
    "data = groupby_dict(info, 'sta_psnr', 'cell_type')\n",
    "\n",
    "t, p = stats.ttest_ind(data['ON'], data['OFF'], equal_var=False)\n",
    "print(p)\n",
    "\n",
    "t, p = stats.ttest_ind(data['ON'] + data['OFF'], data['Unknown'], equal_var=False)\n",
    "print(p)\n",
    "\n",
    "# t, p = stats.ttest_ind(data['ON'] + data['OFF'], data['ON-OFF'], equal_var=False)\n",
    "# print(p)"
   ]
  },
  {
   "cell_type": "markdown",
   "metadata": {},
   "source": [
    "## spatio-temporal analysis of RF with ON or OFF RGC with high peak-to-peak difference"
   ]
  },
  {
   "cell_type": "code",
   "execution_count": 20,
   "metadata": {},
   "outputs": [],
   "source": [
    "# choose a channel with highest p2p\n",
    "idx_on = info['cell_type'] == 'ON'\n",
    "idx_off = info['cell_type'] == 'OFF'\n",
    "idx = np.logical_or(idx_on, idx_off)\n",
    "\n",
    "#ch_idx = info.loc[idx]['sta_p2p'].idxmax()\n",
    "ch_idx = info.loc[idx]['sta_psnr'].idxmax()   #PSNR is better criteria"
   ]
  },
  {
   "cell_type": "code",
   "execution_count": 21,
   "metadata": {},
   "outputs": [
    {
     "name": "stdout",
     "output_type": "stream",
     "text": [
      "24b OFF\n"
     ]
    }
   ],
   "source": [
    "channel_name = info['channel'][ch_idx]\n",
    "cell_types = info['cell_type'][ch_idx]\n",
    "print(channel_name, cell_types)"
   ]
  },
  {
   "cell_type": "code",
   "execution_count": 22,
   "metadata": {},
   "outputs": [
    {
     "name": "stdout",
     "output_type": "stream",
     "text": [
      "(4033, 676, 8)\n",
      "peak-to-peak diff. = 0.39\n"
     ]
    },
    {
     "name": "stderr",
     "output_type": "stream",
     "text": [
      "/Users/yyoo/src/pysta2/pysta.py:428: MatplotlibDeprecationWarning: Passing non-integers as three-element position specification is deprecated since 3.3 and will be removed two minor releases later.\n",
      "  axes.append(plt.subplot(2, T / 2, t + 1))\n"
     ]
    },
    {
     "data": {
      "image/png": "[encoded data removed]",
      "text/plain": [
       "<Figure size 396x252 with 1 Axes>"
      ]
     },
     "metadata": {
      "needs_background": "light"
     },
     "output_type": "display_data"
    },
    {
     "data": {
      "text/plain": [
       "<Figure size 432x288 with 0 Axes>"
      ]
     },
     "metadata": {},
     "output_type": "display_data"
    },
    {
     "data": {
      "image/png": "[encoded data removed]",
      "text/plain": [
       "<Figure size 576x288 with 8 Axes>"
      ]
     },
     "metadata": {
      "needs_background": "light"
     },
     "output_type": "display_data"
    }
   ],
   "source": [
    "if fps == 10:\n",
    "    tap = 8\n",
    "elif fps == 25:\n",
    "    tap = 20\n",
    "\n",
    "spike_triggered_stim, weights = pysta.grab_spike_triggered_stim(stim, spike_counts[ch_idx], tap=tap)\n",
    "\n",
    "sta = np.average(spike_triggered_stim, weights=weights, axis=0)\n",
    "# sta.shape\n",
    "\n",
    "print(spike_triggered_stim.shape)\n",
    "\n",
    "\n",
    "import os\n",
    "if not os.path.exists(os.path.join('figure', 'sta')):\n",
    "    os.makedirs(os.path.join('figure', 'sta'))\n",
    "    \n",
    "plot_spatio_temporal(sta, \n",
    "                     width=width, height=height,\n",
    "                     ylabel='STA',\n",
    "                     fig_basename=os.path.join('figure', 'sta', channel_name))\n",
    "# plt.title(channel_name + '(%.2f)'.format)"
   ]
  },
  {
   "cell_type": "code",
   "execution_count": null,
   "metadata": {},
   "outputs": [],
   "source": []
  },
  {
   "cell_type": "markdown",
   "metadata": {},
   "source": [
    "### spatial spectrum"
   ]
  },
  {
   "cell_type": "code",
   "execution_count": 23,
   "metadata": {},
   "outputs": [
    {
     "data": {
      "image/png": "[encoded data removed]",
      "text/plain": [
       "<Figure size 864x360 with 2 Axes>"
      ]
     },
     "metadata": {
      "needs_background": "light"
     },
     "output_type": "display_data"
    }
   ],
   "source": [
    "if fps == 10:\n",
    "#    tap = 8\n",
    "    sta_slice = sta[:,5].reshape(height,width)\n",
    "elif fps == 25:\n",
    "#     pass\n",
    "#     tap = 20\n",
    "#     sta_slice = sta[:,15].reshape(height,width)\n",
    "    \n",
    "    # find pixel with highest variance\n",
    "    idx_max_var = np.argmax(np.var(sta,axis=1))\n",
    "    temporal_profile = sta[idx_max_var,:]\n",
    "    plt.plot(temporal_profile, '.-')\n",
    "    idx_peak = np.argmax(np.abs(temporal_profile))\n",
    "        \n",
    "    sta_slice = sta[:,idx_peak].reshape(height,width)\n",
    "    plt.plot(idx_peak, sta[idx_max_var, idx_peak], 'r*')\n",
    "    plt.xlabel('frame')\n",
    "    plt.ylabel('STA at pixel {}'.format(idx_max_var))\n",
    "\n",
    "    \n",
    "plt.figure(figsize=(12,5))\n",
    "plt.subplot(121)\n",
    "plt.imshow(sta_slice, cmap='gray', origin='lower')\n",
    "\n",
    "plt.subplot(122)\n",
    "plot_spatial_spectrum(sta_slice)\n",
    "\n",
    "\n",
    "\n",
    "plt.savefig(dataset + '_' + channel_name + '_spatial_spectrum.pdf')\n",
    "\n"
   ]
  },
  {
   "cell_type": "markdown",
   "metadata": {},
   "source": [
    "### temporal spectrum"
   ]
  },
  {
   "cell_type": "code",
   "execution_count": 24,
   "metadata": {},
   "outputs": [
    {
     "name": "stdout",
     "output_type": "stream",
     "text": [
      "peak-to-peak diff. = 0.39\n"
     ]
    },
    {
     "data": {
      "image/png": "[encoded data removed]",
      "text/plain": [
       "<Figure size 864x288 with 2 Axes>"
      ]
     },
     "metadata": {
      "needs_background": "light"
     },
     "output_type": "display_data"
    }
   ],
   "source": [
    "plt.figure(figsize=(12,4))\n",
    "\n",
    "plt.subplot(121)\n",
    "plot_temporal_profile(sta, 1/fps)\n",
    "\n",
    "plt.subplot(122)\n",
    "plot_temporal_spectrum(sta, 1/fps)\n",
    "\n",
    "plt.savefig(dataset + '_' + channel_name + '_temporal_spectrum.pdf')\n"
   ]
  },
  {
   "cell_type": "code",
   "execution_count": 25,
   "metadata": {},
   "outputs": [
    {
     "data": {
      "text/plain": [
       "array([0.  , 1.25, 2.5 , 3.75, 5.  ])"
      ]
     },
     "execution_count": 25,
     "metadata": {},
     "output_type": "execute_result"
    }
   ],
   "source": [
    "# actual frequency values\n",
    "rfftfreq(tap, 1/fps)"
   ]
  },
  {
   "cell_type": "code",
   "execution_count": null,
   "metadata": {},
   "outputs": [],
   "source": []
  }
 ],
 "metadata": {
  "kernelspec": {
   "display_name": "Python 3",
   "language": "python",
   "name": "python3"
  },
  "language_info": {
   "codemirror_mode": {
    "name": "ipython",
    "version": 3
   },
   "file_extension": ".py",
   "mimetype": "text/x-python",
   "name": "python",
   "nbconvert_exporter": "python",
   "pygments_lexer": "ipython3",
   "version": "3.7.9"
  }
 },
 "nbformat": 4,
 "nbformat_minor": 4
}
