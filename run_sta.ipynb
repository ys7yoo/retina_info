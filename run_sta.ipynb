{
 "cells": [
  {
   "cell_type": "code",
   "execution_count": 1,
   "metadata": {},
   "outputs": [],
   "source": [
    "import numpy as np\n",
    "import matplotlib.pyplot as plt\n",
    "from scipy import stats\n",
    "\n",
    "import os\n",
    "import sys\n",
    "cwd = os.getcwd()\n",
    "parent_dir = os.path.abspath(os.path.join(cwd, os.pardir))\n",
    "sys.path.insert(0, os.path.join(parent_dir, 'pysta2'))\n",
    "\n",
    "import pysta\n",
    "# import stc\n",
    "# import stcl\n",
    "\n",
    "# from stcl import load_centers\n",
    "\n",
    "import pandas as pd\n",
    "import os\n",
    "\n",
    "%load_ext autoreload\n",
    "%autoreload 2"
   ]
  },
  {
   "cell_type": "code",
   "execution_count": 2,
   "metadata": {},
   "outputs": [],
   "source": [
    "# helper functions for visualization\n",
    "def box_off():\n",
    "    ax = plt.gca()\n",
    "    ax.spines['top'].set_visible(False)\n",
    "    ax.spines['right'].set_visible(False)\n",
    "    \n",
    "def p2p(sta):\n",
    "    return np.max(sta) - np.min(sta)\n",
    "\n",
    "def psnr(sta):\n",
    "    return (np.max(sta.ravel()) - np.min(sta.ravel())) / np.std(sta.ravel())\n",
    "\n",
    "def plot_spatio_temporal(sta, height=13, width=13, dt=1000/30, ylabel=None, fig_basename=None):        \n",
    "    tap = sta.shape[-1]\n",
    "    figsize = (5.5,3.5)\n",
    "    plt.figure(figsize=figsize)\n",
    "    pysta.plot_temporal_profile(sta, tap, dt, ylim=[-0.5,0.5])\n",
    "    if ylabel is not None:\n",
    "        plt.ylabel(ylabel)\n",
    "    print('peak-to-peak diff. = {:.2f}'.format(p2p(sta)))\n",
    "    print('PSNR = {:.2f}'.format(psnr(sta)))\n",
    "#     plt.title('peak diff. = {:.2f}'.format(p2p(sta)))\n",
    "    plt.xlabel(None)\n",
    "\n",
    "    if fig_basename is not None:\n",
    "        plt.savefig(fig_basename + '_temp.pdf', bbox_inches='tight') # https://stackoverflow.com/a/4046233\n",
    "\n",
    "    plt.figure()\n",
    "    pysta.plot_stim_slices(sta, height=height, width=width, dt=dt, vmin=-0.5, vmax=0.5)\n",
    "\n",
    "#     plt.tight_layout()\n",
    "    \n",
    "    if fig_basename is not None:\n",
    "        plt.savefig(fig_basename + '_spatial.pdf', bbox_inches='tight')\n",
    "    \n",
    "    \n",
    "def groupby_dict(df, col, group):\n",
    "    data = dict()\n",
    "    for group_val, d in df.groupby(group):\n",
    "#         print(group_val)\n",
    "        data[group_val] = d[col].to_list()\n",
    "    return data\n",
    "\n",
    "\n",
    "def plot_bar_by_group(info, col, \n",
    "                      groupby='cell_type', \n",
    "                      group_values = ['ON', 'OFF', 'ON-OFF', 'Unknown'], color=['r','#00A0FF','green', '#A0A0A0']):\n",
    "    \n",
    "    means = info.groupby(groupby)[col].mean()[group_values]\n",
    "    sems = info.groupby(groupby)[col].sem()[group_values]\n",
    "\n",
    "    plt.bar(group_values, means, yerr=sems,\n",
    "            width=0.4, color=color, edgecolor='k', linewidth=1,\n",
    "            capsize=5)\n",
    "    \n",
    "    plt.ylabel(col)\n",
    "    plt.xlabel('cell type')\n",
    "    \n",
    "    plt.xlim(-0.5, len(group_values)-0.5)\n",
    "    box_off()"
   ]
  },
  {
   "cell_type": "markdown",
   "metadata": {},
   "source": [
    "Let's re-plot old Figure 3 (ON-OFF cell) for all the methods"
   ]
  },
  {
   "cell_type": "markdown",
   "metadata": {},
   "source": [
    "## load data"
   ]
  },
  {
   "cell_type": "code",
   "execution_count": 3,
   "metadata": {},
   "outputs": [],
   "source": [
    "data_path = 'data'\n",
    "\n",
    "dataset = '20201209'\n",
    "width = 26\n",
    "height = 26\n",
    "\n",
    "dataset = '20201216'\n",
    "width = 13\n",
    "height = 13\n",
    "\n",
    "# dataset = '20180626'\n",
    "# width = 8\n",
    "# height = 8"
   ]
  },
  {
   "cell_type": "code",
   "execution_count": 4,
   "metadata": {},
   "outputs": [
    {
     "data": {
      "text/plain": [
       "'20180828_26pix_10Hz'"
      ]
     },
     "execution_count": 4,
     "metadata": {},
     "output_type": "execute_result"
    }
   ],
   "source": [
    "# different spatial & temporal resolutions (2018.08.28)\n",
    "data_path = 'data'\n",
    "\n",
    "width = 8\n",
    "height = 8\n",
    "fps = 10\n",
    "\n",
    "width = 8\n",
    "height = 8\n",
    "fps = 25\n",
    "\n",
    "width = 13\n",
    "height = 13\n",
    "fps = 10\n",
    "\n",
    "width = 26\n",
    "height = 26\n",
    "fps = 10\n",
    "\n",
    "dataset = '20180828_{}pix_{}Hz'.format(width,fps)\n",
    "dataset"
   ]
  },
  {
   "cell_type": "code",
   "execution_count": 5,
   "metadata": {},
   "outputs": [
    {
     "data": {
      "text/plain": [
       "108"
      ]
     },
     "execution_count": 5,
     "metadata": {},
     "output_type": "execute_result"
    }
   ],
   "source": [
    "info = pd.read_csv(os.path.join(data_path, dataset + '_info.csv'))\n",
    "data = np.load(os.path.join(data_path, dataset + '.npz'))\n",
    "\n",
    "stim = data['stim'] - 0.5\n",
    "spike_counts = data['spike_counts']\n",
    "\n",
    "len(info)"
   ]
  },
  {
   "cell_type": "markdown",
   "metadata": {},
   "source": [
    "## calc STA for an RGC"
   ]
  },
  {
   "cell_type": "code",
   "execution_count": 6,
   "metadata": {},
   "outputs": [
    {
     "name": "stdout",
     "output_type": "stream",
     "text": [
      "(9000, 676)\n",
      "(108, 9000)\n"
     ]
    }
   ],
   "source": [
    "print(stim.shape)\n",
    "print(spike_counts.shape)"
   ]
  },
  {
   "cell_type": "code",
   "execution_count": 7,
   "metadata": {},
   "outputs": [
    {
     "name": "stdout",
     "output_type": "stream",
     "text": [
      "45a Unknown\n"
     ]
    }
   ],
   "source": [
    "# choose a channel\n",
    "ch_idx = 12\n",
    "# ch_idx = 103  # ON\n",
    "# ch_idx = 81   # Unknown   # only 3 spikes\n",
    "\n",
    "# 26x26\n",
    "# ch_idx = 22   # 33c\tON\n",
    "# ch_idx = 29   # 37b ON\n",
    "# ch_idx = 41     # 48b OFF\n",
    "ch_idx = 67     # 71c ON  (p2p=0.4)\n",
    "\n",
    "\n",
    "# small p2p\n",
    "# ch_idx = 81  #85b ON-OFF\n",
    "#ch_idx = 84 #87b ON\n",
    "\n",
    "channel_name = info['channel'][ch_idx]\n",
    "cell_types = info['cell_type'][ch_idx]\n",
    "print(channel_name, cell_types)"
   ]
  },
  {
   "cell_type": "code",
   "execution_count": 8,
   "metadata": {},
   "outputs": [
    {
     "name": "stdout",
     "output_type": "stream",
     "text": [
      "(235, 676, 8)\n",
      "peak-to-peak diff. = 0.23\n",
      "PSNR = 6.57\n"
     ]
    },
    {
     "data": {
      "image/png": "[encoded data removed]",
      "text/plain": [
       "<Figure size 396x252 with 1 Axes>"
      ]
     },
     "metadata": {
      "needs_background": "light"
     },
     "output_type": "display_data"
    },
    {
     "data": {
      "text/plain": [
       "<Figure size 432x288 with 0 Axes>"
      ]
     },
     "metadata": {},
     "output_type": "display_data"
    },
    {
     "data": {
      "image/png": "[encoded data removed]",
      "text/plain": [
       "<Figure size 576x288 with 8 Axes>"
      ]
     },
     "metadata": {
      "needs_background": "light"
     },
     "output_type": "display_data"
    }
   ],
   "source": [
    "if fps == 10:\n",
    "    tap = 8\n",
    "elif fps == 25:\n",
    "    tap = 20\n",
    "\n",
    "spike_triggered_stim, weights = pysta.grab_spike_triggered_stim(stim, spike_counts[ch_idx], tap=tap)\n",
    "\n",
    "sta = np.average(spike_triggered_stim, weights=weights, axis=0)\n",
    "# sta.shape\n",
    "\n",
    "print(spike_triggered_stim.shape)\n",
    "\n",
    "\n",
    "import os\n",
    "if not os.path.exists(os.path.join('figure', 'sta')):\n",
    "    os.makedirs(os.path.join('figure', 'sta'))\n",
    "    \n",
    "plot_spatio_temporal(sta, \n",
    "                     width=width, height=height,\n",
    "                     ylabel='STA',\n",
    "                     fig_basename=os.path.join('figure', 'sta', channel_name))\n",
    "# plt.title(channel_name + '(%.2f)'.format)"
   ]
  },
  {
   "cell_type": "markdown",
   "metadata": {},
   "source": [
    "## calc STA and peak-to-peak difference for all RGCs"
   ]
  },
  {
   "cell_type": "code",
   "execution_count": 9,
   "metadata": {},
   "outputs": [
    {
     "name": "stdout",
     "output_type": "stream",
     "text": [
      "12a OFF\n",
      "12b Unknown\n",
      "12c ON\n",
      "12d OFF\n",
      "12e ON\n",
      "13a OFF\n",
      "13b Unknown\n",
      "13c ON\n",
      "13d ON\n",
      "14a ON\n",
      "14b ON\n",
      "14c Unknown\n",
      "14d ON\n",
      "16a OFF\n",
      "22a ON\n",
      "22b OFF\n",
      "23a Unknown\n",
      "23b ON\n",
      "23c ON\n",
      "23d ON\n",
      "24a Unknown\n",
      "24b OFF\n",
      "24c ON\n",
      "24d ON\n",
      "25a Unknown\n",
      "25b OFF\n",
      "25c ON\n",
      "25d ON\n",
      "27a OFF\n",
      "27b ON\n",
      "27c ON\n",
      "27d OFF\n",
      "27e Unknown\n",
      "28a OFF\n",
      "28b Unknown\n",
      "28c ON\n",
      "31a OFF\n",
      "31b ON\n",
      "31c ON\n",
      "31d Unknown\n",
      "32a OFF\n",
      "32b OFF\n",
      "32c OFF\n",
      "32d OFF\n",
      "32e OFF\n",
      "32f OFF\n",
      "32g OFF\n",
      "32h OFF\n",
      "33a OFF\n",
      "33b OFF\n",
      "33c ON\n",
      "36a OFF\n",
      "36b ON\n",
      "36c OFF\n",
      "36d ON\n",
      "36e ON\n",
      "36f Unknown\n",
      "37a Unknown\n",
      "37b Unknown\n",
      "37c ON\n",
      "37d Unknown\n",
      "37e Unknown\n",
      "41a Unknown\n",
      "41b ON\n",
      "41c ON\n",
      "42a OFF\n",
      "42b OFF\n",
      "45a Unknown\n",
      "46a Unknown\n",
      "46b Unknown\n",
      "47a OFF\n",
      "47b Unknown\n",
      "48a OFF\n",
      "48b Unknown\n",
      "48c Unknown\n",
      "51a OFF\n",
      "51b Unknown\n",
      "51c ON\n",
      "51d ON\n",
      "52a Unknown\n",
      "52b ON\n",
      "53a OFF\n",
      "54a Unknown\n",
      "57a Unknown\n",
      "57b Unknown\n",
      "61a ON\n",
      "61b Unknown\n",
      "61c Unknown\n",
      "61d Unknown\n",
      "62a Unknown\n",
      "62b ON\n",
      "63a OFF\n",
      "63b Unknown\n",
      "64a Unknown\n",
      "67a Unknown\n",
      "67b Unknown\n",
      "72a Unknown\n",
      "73a Unknown\n",
      "73b Unknown\n",
      "76a Unknown\n",
      "82a Unknown\n",
      "82b Unknown\n",
      "83a Unknown\n",
      "83b Unknown\n",
      "84a Unknown\n",
      "86a Unknown\n",
      "86b Unknown\n",
      "87a Unknown\n"
     ]
    }
   ],
   "source": [
    "# choose a channel\n",
    "sta_p2ps = []\n",
    "sta_psnrs = []\n",
    "\n",
    "for ch_idx in range(spike_counts.shape[0]):\n",
    "\n",
    "    channel_name = info['channel'][ch_idx]\n",
    "    cell_types = info['cell_type'][ch_idx]\n",
    "    print(channel_name, cell_types)\n",
    "    \n",
    "\n",
    "    spike_triggered_stim, weights = pysta.grab_spike_triggered_stim(stim, spike_counts[ch_idx], tap=tap)\n",
    "\n",
    "    sta = np.average(spike_triggered_stim, weights=weights, axis=0)\n",
    "    # sta.shape\n",
    "    \n",
    "    sta_p2ps.append(p2p(sta))\n",
    "    sta_psnrs.append(psnr(sta))\n",
    "\n",
    "#     print(spike_triggered_stim.shape)\n",
    "\n",
    "#     plot_spatio_temporal(sta, ylabel='STA') #, \n",
    "#     #                     fig_basename=os.path.join('figure', 'sta', channel_name))\n",
    "#     # plt.title(channel_name + '(%.2f)'.format)\n",
    "\n",
    "info['sta_p2p'] = sta_p2ps\n",
    "info['sta_psnr'] = sta_psnrs\n",
    "\n",
    "info.to_csv(dataset + '_sta.csv', index=None)"
   ]
  },
  {
   "cell_type": "markdown",
   "metadata": {},
   "source": [
    "## analyze results"
   ]
  },
  {
   "cell_type": "code",
   "execution_count": 10,
   "metadata": {},
   "outputs": [],
   "source": [
    "# # dataset = '20201209'\n",
    "# # info = pd.read_csv('20201209_sta.csv')\n",
    "\n",
    "# dataset = '20201216'\n",
    "# info = pd.read_csv('20201216_sta.csv')\n"
   ]
  },
  {
   "cell_type": "code",
   "execution_count": 11,
   "metadata": {},
   "outputs": [
    {
     "data": {
      "image/png": "[encoded data removed]",
      "text/plain": [
       "<Figure size 432x288 with 1 Axes>"
      ]
     },
     "metadata": {
      "needs_background": "light"
     },
     "output_type": "display_data"
    }
   ],
   "source": [
    "info['sta_p2p'].hist()\n",
    "plt.xlabel('STA peak-to-peak difference')\n",
    "plt.ylabel('count')\n",
    "box_off()"
   ]
  },
  {
   "cell_type": "code",
   "execution_count": 12,
   "metadata": {},
   "outputs": [
    {
     "data": {
      "image/png": "[encoded data removed]",
      "text/plain": [
       "<Figure size 432x288 with 1 Axes>"
      ]
     },
     "metadata": {
      "needs_background": "light"
     },
     "output_type": "display_data"
    }
   ],
   "source": [
    "info['sta_psnr'].hist()\n",
    "plt.xlabel('STA PSNR')\n",
    "plt.ylabel('count')\n",
    "box_off()"
   ]
  },
  {
   "cell_type": "code",
   "execution_count": 13,
   "metadata": {},
   "outputs": [
    {
     "data": {
      "text/html": [
       "<div>\n",
       "<style scoped>\n",
       "    .dataframe tbody tr th:only-of-type {\n",
       "        vertical-align: middle;\n",
       "    }\n",
       "\n",
       "    .dataframe tbody tr th {\n",
       "        vertical-align: top;\n",
       "    }\n",
       "\n",
       "    .dataframe thead th {\n",
       "        text-align: right;\n",
       "    }\n",
       "</style>\n",
       "<table border=\"1\" class=\"dataframe\">\n",
       "  <thead>\n",
       "    <tr style=\"text-align: right;\">\n",
       "      <th></th>\n",
       "      <th>channel</th>\n",
       "      <th>cell_type</th>\n",
       "      <th>sta_p2p</th>\n",
       "      <th>sta_psnr</th>\n",
       "    </tr>\n",
       "  </thead>\n",
       "  <tbody>\n",
       "    <tr>\n",
       "      <th>2</th>\n",
       "      <td>12c</td>\n",
       "      <td>ON</td>\n",
       "      <td>0.317390</td>\n",
       "      <td>20.802076</td>\n",
       "    </tr>\n",
       "    <tr>\n",
       "      <th>4</th>\n",
       "      <td>12e</td>\n",
       "      <td>ON</td>\n",
       "      <td>0.301205</td>\n",
       "      <td>17.429026</td>\n",
       "    </tr>\n",
       "    <tr>\n",
       "      <th>12</th>\n",
       "      <td>14d</td>\n",
       "      <td>ON</td>\n",
       "      <td>0.507389</td>\n",
       "      <td>13.558402</td>\n",
       "    </tr>\n",
       "    <tr>\n",
       "      <th>21</th>\n",
       "      <td>24b</td>\n",
       "      <td>OFF</td>\n",
       "      <td>0.388068</td>\n",
       "      <td>37.231880</td>\n",
       "    </tr>\n",
       "    <tr>\n",
       "      <th>22</th>\n",
       "      <td>24c</td>\n",
       "      <td>ON</td>\n",
       "      <td>0.358323</td>\n",
       "      <td>21.435426</td>\n",
       "    </tr>\n",
       "    <tr>\n",
       "      <th>23</th>\n",
       "      <td>24d</td>\n",
       "      <td>ON</td>\n",
       "      <td>0.392079</td>\n",
       "      <td>15.382873</td>\n",
       "    </tr>\n",
       "    <tr>\n",
       "      <th>28</th>\n",
       "      <td>27a</td>\n",
       "      <td>OFF</td>\n",
       "      <td>0.366420</td>\n",
       "      <td>33.580716</td>\n",
       "    </tr>\n",
       "    <tr>\n",
       "      <th>29</th>\n",
       "      <td>27b</td>\n",
       "      <td>ON</td>\n",
       "      <td>0.519097</td>\n",
       "      <td>29.703993</td>\n",
       "    </tr>\n",
       "    <tr>\n",
       "      <th>30</th>\n",
       "      <td>27c</td>\n",
       "      <td>ON</td>\n",
       "      <td>0.331967</td>\n",
       "      <td>20.706045</td>\n",
       "    </tr>\n",
       "    <tr>\n",
       "      <th>31</th>\n",
       "      <td>27d</td>\n",
       "      <td>OFF</td>\n",
       "      <td>0.409310</td>\n",
       "      <td>19.745580</td>\n",
       "    </tr>\n",
       "    <tr>\n",
       "      <th>44</th>\n",
       "      <td>32e</td>\n",
       "      <td>OFF</td>\n",
       "      <td>0.330544</td>\n",
       "      <td>9.970189</td>\n",
       "    </tr>\n",
       "    <tr>\n",
       "      <th>45</th>\n",
       "      <td>32f</td>\n",
       "      <td>OFF</td>\n",
       "      <td>0.416988</td>\n",
       "      <td>12.687924</td>\n",
       "    </tr>\n",
       "    <tr>\n",
       "      <th>46</th>\n",
       "      <td>32g</td>\n",
       "      <td>OFF</td>\n",
       "      <td>0.380682</td>\n",
       "      <td>9.760990</td>\n",
       "    </tr>\n",
       "    <tr>\n",
       "      <th>47</th>\n",
       "      <td>32h</td>\n",
       "      <td>OFF</td>\n",
       "      <td>0.381295</td>\n",
       "      <td>11.573769</td>\n",
       "    </tr>\n",
       "    <tr>\n",
       "      <th>50</th>\n",
       "      <td>33c</td>\n",
       "      <td>ON</td>\n",
       "      <td>0.363885</td>\n",
       "      <td>15.707247</td>\n",
       "    </tr>\n",
       "    <tr>\n",
       "      <th>51</th>\n",
       "      <td>36a</td>\n",
       "      <td>OFF</td>\n",
       "      <td>0.384880</td>\n",
       "      <td>31.236055</td>\n",
       "    </tr>\n",
       "    <tr>\n",
       "      <th>53</th>\n",
       "      <td>36c</td>\n",
       "      <td>OFF</td>\n",
       "      <td>0.506540</td>\n",
       "      <td>21.755337</td>\n",
       "    </tr>\n",
       "    <tr>\n",
       "      <th>54</th>\n",
       "      <td>36d</td>\n",
       "      <td>ON</td>\n",
       "      <td>0.366397</td>\n",
       "      <td>15.022459</td>\n",
       "    </tr>\n",
       "    <tr>\n",
       "      <th>55</th>\n",
       "      <td>36e</td>\n",
       "      <td>ON</td>\n",
       "      <td>0.334951</td>\n",
       "      <td>14.247717</td>\n",
       "    </tr>\n",
       "    <tr>\n",
       "      <th>56</th>\n",
       "      <td>36f</td>\n",
       "      <td>Unknown</td>\n",
       "      <td>0.308824</td>\n",
       "      <td>8.268139</td>\n",
       "    </tr>\n",
       "    <tr>\n",
       "      <th>60</th>\n",
       "      <td>37d</td>\n",
       "      <td>Unknown</td>\n",
       "      <td>0.430233</td>\n",
       "      <td>7.370326</td>\n",
       "    </tr>\n",
       "    <tr>\n",
       "      <th>61</th>\n",
       "      <td>37e</td>\n",
       "      <td>Unknown</td>\n",
       "      <td>0.328671</td>\n",
       "      <td>7.405697</td>\n",
       "    </tr>\n",
       "    <tr>\n",
       "      <th>69</th>\n",
       "      <td>46b</td>\n",
       "      <td>Unknown</td>\n",
       "      <td>0.303571</td>\n",
       "      <td>6.972771</td>\n",
       "    </tr>\n",
       "    <tr>\n",
       "      <th>72</th>\n",
       "      <td>48a</td>\n",
       "      <td>OFF</td>\n",
       "      <td>0.462696</td>\n",
       "      <td>19.274653</td>\n",
       "    </tr>\n",
       "    <tr>\n",
       "      <th>74</th>\n",
       "      <td>48c</td>\n",
       "      <td>Unknown</td>\n",
       "      <td>0.310606</td>\n",
       "      <td>9.258299</td>\n",
       "    </tr>\n",
       "    <tr>\n",
       "      <th>80</th>\n",
       "      <td>52b</td>\n",
       "      <td>ON</td>\n",
       "      <td>0.311224</td>\n",
       "      <td>8.246958</td>\n",
       "    </tr>\n",
       "    <tr>\n",
       "      <th>81</th>\n",
       "      <td>53a</td>\n",
       "      <td>OFF</td>\n",
       "      <td>0.361191</td>\n",
       "      <td>27.838253</td>\n",
       "    </tr>\n",
       "    <tr>\n",
       "      <th>84</th>\n",
       "      <td>57b</td>\n",
       "      <td>Unknown</td>\n",
       "      <td>0.328947</td>\n",
       "      <td>6.580413</td>\n",
       "    </tr>\n",
       "    <tr>\n",
       "      <th>87</th>\n",
       "      <td>61c</td>\n",
       "      <td>Unknown</td>\n",
       "      <td>0.336770</td>\n",
       "      <td>7.528010</td>\n",
       "    </tr>\n",
       "    <tr>\n",
       "      <th>88</th>\n",
       "      <td>61d</td>\n",
       "      <td>Unknown</td>\n",
       "      <td>0.321101</td>\n",
       "      <td>6.629588</td>\n",
       "    </tr>\n",
       "    <tr>\n",
       "      <th>91</th>\n",
       "      <td>63a</td>\n",
       "      <td>OFF</td>\n",
       "      <td>0.426025</td>\n",
       "      <td>15.095842</td>\n",
       "    </tr>\n",
       "    <tr>\n",
       "      <th>92</th>\n",
       "      <td>63b</td>\n",
       "      <td>Unknown</td>\n",
       "      <td>0.357616</td>\n",
       "      <td>7.346829</td>\n",
       "    </tr>\n",
       "    <tr>\n",
       "      <th>94</th>\n",
       "      <td>67a</td>\n",
       "      <td>Unknown</td>\n",
       "      <td>0.322981</td>\n",
       "      <td>8.001264</td>\n",
       "    </tr>\n",
       "    <tr>\n",
       "      <th>95</th>\n",
       "      <td>67b</td>\n",
       "      <td>Unknown</td>\n",
       "      <td>0.467742</td>\n",
       "      <td>7.415249</td>\n",
       "    </tr>\n",
       "    <tr>\n",
       "      <th>103</th>\n",
       "      <td>83b</td>\n",
       "      <td>Unknown</td>\n",
       "      <td>0.430622</td>\n",
       "      <td>8.075097</td>\n",
       "    </tr>\n",
       "    <tr>\n",
       "      <th>106</th>\n",
       "      <td>86b</td>\n",
       "      <td>Unknown</td>\n",
       "      <td>0.344828</td>\n",
       "      <td>7.346568</td>\n",
       "    </tr>\n",
       "  </tbody>\n",
       "</table>\n",
       "</div>"
      ],
      "text/plain": [
       "    channel cell_type   sta_p2p   sta_psnr\n",
       "2       12c        ON  0.317390  20.802076\n",
       "4       12e        ON  0.301205  17.429026\n",
       "12      14d        ON  0.507389  13.558402\n",
       "21      24b       OFF  0.388068  37.231880\n",
       "22      24c        ON  0.358323  21.435426\n",
       "23      24d        ON  0.392079  15.382873\n",
       "28      27a       OFF  0.366420  33.580716\n",
       "29      27b        ON  0.519097  29.703993\n",
       "30      27c        ON  0.331967  20.706045\n",
       "31      27d       OFF  0.409310  19.745580\n",
       "44      32e       OFF  0.330544   9.970189\n",
       "45      32f       OFF  0.416988  12.687924\n",
       "46      32g       OFF  0.380682   9.760990\n",
       "47      32h       OFF  0.381295  11.573769\n",
       "50      33c        ON  0.363885  15.707247\n",
       "51      36a       OFF  0.384880  31.236055\n",
       "53      36c       OFF  0.506540  21.755337\n",
       "54      36d        ON  0.366397  15.022459\n",
       "55      36e        ON  0.334951  14.247717\n",
       "56      36f   Unknown  0.308824   8.268139\n",
       "60      37d   Unknown  0.430233   7.370326\n",
       "61      37e   Unknown  0.328671   7.405697\n",
       "69      46b   Unknown  0.303571   6.972771\n",
       "72      48a       OFF  0.462696  19.274653\n",
       "74      48c   Unknown  0.310606   9.258299\n",
       "80      52b        ON  0.311224   8.246958\n",
       "81      53a       OFF  0.361191  27.838253\n",
       "84      57b   Unknown  0.328947   6.580413\n",
       "87      61c   Unknown  0.336770   7.528010\n",
       "88      61d   Unknown  0.321101   6.629588\n",
       "91      63a       OFF  0.426025  15.095842\n",
       "92      63b   Unknown  0.357616   7.346829\n",
       "94      67a   Unknown  0.322981   8.001264\n",
       "95      67b   Unknown  0.467742   7.415249\n",
       "103     83b   Unknown  0.430622   8.075097\n",
       "106     86b   Unknown  0.344828   7.346568"
      ]
     },
     "execution_count": 13,
     "metadata": {},
     "output_type": "execute_result"
    }
   ],
   "source": [
    "idx_high_snr = info['sta_p2p'] >= 0.3\n",
    "info[idx_high_snr]"
   ]
  },
  {
   "cell_type": "code",
   "execution_count": 14,
   "metadata": {},
   "outputs": [],
   "source": [
    "if len(info['cell_type'].value_counts()) == 3: # ON, OFF, Unknown\n",
    "    group_values = ['ON', 'OFF', 'Unknown']\n",
    "    color=['r','#00A0FF', '#A0A0A0']\n",
    "elif len(info['cell_type'].value_counts()) == 4: # ON, OFF, ON-OFF, Unknown\n",
    "    group_values = ['ON', 'OFF', 'ON-OFF', 'Unknown']\n",
    "    color=['r','#00A0FF','green', '#A0A0A0']    "
   ]
  },
  {
   "cell_type": "code",
   "execution_count": 15,
   "metadata": {},
   "outputs": [
    {
     "data": {
      "text/html": [
       "<div>\n",
       "<style scoped>\n",
       "    .dataframe tbody tr th:only-of-type {\n",
       "        vertical-align: middle;\n",
       "    }\n",
       "\n",
       "    .dataframe tbody tr th {\n",
       "        vertical-align: top;\n",
       "    }\n",
       "\n",
       "    .dataframe thead th {\n",
       "        text-align: right;\n",
       "    }\n",
       "</style>\n",
       "<table border=\"1\" class=\"dataframe\">\n",
       "  <thead>\n",
       "    <tr style=\"text-align: right;\">\n",
       "      <th></th>\n",
       "      <th>sta_p2p</th>\n",
       "      <th>sta_psnr</th>\n",
       "    </tr>\n",
       "    <tr>\n",
       "      <th>cell_type</th>\n",
       "      <th></th>\n",
       "      <th></th>\n",
       "    </tr>\n",
       "  </thead>\n",
       "  <tbody>\n",
       "    <tr>\n",
       "      <th>OFF</th>\n",
       "      <td>0.273742</td>\n",
       "      <td>19.450459</td>\n",
       "    </tr>\n",
       "    <tr>\n",
       "      <th>Unknown</th>\n",
       "      <td>0.182232</td>\n",
       "      <td>7.967625</td>\n",
       "    </tr>\n",
       "    <tr>\n",
       "      <th>ON</th>\n",
       "      <td>0.245490</td>\n",
       "      <td>14.021655</td>\n",
       "    </tr>\n",
       "  </tbody>\n",
       "</table>\n",
       "</div>"
      ],
      "text/plain": [
       "            sta_p2p   sta_psnr\n",
       "cell_type                     \n",
       "OFF        0.273742  19.450459\n",
       "Unknown    0.182232   7.967625\n",
       "ON         0.245490  14.021655"
      ]
     },
     "execution_count": 15,
     "metadata": {},
     "output_type": "execute_result"
    }
   ],
   "source": [
    "info.groupby('cell_type', sort=False).mean()"
   ]
  },
  {
   "cell_type": "code",
   "execution_count": 16,
   "metadata": {},
   "outputs": [
    {
     "data": {
      "image/png": "[encoded data removed]",
      "text/plain": [
       "<Figure size 432x288 with 1 Axes>"
      ]
     },
     "metadata": {
      "needs_background": "light"
     },
     "output_type": "display_data"
    }
   ],
   "source": [
    "plot_bar_by_group(info, 'sta_p2p',\n",
    "                  group_values = group_values, color=color)\n",
    "\n",
    "plt.ylim(0, 0.5)\n",
    "plt.savefig(\"figure/sta/{}_p2p_bar.pdf\".format(dataset), bbox_inches='tight')\n",
    "plt.savefig(\"figure/sta/{}_p2p_bar.png\".format(dataset), bbox_inches='tight')"
   ]
  },
  {
   "cell_type": "code",
   "execution_count": 17,
   "metadata": {},
   "outputs": [
    {
     "name": "stdout",
     "output_type": "stream",
     "text": [
      "0.3527657703368968\n",
      "0.0016858513634830927\n"
     ]
    }
   ],
   "source": [
    "# test significance: ON or OFF vs. ON/OFF\n",
    "data = groupby_dict(info, 'sta_p2p', 'cell_type')\n",
    "\n",
    "t, p = stats.ttest_ind(data['ON'], data['OFF'], equal_var=False)\n",
    "print(p)\n",
    "\n",
    "t, p = stats.ttest_ind(data['ON'] + data['OFF'], data['Unknown'], equal_var=False)\n",
    "print(p)"
   ]
  },
  {
   "cell_type": "code",
   "execution_count": 18,
   "metadata": {},
   "outputs": [
    {
     "data": {
      "text/html": [
       "<div>\n",
       "<style scoped>\n",
       "    .dataframe tbody tr th:only-of-type {\n",
       "        vertical-align: middle;\n",
       "    }\n",
       "\n",
       "    .dataframe tbody tr th {\n",
       "        vertical-align: top;\n",
       "    }\n",
       "\n",
       "    .dataframe thead th {\n",
       "        text-align: right;\n",
       "    }\n",
       "</style>\n",
       "<table border=\"1\" class=\"dataframe\">\n",
       "  <thead>\n",
       "    <tr style=\"text-align: right;\">\n",
       "      <th></th>\n",
       "      <th>channel</th>\n",
       "      <th>cell_type</th>\n",
       "      <th>sta_p2p</th>\n",
       "      <th>sta_psnr</th>\n",
       "    </tr>\n",
       "  </thead>\n",
       "  <tbody>\n",
       "    <tr>\n",
       "      <th>0</th>\n",
       "      <td>12a</td>\n",
       "      <td>OFF</td>\n",
       "      <td>0.254622</td>\n",
       "      <td>20.244346</td>\n",
       "    </tr>\n",
       "    <tr>\n",
       "      <th>1</th>\n",
       "      <td>12b</td>\n",
       "      <td>Unknown</td>\n",
       "      <td>0.083526</td>\n",
       "      <td>9.877785</td>\n",
       "    </tr>\n",
       "    <tr>\n",
       "      <th>2</th>\n",
       "      <td>12c</td>\n",
       "      <td>ON</td>\n",
       "      <td>0.317390</td>\n",
       "      <td>20.802076</td>\n",
       "    </tr>\n",
       "    <tr>\n",
       "      <th>3</th>\n",
       "      <td>12d</td>\n",
       "      <td>OFF</td>\n",
       "      <td>0.266202</td>\n",
       "      <td>19.472688</td>\n",
       "    </tr>\n",
       "    <tr>\n",
       "      <th>4</th>\n",
       "      <td>12e</td>\n",
       "      <td>ON</td>\n",
       "      <td>0.301205</td>\n",
       "      <td>17.429026</td>\n",
       "    </tr>\n",
       "    <tr>\n",
       "      <th>...</th>\n",
       "      <td>...</td>\n",
       "      <td>...</td>\n",
       "      <td>...</td>\n",
       "      <td>...</td>\n",
       "    </tr>\n",
       "    <tr>\n",
       "      <th>85</th>\n",
       "      <td>61a</td>\n",
       "      <td>ON</td>\n",
       "      <td>0.132921</td>\n",
       "      <td>8.121701</td>\n",
       "    </tr>\n",
       "    <tr>\n",
       "      <th>90</th>\n",
       "      <td>62b</td>\n",
       "      <td>ON</td>\n",
       "      <td>0.107822</td>\n",
       "      <td>10.173421</td>\n",
       "    </tr>\n",
       "    <tr>\n",
       "      <th>91</th>\n",
       "      <td>63a</td>\n",
       "      <td>OFF</td>\n",
       "      <td>0.426025</td>\n",
       "      <td>15.095842</td>\n",
       "    </tr>\n",
       "    <tr>\n",
       "      <th>94</th>\n",
       "      <td>67a</td>\n",
       "      <td>Unknown</td>\n",
       "      <td>0.322981</td>\n",
       "      <td>8.001264</td>\n",
       "    </tr>\n",
       "    <tr>\n",
       "      <th>103</th>\n",
       "      <td>83b</td>\n",
       "      <td>Unknown</td>\n",
       "      <td>0.430622</td>\n",
       "      <td>8.075097</td>\n",
       "    </tr>\n",
       "  </tbody>\n",
       "</table>\n",
       "<p>81 rows × 4 columns</p>\n",
       "</div>"
      ],
      "text/plain": [
       "    channel cell_type   sta_p2p   sta_psnr\n",
       "0       12a       OFF  0.254622  20.244346\n",
       "1       12b   Unknown  0.083526   9.877785\n",
       "2       12c        ON  0.317390  20.802076\n",
       "3       12d       OFF  0.266202  19.472688\n",
       "4       12e        ON  0.301205  17.429026\n",
       "..      ...       ...       ...        ...\n",
       "85      61a        ON  0.132921   8.121701\n",
       "90      62b        ON  0.107822  10.173421\n",
       "91      63a       OFF  0.426025  15.095842\n",
       "94      67a   Unknown  0.322981   8.001264\n",
       "103     83b   Unknown  0.430622   8.075097\n",
       "\n",
       "[81 rows x 4 columns]"
      ]
     },
     "execution_count": 18,
     "metadata": {},
     "output_type": "execute_result"
    }
   ],
   "source": [
    "idx_high_snr = info['sta_psnr'] >= 8\n",
    "info[idx_high_snr]"
   ]
  },
  {
   "cell_type": "code",
   "execution_count": 19,
   "metadata": {},
   "outputs": [
    {
     "data": {
      "image/png": "[encoded data removed]",
      "text/plain": [
       "<Figure size 432x288 with 1 Axes>"
      ]
     },
     "metadata": {
      "needs_background": "light"
     },
     "output_type": "display_data"
    }
   ],
   "source": [
    "plot_bar_by_group(info, 'sta_psnr',\n",
    "                  group_values = group_values, color=color)\n",
    "\n",
    "plt.savefig(\"figure/sta/{}_psnr_bar.pdf\".format(dataset), bbox_inches='tight')\n",
    "plt.savefig(\"figure/sta/{}_psnr_bar.png\".format(dataset), bbox_inches='tight')"
   ]
  },
  {
   "cell_type": "code",
   "execution_count": 20,
   "metadata": {},
   "outputs": [
    {
     "name": "stdout",
     "output_type": "stream",
     "text": [
      "0.0011428480822921884\n",
      "4.6740781196538155e-15\n"
     ]
    }
   ],
   "source": [
    "# test significance: ON or OFF vs. ON/OFF\n",
    "data = groupby_dict(info, 'sta_psnr', 'cell_type')\n",
    "\n",
    "t, p = stats.ttest_ind(data['ON'], data['OFF'], equal_var=False)\n",
    "print(p)\n",
    "\n",
    "t, p = stats.ttest_ind(data['ON'] + data['OFF'], data['Unknown'], equal_var=False)\n",
    "print(p)"
   ]
  },
  {
   "cell_type": "code",
   "execution_count": null,
   "metadata": {},
   "outputs": [],
   "source": []
  },
  {
   "cell_type": "code",
   "execution_count": null,
   "metadata": {},
   "outputs": [],
   "source": []
  }
 ],
 "metadata": {
  "kernelspec": {
   "display_name": "Python 3",
   "language": "python",
   "name": "python3"
  },
  "language_info": {
   "codemirror_mode": {
    "name": "ipython",
    "version": 3
   },
   "file_extension": ".py",
   "mimetype": "text/x-python",
   "name": "python",
   "nbconvert_exporter": "python",
   "pygments_lexer": "ipython3",
   "version": "3.7.6"
  }
 },
 "nbformat": 4,
 "nbformat_minor": 4
}
