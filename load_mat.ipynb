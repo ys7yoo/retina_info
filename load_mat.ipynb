{
 "cells": [
  {
   "cell_type": "code",
   "execution_count": 1,
   "metadata": {},
   "outputs": [],
   "source": [
    "import pandas as pd\n",
    "import os\n",
    "from glob import glob\n",
    "import numpy as np\n",
    "\n",
    "import matplotlib.pyplot as plt\n",
    "from tqdm import tqdm"
   ]
  },
  {
   "cell_type": "markdown",
   "metadata": {},
   "source": [
    "## load  channel name and cell type info\n",
    "\n",
    "<!-- \tON\tON/OFF\tOFF\tUnknown\tSum\n",
    "count\t32\t10\t13\t52\t107 -->\n"
   ]
  },
  {
   "cell_type": "code",
   "execution_count": 2,
   "metadata": {},
   "outputs": [],
   "source": [
    "dataset = '20201216'\n",
    "# dataset = '20201209'\n",
    "\n",
    "data_path = os.path.join('data', dataset)"
   ]
  },
  {
   "cell_type": "code",
   "execution_count": 3,
   "metadata": {},
   "outputs": [],
   "source": [
    "dataset = '20180828'\n",
    "\n",
    "data_path = os.path.join('data', dataset)\n",
    "\n",
    "\n",
    "width = 8\n",
    "height = 8"
   ]
  },
  {
   "cell_type": "code",
   "execution_count": 4,
   "metadata": {},
   "outputs": [],
   "source": [
    "# cloud stim\n",
    "# ln -s ~/data/cloud_stim data_cloud_stim\n",
    "data_folder = 'data_cloud_stim'\n",
    "dataset = '20210113'\n",
    "\n",
    "data_path = os.path.join(data_folder, dataset)\n",
    "\n",
    "\n",
    "width = 26\n",
    "height = 26"
   ]
  },
  {
   "cell_type": "code",
   "execution_count": 5,
   "metadata": {},
   "outputs": [
    {
     "data": {
      "text/html": [
       "<div>\n",
       "<style scoped>\n",
       "    .dataframe tbody tr th:only-of-type {\n",
       "        vertical-align: middle;\n",
       "    }\n",
       "\n",
       "    .dataframe tbody tr th {\n",
       "        vertical-align: top;\n",
       "    }\n",
       "\n",
       "    .dataframe thead th {\n",
       "        text-align: right;\n",
       "    }\n",
       "</style>\n",
       "<table border=\"1\" class=\"dataframe\">\n",
       "  <thead>\n",
       "    <tr style=\"text-align: right;\">\n",
       "      <th></th>\n",
       "      <th>channel</th>\n",
       "      <th>cell_type</th>\n",
       "    </tr>\n",
       "  </thead>\n",
       "  <tbody>\n",
       "    <tr>\n",
       "      <th>0</th>\n",
       "      <td>12a</td>\n",
       "      <td>ON</td>\n",
       "    </tr>\n",
       "    <tr>\n",
       "      <th>1</th>\n",
       "      <td>12b</td>\n",
       "      <td>Unknown</td>\n",
       "    </tr>\n",
       "    <tr>\n",
       "      <th>2</th>\n",
       "      <td>13a</td>\n",
       "      <td>ON</td>\n",
       "    </tr>\n",
       "    <tr>\n",
       "      <th>3</th>\n",
       "      <td>13b</td>\n",
       "      <td>ON</td>\n",
       "    </tr>\n",
       "    <tr>\n",
       "      <th>4</th>\n",
       "      <td>14a</td>\n",
       "      <td>ON</td>\n",
       "    </tr>\n",
       "    <tr>\n",
       "      <th>...</th>\n",
       "      <td>...</td>\n",
       "      <td>...</td>\n",
       "    </tr>\n",
       "    <tr>\n",
       "      <th>106</th>\n",
       "      <td>78a</td>\n",
       "      <td>OFF</td>\n",
       "    </tr>\n",
       "    <tr>\n",
       "      <th>107</th>\n",
       "      <td>78b</td>\n",
       "      <td>ON-OFF</td>\n",
       "    </tr>\n",
       "    <tr>\n",
       "      <th>108</th>\n",
       "      <td>86a</td>\n",
       "      <td>ON</td>\n",
       "    </tr>\n",
       "    <tr>\n",
       "      <th>109</th>\n",
       "      <td>87a</td>\n",
       "      <td>ON-OFF</td>\n",
       "    </tr>\n",
       "    <tr>\n",
       "      <th>110</th>\n",
       "      <td>87b</td>\n",
       "      <td>ON-OFF</td>\n",
       "    </tr>\n",
       "  </tbody>\n",
       "</table>\n",
       "<p>111 rows × 2 columns</p>\n",
       "</div>"
      ],
      "text/plain": [
       "    channel cell_type\n",
       "0       12a        ON\n",
       "1       12b   Unknown\n",
       "2       13a        ON\n",
       "3       13b        ON\n",
       "4       14a        ON\n",
       "..      ...       ...\n",
       "106     78a       OFF\n",
       "107     78b    ON-OFF\n",
       "108     86a        ON\n",
       "109     87a    ON-OFF\n",
       "110     87b    ON-OFF\n",
       "\n",
       "[111 rows x 2 columns]"
      ]
     },
     "execution_count": 5,
     "metadata": {},
     "output_type": "execute_result"
    }
   ],
   "source": [
    "# read the csv file\n",
    "info = pd.read_csv(os.path.join(data_path, 'cell_type.csv'))\n",
    "\n",
    "info.replace('-', 'Unknown', inplace=True)\n",
    "\n",
    "info"
   ]
  },
  {
   "cell_type": "code",
   "execution_count": 6,
   "metadata": {},
   "outputs": [
    {
     "data": {
      "text/plain": [
       "ON         0.522523\n",
       "ON-OFF     0.234234\n",
       "Unknown    0.144144\n",
       "OFF        0.099099\n",
       "Name: cell_type, dtype: float64"
      ]
     },
     "execution_count": 6,
     "metadata": {},
     "output_type": "execute_result"
    }
   ],
   "source": [
    "info['cell_type'].value_counts() / len(info)"
   ]
  },
  {
   "cell_type": "markdown",
   "metadata": {},
   "source": [
    "## load stim"
   ]
  },
  {
   "cell_type": "code",
   "execution_count": 7,
   "metadata": {},
   "outputs": [
    {
     "data": {
      "text/plain": [
       "'data_cloud_stim/20210113/StimInfo_26pix_66um_10Hz.mat'"
      ]
     },
     "execution_count": 7,
     "metadata": {},
     "output_type": "execute_result"
    }
   ],
   "source": [
    "stim_info_path = glob(os.path.join(data_path,'StimInfo*.mat'))[0]\n",
    "stim_info_path"
   ]
  },
  {
   "cell_type": "code",
   "execution_count": 8,
   "metadata": {},
   "outputs": [],
   "source": [
    "# read stimulus\n",
    "import scipy.io as sio\n",
    "stim = list()\n",
    "for stim_info in sio.loadmat(stim_info_path)['StimInfo']:\n",
    "    stim.append(stim_info[0][0])\n",
    "    # print(stim_info[0][0].shape)\n",
    "stim = np.array(stim)"
   ]
  },
  {
   "cell_type": "code",
   "execution_count": 9,
   "metadata": {},
   "outputs": [
    {
     "data": {
      "text/plain": [
       "(12000, 676)"
      ]
     },
     "execution_count": 9,
     "metadata": {},
     "output_type": "execute_result"
    }
   ],
   "source": [
    "stim.shape"
   ]
  },
  {
   "cell_type": "code",
   "execution_count": 10,
   "metadata": {},
   "outputs": [
    {
     "data": {
      "text/plain": [
       "<matplotlib.image.AxesImage at 0x7fc4ba8aa940>"
      ]
     },
     "execution_count": 10,
     "metadata": {},
     "output_type": "execute_result"
    },
    {
     "data": {
      "image/png": "[encoded data removed]",
      "text/plain": [
       "<Figure size 432x288 with 1 Axes>"
      ]
     },
     "metadata": {
      "needs_background": "light"
     },
     "output_type": "display_data"
    }
   ],
   "source": [
    "plt.imshow(stim[0,:].reshape(height,width), cmap='gray')"
   ]
  },
  {
   "cell_type": "markdown",
   "metadata": {},
   "source": [
    "## load spike counts"
   ]
  },
  {
   "cell_type": "code",
   "execution_count": 11,
   "metadata": {},
   "outputs": [],
   "source": [
    "def count_spikes(spike_times, bins, timestamp_start=0):\n",
    "    num_bins = bins.shape[0]\n",
    "    spike_count = np.zeros_like(bins)\n",
    "    for i in range(num_bins):\n",
    "        if i == 0:\n",
    "            continue\n",
    "\n",
    "        spike_count[i] = np.sum(np.logical_and(spike_times >= timestamp_start + bins[i-1], spike_times < timestamp_start + bins[i]))\n",
    "    return spike_count"
   ]
  },
  {
   "cell_type": "code",
   "execution_count": 12,
   "metadata": {},
   "outputs": [
    {
     "name": "stderr",
     "output_type": "stream",
     "text": [
      "\r",
      "  0%|          | 0/111 [00:00<?, ?it/s]"
     ]
    },
    {
     "name": "stdout",
     "output_type": "stream",
     "text": [
      "data_cloud_stim/20210113/SpikeTrain_20210113/SpikeTrain_ND2_26pix_66um_10Hz/A1a.mat\n"
     ]
    },
    {
     "name": "stderr",
     "output_type": "stream",
     "text": [
      "100%|██████████| 111/111 [00:37<00:00,  3.00it/s]\n"
     ]
    }
   ],
   "source": [
    "# read spike counts\n",
    "path = glob(os.path.join(data_path, 'SpikeTrain_'+dataset,  'SpikeTrain_*'))[0]\n",
    "\n",
    "# load time stamps\n",
    "filename = os.path.join(path, 'A1a.mat')\n",
    "print(filename)\n",
    "ts = sio.loadmat(filename)['A1a'].ravel()\n",
    "# print(ts[0], ts[-1], ts.shape)\n",
    "\n",
    "# load spike times\n",
    "# channel_names = list()\n",
    "spike_counts = list()\n",
    "for i, channel_name in enumerate(tqdm(info['channel'])):\n",
    "    filename = os.path.join(path, 'ch_' + channel_name)\n",
    "    # print(filename)\n",
    "    spike_time = sio.loadmat(filename)['ch_' + channel_name].ravel()\n",
    "\n",
    "    # count spikes\n",
    "    spike_counts.append(count_spikes(spike_time, ts))\n",
    "\n",
    "spike_counts = np.array(spike_counts)"
   ]
  },
  {
   "cell_type": "code",
   "execution_count": 13,
   "metadata": {},
   "outputs": [
    {
     "data": {
      "text/plain": [
       "(111, 12000)"
      ]
     },
     "execution_count": 13,
     "metadata": {},
     "output_type": "execute_result"
    }
   ],
   "source": [
    "spike_counts.shape"
   ]
  },
  {
   "cell_type": "code",
   "execution_count": 14,
   "metadata": {},
   "outputs": [
    {
     "data": {
      "text/plain": [
       "(array([698973., 310463., 166410.,  79994.,  37532.,  18945.,   9640.]),\n",
       " array([-0.5,  0.5,  1.5,  2.5,  3.5,  4.5,  5.5,  6.5]),\n",
       " <BarContainer object of 7 artists>)"
      ]
     },
     "execution_count": 14,
     "metadata": {},
     "output_type": "execute_result"
    },
    {
     "data": {
      "image/png": "[encoded data removed]",
      "text/plain": [
       "<Figure size 432x288 with 1 Axes>"
      ]
     },
     "metadata": {
      "needs_background": "light"
     },
     "output_type": "display_data"
    }
   ],
   "source": [
    "plt.hist(spike_counts.ravel(), [-0.5, 0.5, 1.5, 2.5, 3.5, 4.5, 5.5, 6.5])"
   ]
  },
  {
   "cell_type": "markdown",
   "metadata": {},
   "source": [
    "## save to npz and csv\n",
    "\n",
    "put these files under `data`"
   ]
  },
  {
   "cell_type": "code",
   "execution_count": 15,
   "metadata": {},
   "outputs": [],
   "source": [
    "np.savez(dataset, dataset=dataset, stim=stim, spike_counts=spike_counts)"
   ]
  },
  {
   "cell_type": "code",
   "execution_count": 16,
   "metadata": {},
   "outputs": [],
   "source": [
    "info.to_csv(dataset+'_info.csv', index=None)"
   ]
  },
  {
   "cell_type": "code",
   "execution_count": null,
   "metadata": {},
   "outputs": [],
   "source": []
  }
 ],
 "metadata": {
  "kernelspec": {
   "display_name": "Python 3",
   "language": "python",
   "name": "python3"
  },
  "language_info": {
   "codemirror_mode": {
    "name": "ipython",
    "version": 3
   },
   "file_extension": ".py",
   "mimetype": "text/x-python",
   "name": "python",
   "nbconvert_exporter": "python",
   "pygments_lexer": "ipython3",
   "version": "3.8.5"
  }
 },
 "nbformat": 4,
 "nbformat_minor": 4
}
