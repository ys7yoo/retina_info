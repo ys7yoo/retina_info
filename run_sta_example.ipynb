{
  "nbformat": 4,
  "nbformat_minor": 0,
  "metadata": {
    "kernelspec": {
      "display_name": "Python 3",
      "language": "python",
      "name": "python3"
    },
    "language_info": {
      "codemirror_mode": {
        "name": "ipython",
        "version": 3
      },
      "file_extension": ".py",
      "mimetype": "text/x-python",
      "name": "python",
      "nbconvert_exporter": "python",
      "pygments_lexer": "ipython3",
      "version": "3.7.9"
    },
    "colab": {
      "name": "run_sta_example.ipynb",
      "provenance": [],
      "include_colab_link": true
    }
  },
  "cells": [
    {
      "cell_type": "markdown",
      "metadata": {
        "id": "view-in-github",
        "colab_type": "text"
      },
      "source": [
        "<a href=\"https://colab.research.google.com/github/ys7yoo/retina_info/blob/main/run_sta_example.ipynb\" target=\"_parent\"><img src=\"https://colab.research.google.com/assets/colab-badge.svg\" alt=\"Open In Colab\"/></a>"
      ]
    },
    {
      "cell_type": "code",
      "metadata": {
        "id": "49d-5iLpy8rl"
      },
      "source": [
        "# run this first & restart \n",
        "import skimage\n",
        "skimage_version = int(skimage.__version__.split('.')[1])\n",
        "if  skimage_version < 17:\n",
        "    !pip install -U scikit-image\n",
        "else: \n",
        "    from skimage.filters import window"
      ],
      "execution_count": 1,
      "outputs": []
    },
    {
      "cell_type": "code",
      "metadata": {
        "id": "ESbRs6yQ0ZT2",
        "outputId": "06474da6-0574-49c6-c5b1-c954e45abeeb",
        "colab": {
          "base_uri": "https://localhost:8080/"
        }
      },
      "source": [
        "# download PYSTA2 package\n",
        "!git clone https://github.com/ys7yoo/pysta2.git"
      ],
      "execution_count": 2,
      "outputs": [
        {
          "output_type": "stream",
          "text": [
            "fatal: destination path 'pysta2' already exists and is not an empty directory.\n"
          ],
          "name": "stdout"
        }
      ]
    },
    {
      "cell_type": "code",
      "metadata": {
        "id": "wpnMwZb50Gpy",
        "outputId": "36001edd-b47c-4242-ef4e-066063c9a9e2",
        "colab": {
          "base_uri": "https://localhost:8080/"
        }
      },
      "source": [
        "# download example dataset\n",
        "!wget brain.inu.ac.kr/python/data_example.tar.gz\n",
        "!tar xvfz data_example.tar.gz"
      ],
      "execution_count": 3,
      "outputs": [
        {
          "output_type": "stream",
          "text": [
            "--2021-01-25 13:56:54--  http://brain.inu.ac.kr/python/data_example.tar.gz\n",
            "Resolving brain.inu.ac.kr (brain.inu.ac.kr)... 117.16.245.146\n",
            "Connecting to brain.inu.ac.kr (brain.inu.ac.kr)|117.16.245.146|:80... connected.\n",
            "HTTP request sent, awaiting response... 200 OK\n",
            "Length: 1084 (1.1K) [application/x-gzip]\n",
            "Saving to: ‘data_example.tar.gz.3’\n",
            "\n",
            "data_example.tar.gz 100%[===================>]   1.06K  --.-KB/s    in 0s      \n",
            "\n",
            "2021-01-25 13:56:55 (172 MB/s) - ‘data_example.tar.gz.3’ saved [1084/1084]\n",
            "\n",
            "data_example/\n",
            "data_example/20210113.npz\n",
            "data_example/20210113_info.csv\n"
          ],
          "name": "stdout"
        }
      ]
    },
    {
      "cell_type": "code",
      "metadata": {
        "id": "G1znca3YtJFI"
      },
      "source": [
        "import numpy as np\n",
        "import matplotlib.pyplot as plt\n",
        "from scipy import stats\n",
        "\n",
        "from scipy.fft import rfft, rfftfreq\n",
        "from scipy.fft import fft2\n",
        "\n",
        "\n",
        "\n",
        "import os\n",
        "import sys\n",
        "# cwd = os.getcwd()\n",
        "# parent_dir = os.path.abspath(os.path.join(cwd, os.pardir))\n",
        "# sys.path.insert(0, os.path.join(parent_dir, 'pysta2'))\n",
        "\n",
        "from pysta2 import pysta\n",
        "# import stc\n",
        "# import stcl\n",
        "\n",
        "# from stcl import load_centers\n",
        "\n",
        "import pandas as pd\n",
        "import os\n",
        "\n",
        "%load_ext autoreload\n",
        "%autoreload 2"
      ],
      "execution_count": 4,
      "outputs": []
    },
    {
      "cell_type": "code",
      "metadata": {
        "id": "pMhfj910tJFR"
      },
      "source": [
        "# helper functions for visualization\n",
        "def box_off():\n",
        "    ax = plt.gca()\n",
        "    ax.spines['top'].set_visible(False)\n",
        "    ax.spines['right'].set_visible(False)\n",
        "    \n",
        "def p2p(sta):\n",
        "    return np.max(sta) - np.min(sta)\n",
        "\n",
        "def psnr(sta):\n",
        "    return (np.max(sta.ravel()) - np.min(sta.ravel())) / np.std(sta.ravel())\n",
        "\n",
        "\n",
        "def plot_temporal_profile(sta, dt):\n",
        "    tap = sta.shape[-1]\n",
        "#     figsize = (5.5,3.5)\n",
        "#     plt.figure(figsize=figsize)\n",
        "    pysta.plot_temporal_profile(sta, tap, dt, ylim=[-0.5,0.5])\n",
        "    plt.ylabel('STA')\n",
        "    print('peak-to-peak diff. = {:.2f}'.format(p2p(sta)))\n",
        "    # print('PSNR = {:.2f}'.format(psnr(sta)))\n",
        "\n",
        "    plt.title('peak-to-peak diff. = {:.2f}'.format(p2p(sta)))\n",
        "#     plt.xlabel('ms')\n",
        "    \n",
        "    \n",
        "def plot_temporal_spectrum(sta, dt):\n",
        "    wt = rfft(sta, axis=1)\n",
        "    \n",
        "    N = sta.shape[1]\n",
        "    fs = rfftfreq(N, dt)\n",
        "    \n",
        "    plt.plot(fs, np.abs(wt.T), 'o-')\n",
        "    plt.xlabel('Hz')\n",
        "    plt.ylabel('FFT amplitude')\n",
        "\n",
        "    box_off()\n",
        "\n",
        "\n",
        "def plot_spatial_spectrum(sta_slice, windowing='hann', pixel_size=1, precision=2):\n",
        "    assert len(sta_slice.shape)==2\n",
        "    \n",
        "    def set_ticks(ax, fs, precision=precision):\n",
        "        ticks = range(0, len(fs))\n",
        "        print_format = \"{:.\" + str(precision) + \"f}\"\n",
        "        ticklabels = [print_format.format(p) for p in (fs)]\n",
        "\n",
        "        ax.set_xticks(ticks)\n",
        "        ax.set_xticklabels(ticklabels)\n",
        "        ax.set_xlim(-0.5, len(fs)-0.5)\n",
        "#         from matplotlib.ticker import FormatStrFormatter\n",
        "#         ax.xaxis.set_major_formatter(FormatStrFormatter('%.0f'))\n",
        "        \n",
        "        ax.set_yticks(ticks)\n",
        "        ax.set_yticklabels(ticklabels)\n",
        "        ax.set_ylim(-0.5, len(fs)-0.5)\n",
        "\n",
        "        \n",
        "    w = fft2(sta_slice * window(windowing, sta_slice.shape))\n",
        "\n",
        "    fs = rfftfreq(sta_slice.shape[0])\n",
        "    \n",
        "    # crop and take abs w \n",
        "    abs_w = np.abs(w[:len(fs),:len(fs)])\n",
        "    plt.imshow(abs_w, cmap='gray', origin='lower')\n",
        "\n",
        "    set_ticks(plt.gca(), fs, precision=precision)\n",
        "    \n",
        "    plt.xlabel('frequency')\n",
        "    plt.ylabel('frequency')\n",
        "    \n",
        "    abs_w[0,0] = - np.Inf\n",
        "    idx_max = np.unravel_index(np.argmax(abs_w, axis=None), abs_w.shape)\n",
        "    plt.plot(idx_max[1],idx_max[0], 'r*')\n",
        "    \n",
        "    \n",
        "    \n",
        "def plot_spatio_temporal(sta, height=13, width=13, dt=1000/30, ylabel=None, fig_basename=None):        \n",
        "    tap = sta.shape[-1]\n",
        "    figsize = (5.5,3.5)\n",
        "    plt.figure(figsize=figsize)\n",
        "    \n",
        "    plot_temporal_profile(sta, dt)\n",
        "    \n",
        "    \n",
        "#     pysta.plot_temporal_profile(sta, tap, dt, ylim=[-0.5,0.5])\n",
        "#     if ylabel is not None:\n",
        "#         plt.ylabel(ylabel)\n",
        "#     print('peak-to-peak diff. = {:.2f}'.format(p2p(sta)))\n",
        "#     print('PSNR = {:.2f}'.format(psnr(sta)))\n",
        "# #     plt.title('peak diff. = {:.2f}'.format(p2p(sta)))\n",
        "#     plt.xlabel(None)\n",
        "\n",
        "    if fig_basename is not None:\n",
        "        plt.savefig(fig_basename + '_temp.pdf', bbox_inches='tight') # https://stackoverflow.com/a/4046233\n",
        "\n",
        "    plt.figure()\n",
        "    pysta.plot_stim_slices(sta, height=height, width=width, dt=dt, vmin=-0.5, vmax=0.5)\n",
        "\n",
        "#     plt.tight_layout()\n",
        "    \n",
        "    if fig_basename is not None:\n",
        "        plt.savefig(fig_basename + '_spatial.pdf', bbox_inches='tight')\n",
        "    \n",
        "    \n",
        "def groupby_dict(df, col, group):\n",
        "    data = dict()\n",
        "    for group_val, d in df.groupby(group):\n",
        "#         print(group_val)\n",
        "        data[group_val] = d[col].to_list()\n",
        "    return data\n",
        "\n",
        "\n",
        "def plot_bar_by_group(info, col, \n",
        "                      groupby='cell_type', \n",
        "                      group_values = ['ON', 'OFF', 'ON-OFF', 'Unknown'], color=['r','#00A0FF','green', '#A0A0A0']):\n",
        "    \n",
        "    means = info.groupby(groupby)[col].mean()[group_values]\n",
        "    sems = info.groupby(groupby)[col].sem()[group_values]\n",
        "\n",
        "    plt.bar(group_values, means, yerr=sems,\n",
        "            width=0.4, color=color, edgecolor='k', linewidth=1,\n",
        "            capsize=5)\n",
        "    \n",
        "    plt.ylabel(col)\n",
        "    plt.xlabel('cell type')\n",
        "    \n",
        "    plt.xlim(-0.5, len(group_values)-0.5)\n",
        "    box_off()"
      ],
      "execution_count": 5,
      "outputs": []
    },
    {
      "cell_type": "markdown",
      "metadata": {
        "id": "GRwK5O3-tJFS"
      },
      "source": [
        "Let's re-plot old Figure 3 (ON-OFF cell) for all the methods"
      ]
    },
    {
      "cell_type": "markdown",
      "metadata": {
        "id": "2DVekIqStJFS"
      },
      "source": [
        "## load data"
      ]
    },
    {
      "cell_type": "code",
      "metadata": {
        "id": "1wjc0mvytJFT"
      },
      "source": [
        "# cloud stim data (2021.01.13)\n",
        "# ln -s ~/data/cloud_stim_data data_cloud_stim\n",
        "data_path = 'data_example'\n",
        "\n",
        "dataset = '20210113'\n",
        "\n",
        "\n",
        "width = 26\n",
        "height = 26"
      ],
      "execution_count": 6,
      "outputs": []
    },
    {
      "cell_type": "code",
      "metadata": {
        "id": "Vf-kg9rN1eBC",
        "outputId": "da593d14-56b6-4574-f24f-112a0692dd5d",
        "colab": {
          "base_uri": "https://localhost:8080/"
        }
      },
      "source": [
        "!ls data_example"
      ],
      "execution_count": 9,
      "outputs": [
        {
          "output_type": "stream",
          "text": [
            "20210113_info.csv  20210113.npz\n"
          ],
          "name": "stdout"
        }
      ]
    },
    {
      "cell_type": "code",
      "metadata": {
        "colab": {
          "base_uri": "https://localhost:8080/",
          "height": 383
        },
        "id": "9qxHQrMitJFT",
        "outputId": "789ffe00-9cf6-4f32-fc95-89daa49c5ee7"
      },
      "source": [
        "data = np.load(os.path.join(data_path, dataset + '.npz'))\n",
        "info = pd.read_csv(os.path.join(data_path, dataset + '_info.csv'))\n",
        "\n",
        "\n",
        "stim = data['stim'] - 0.5\n",
        "spike_counts = data['spike_counts']\n",
        "\n",
        "len(info)"
      ],
      "execution_count": 10,
      "outputs": [
        {
          "output_type": "error",
          "ename": "ValueError",
          "evalue": "ignored",
          "traceback": [
            "\u001b[0;31m---------------------------------------------------------------------------\u001b[0m",
            "\u001b[0;31mValueError\u001b[0m                                Traceback (most recent call last)",
            "\u001b[0;32m<ipython-input-10-ede3cd389214>\u001b[0m in \u001b[0;36m<module>\u001b[0;34m()\u001b[0m\n\u001b[0;32m----> 1\u001b[0;31m \u001b[0mdata\u001b[0m \u001b[0;34m=\u001b[0m \u001b[0mnp\u001b[0m\u001b[0;34m.\u001b[0m\u001b[0mload\u001b[0m\u001b[0;34m(\u001b[0m\u001b[0mos\u001b[0m\u001b[0;34m.\u001b[0m\u001b[0mpath\u001b[0m\u001b[0;34m.\u001b[0m\u001b[0mjoin\u001b[0m\u001b[0;34m(\u001b[0m\u001b[0mdata_path\u001b[0m\u001b[0;34m,\u001b[0m \u001b[0mdataset\u001b[0m \u001b[0;34m+\u001b[0m \u001b[0;34m'.npz'\u001b[0m\u001b[0;34m)\u001b[0m\u001b[0;34m)\u001b[0m\u001b[0;34m\u001b[0m\u001b[0;34m\u001b[0m\u001b[0m\n\u001b[0m\u001b[1;32m      2\u001b[0m \u001b[0minfo\u001b[0m \u001b[0;34m=\u001b[0m \u001b[0mpd\u001b[0m\u001b[0;34m.\u001b[0m\u001b[0mread_csv\u001b[0m\u001b[0;34m(\u001b[0m\u001b[0mos\u001b[0m\u001b[0;34m.\u001b[0m\u001b[0mpath\u001b[0m\u001b[0;34m.\u001b[0m\u001b[0mjoin\u001b[0m\u001b[0;34m(\u001b[0m\u001b[0mdata_path\u001b[0m\u001b[0;34m,\u001b[0m \u001b[0mdataset\u001b[0m \u001b[0;34m+\u001b[0m \u001b[0;34m'_info.csv'\u001b[0m\u001b[0;34m)\u001b[0m\u001b[0;34m)\u001b[0m\u001b[0;34m\u001b[0m\u001b[0;34m\u001b[0m\u001b[0m\n\u001b[1;32m      3\u001b[0m \u001b[0;34m\u001b[0m\u001b[0m\n\u001b[1;32m      4\u001b[0m \u001b[0;34m\u001b[0m\u001b[0m\n\u001b[1;32m      5\u001b[0m \u001b[0mstim\u001b[0m \u001b[0;34m=\u001b[0m \u001b[0mdata\u001b[0m\u001b[0;34m[\u001b[0m\u001b[0;34m'stim'\u001b[0m\u001b[0;34m]\u001b[0m \u001b[0;34m-\u001b[0m \u001b[0;36m0.5\u001b[0m\u001b[0;34m\u001b[0m\u001b[0;34m\u001b[0m\u001b[0m\n",
            "\u001b[0;32m/usr/local/lib/python3.6/dist-packages/numpy/lib/npyio.py\u001b[0m in \u001b[0;36mload\u001b[0;34m(file, mmap_mode, allow_pickle, fix_imports, encoding)\u001b[0m\n\u001b[1;32m    442\u001b[0m             \u001b[0;31m# Try a pickle\u001b[0m\u001b[0;34m\u001b[0m\u001b[0;34m\u001b[0m\u001b[0;34m\u001b[0m\u001b[0m\n\u001b[1;32m    443\u001b[0m             \u001b[0;32mif\u001b[0m \u001b[0;32mnot\u001b[0m \u001b[0mallow_pickle\u001b[0m\u001b[0;34m:\u001b[0m\u001b[0;34m\u001b[0m\u001b[0;34m\u001b[0m\u001b[0m\n\u001b[0;32m--> 444\u001b[0;31m                 raise ValueError(\"Cannot load file containing pickled data \"\n\u001b[0m\u001b[1;32m    445\u001b[0m                                  \"when allow_pickle=False\")\n\u001b[1;32m    446\u001b[0m             \u001b[0;32mtry\u001b[0m\u001b[0;34m:\u001b[0m\u001b[0;34m\u001b[0m\u001b[0;34m\u001b[0m\u001b[0m\n",
            "\u001b[0;31mValueError\u001b[0m: Cannot load file containing pickled data when allow_pickle=False"
          ]
        }
      ]
    },
    {
      "cell_type": "code",
      "metadata": {
        "id": "D11OdMA-tJFU"
      },
      "source": [
        "if fps == 10:\n",
        "    tap = 8\n",
        "elif fps == 25:\n",
        "    tap = 20"
      ],
      "execution_count": null,
      "outputs": []
    },
    {
      "cell_type": "markdown",
      "metadata": {
        "id": "L6rXgKAytJFU"
      },
      "source": [
        "## calc STA and peak-to-peak difference for all RGCs"
      ]
    },
    {
      "cell_type": "code",
      "metadata": {
        "id": "BxVDNYCGtJFU"
      },
      "source": [
        "# choose a channel\n",
        "sta_p2ps = []\n",
        "sta_psnrs = []\n",
        "\n",
        "for ch_idx in range(spike_counts.shape[0]):\n",
        "\n",
        "    channel_name = info['channel'][ch_idx]\n",
        "    cell_types = info['cell_type'][ch_idx]\n",
        "    print(channel_name, cell_types)\n",
        "    \n",
        "\n",
        "    spike_triggered_stim, weights = pysta.grab_spike_triggered_stim(stim, spike_counts[ch_idx], tap=tap)\n",
        "\n",
        "    sta = np.average(spike_triggered_stim, weights=weights, axis=0)\n",
        "    # sta.shape\n",
        "    \n",
        "    sta_p2ps.append(p2p(sta))\n",
        "    sta_psnrs.append(psnr(sta))\n",
        "\n",
        "#     print(spike_triggered_stim.shape)\n",
        "\n",
        "#     plot_spatio_temporal(sta, ylabel='STA') #, \n",
        "#     #                     fig_basename=os.path.join('figure', 'sta', channel_name))\n",
        "#     # plt.title(channel_name + '(%.2f)'.format)\n",
        "\n",
        "info['sta_p2p'] = sta_p2ps\n",
        "info['sta_psnr'] = sta_psnrs\n",
        "\n",
        "info.to_csv(dataset + '_sta.csv', index=None)"
      ],
      "execution_count": null,
      "outputs": []
    },
    {
      "cell_type": "markdown",
      "metadata": {
        "id": "LRyv2XDztJFV"
      },
      "source": [
        "## analyze results"
      ]
    },
    {
      "cell_type": "code",
      "metadata": {
        "id": "YUc0jAirtJFV"
      },
      "source": [
        "# # dataset = '20201209'\n",
        "# # info = pd.read_csv('20201209_sta.csv')\n",
        "\n",
        "# dataset = '20201216'\n",
        "# info = pd.read_csv('20201216_sta.csv')\n"
      ],
      "execution_count": null,
      "outputs": []
    },
    {
      "cell_type": "code",
      "metadata": {
        "id": "Ga9nf9HQtJFV"
      },
      "source": [
        "info['sta_p2p'].hist()\n",
        "plt.xlabel('STA peak-to-peak difference')\n",
        "plt.ylabel('count')\n",
        "box_off()"
      ],
      "execution_count": null,
      "outputs": []
    },
    {
      "cell_type": "code",
      "metadata": {
        "id": "At97K7vMtJFW"
      },
      "source": [
        "info['sta_psnr'].hist()\n",
        "plt.xlabel('STA PSNR')\n",
        "plt.ylabel('count')\n",
        "box_off()"
      ],
      "execution_count": null,
      "outputs": []
    },
    {
      "cell_type": "code",
      "metadata": {
        "id": "fFN8wDtTtJFW"
      },
      "source": [
        "idx_high_snr = info['sta_p2p'] >= 0.35\n",
        "info[idx_high_snr].sort_values(by='sta_p2p', ascending=False)"
      ],
      "execution_count": null,
      "outputs": []
    },
    {
      "cell_type": "code",
      "metadata": {
        "id": "oEXElTMrtJFW"
      },
      "source": [
        "if len(info['cell_type'].value_counts()) == 3: # ON, OFF, Unknown\n",
        "    group_values = ['ON', 'OFF', 'Unknown']\n",
        "    color=['r','#00A0FF', '#A0A0A0']\n",
        "elif len(info['cell_type'].value_counts()) == 4: # ON, OFF, ON-OFF, Unknown\n",
        "    group_values = ['ON', 'OFF', 'ON-OFF', 'Unknown']\n",
        "    color=['r','#00A0FF','green', '#A0A0A0']    "
      ],
      "execution_count": null,
      "outputs": []
    },
    {
      "cell_type": "code",
      "metadata": {
        "id": "7C6P9hWhtJFX"
      },
      "source": [
        "info.groupby('cell_type', sort=False).mean()"
      ],
      "execution_count": null,
      "outputs": []
    },
    {
      "cell_type": "code",
      "metadata": {
        "id": "uwr5c5H6tJFX"
      },
      "source": [
        "plot_bar_by_group(info, 'sta_p2p',\n",
        "                  group_values = group_values, color=color)\n",
        "\n",
        "plt.ylim(0, 0.5)\n",
        "plt.savefig(\"figure/sta_{}_p2p_bar.pdf\".format(dataset), bbox_inches='tight')\n",
        "plt.savefig(\"figure/sta_{}_p2p_bar.png\".format(dataset), bbox_inches='tight')"
      ],
      "execution_count": null,
      "outputs": []
    },
    {
      "cell_type": "code",
      "metadata": {
        "id": "sbC88knNtJFY"
      },
      "source": [
        "# test significance: ON or OFF vs. ON/OFF\n",
        "data = groupby_dict(info, 'sta_p2p', 'cell_type')\n",
        "\n",
        "t, p = stats.ttest_ind(data['ON'], data['OFF'], equal_var=False)\n",
        "print(p)\n",
        "\n",
        "t, p = stats.ttest_ind(data['ON'] + data['OFF'], data['Unknown'], equal_var=False)\n",
        "print(p)"
      ],
      "execution_count": null,
      "outputs": []
    },
    {
      "cell_type": "code",
      "metadata": {
        "id": "-TfuWLUgtJFY"
      },
      "source": [
        "idx_high_snr = info['sta_psnr'] >= 8\n",
        "info[idx_high_snr].sort_values(by='sta_psnr', ascending=False)"
      ],
      "execution_count": null,
      "outputs": []
    },
    {
      "cell_type": "code",
      "metadata": {
        "id": "Mb-U8b2OtJFZ"
      },
      "source": [
        "plot_bar_by_group(info, 'sta_psnr',\n",
        "                  group_values = group_values, color=color)\n",
        "\n",
        "plt.savefig(\"figure/sta_{}_psnr_bar.pdf\".format(dataset), bbox_inches='tight')\n",
        "plt.savefig(\"figure/sta_{}_psnr_bar.png\".format(dataset), bbox_inches='tight')"
      ],
      "execution_count": null,
      "outputs": []
    },
    {
      "cell_type": "code",
      "metadata": {
        "id": "5skxmYhXtJFZ"
      },
      "source": [
        "# test significance: ON or OFF vs. ON/OFF\n",
        "data = groupby_dict(info, 'sta_psnr', 'cell_type')\n",
        "\n",
        "t, p = stats.ttest_ind(data['ON'], data['OFF'], equal_var=False)\n",
        "print(p)\n",
        "\n",
        "t, p = stats.ttest_ind(data['ON'] + data['OFF'], data['Unknown'], equal_var=False)\n",
        "print(p)\n",
        "\n",
        "# t, p = stats.ttest_ind(data['ON'] + data['OFF'], data['ON-OFF'], equal_var=False)\n",
        "# print(p)"
      ],
      "execution_count": null,
      "outputs": []
    },
    {
      "cell_type": "markdown",
      "metadata": {
        "id": "7HT7WE9AtJFZ"
      },
      "source": [
        "## spatio-temporal analysis of RF with ON or OFF RGC with high peak-to-peak difference"
      ]
    },
    {
      "cell_type": "code",
      "metadata": {
        "id": "a6U8ubketJFa"
      },
      "source": [
        "# choose a channel with highest p2p\n",
        "idx_on = info['cell_type'] == 'ON'\n",
        "idx_off = info['cell_type'] == 'OFF'\n",
        "idx = np.logical_or(idx_on, idx_off)\n",
        "\n",
        "ch_idx = info.loc[idx]['sta_p2p'].idxmax()\n",
        "# ch_idx = info.loc[idx]['sta_psnr'].idxmax()   #PSNR is better criteria"
      ],
      "execution_count": null,
      "outputs": []
    },
    {
      "cell_type": "code",
      "metadata": {
        "id": "uUQc0ujEtJFa"
      },
      "source": [
        "channel_name = info['channel'][ch_idx]\n",
        "cell_types = info['cell_type'][ch_idx]\n",
        "print(channel_name, cell_types)"
      ],
      "execution_count": null,
      "outputs": []
    },
    {
      "cell_type": "code",
      "metadata": {
        "id": "J1C1s85ttJFa"
      },
      "source": [
        "if fps == 10:\n",
        "    tap = 8\n",
        "elif fps == 25:\n",
        "    tap = 20\n",
        "\n",
        "spike_triggered_stim, weights = pysta.grab_spike_triggered_stim(stim, spike_counts[ch_idx], tap=tap)\n",
        "\n",
        "sta = np.average(spike_triggered_stim, weights=weights, axis=0)\n",
        "# sta.shape\n",
        "\n",
        "print(spike_triggered_stim.shape)\n",
        "\n",
        "\n",
        "import os\n",
        "if not os.path.exists(os.path.join('figure', 'sta')):\n",
        "    os.makedirs(os.path.join('figure', 'sta'))\n",
        "    \n",
        "plot_spatio_temporal(sta, \n",
        "                     width=width, height=height, dt=1000/fps,\n",
        "                     ylabel='STA',\n",
        "                     fig_basename=os.path.join('figure', 'sta', channel_name))\n",
        "# plt.title(channel_name + '(%.2f)'.format)"
      ],
      "execution_count": null,
      "outputs": []
    },
    {
      "cell_type": "code",
      "metadata": {
        "id": "u8CqeJ-9tJFa"
      },
      "source": [
        ""
      ],
      "execution_count": null,
      "outputs": []
    },
    {
      "cell_type": "markdown",
      "metadata": {
        "id": "YsO03MdQtJFb"
      },
      "source": [
        "### spatial spectrum"
      ]
    },
    {
      "cell_type": "code",
      "metadata": {
        "id": "79jqrR3ytJFb"
      },
      "source": [
        "if fps == 10:\n",
        "#    tap = 8\n",
        "    sta_slice = sta[:,5].reshape(height,width)\n",
        "elif fps == 25:\n",
        "#     pass\n",
        "#     tap = 20\n",
        "#     sta_slice = sta[:,15].reshape(height,width)\n",
        "    \n",
        "    # find pixel with highest variance\n",
        "    idx_max_var = np.argmax(np.var(sta,axis=1))\n",
        "    temporal_profile = sta[idx_max_var,:]\n",
        "    plt.plot(temporal_profile, '.-')\n",
        "    idx_peak = np.argmax(np.abs(temporal_profile))\n",
        "        \n",
        "    sta_slice = sta[:,idx_peak].reshape(height,width)\n",
        "    plt.plot(idx_peak, sta[idx_max_var, idx_peak], 'r*')\n",
        "    plt.xlabel('frame')\n",
        "    plt.ylabel('STA at pixel {}'.format(idx_max_var))\n",
        "\n",
        "    \n",
        "plt.figure(figsize=(12,5))\n",
        "plt.subplot(121)\n",
        "plt.imshow(sta_slice, cmap='gray', origin='lower')\n",
        "\n",
        "plt.subplot(122)\n",
        "plot_spatial_spectrum(sta_slice)\n",
        "\n",
        "\n",
        "\n",
        "plt.savefig(os.path.join('figure', dataset + '_' + channel_name + '_spatial_spectrum.pdf'))\n",
        "\n"
      ],
      "execution_count": null,
      "outputs": []
    },
    {
      "cell_type": "markdown",
      "metadata": {
        "id": "ZvIQWoTMtJFb"
      },
      "source": [
        "### temporal spectrum"
      ]
    },
    {
      "cell_type": "code",
      "metadata": {
        "id": "d0aU5lgFtJFb"
      },
      "source": [
        "plt.figure(figsize=(12,4))\n",
        "\n",
        "plt.subplot(121)\n",
        "plot_temporal_profile(sta, 1/fps)\n",
        "\n",
        "plt.subplot(122)\n",
        "plot_temporal_spectrum(sta, 1/fps)\n",
        "\n",
        "plt.savefig(os.path.join('figure',dataset + '_' + channel_name + '_temporal_spectrum.pdf'))\n"
      ],
      "execution_count": null,
      "outputs": []
    },
    {
      "cell_type": "code",
      "metadata": {
        "id": "Gb8E_TlwtJFb"
      },
      "source": [
        "# actual frequency values\n",
        "rfftfreq(tap, 1/fps)"
      ],
      "execution_count": null,
      "outputs": []
    },
    {
      "cell_type": "code",
      "metadata": {
        "id": "WRLFc39ZtJFc"
      },
      "source": [
        ""
      ],
      "execution_count": null,
      "outputs": []
    }
  ]
}