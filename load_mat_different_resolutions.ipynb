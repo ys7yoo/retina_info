{
 "cells": [
  {
   "cell_type": "code",
   "execution_count": 1,
   "metadata": {},
   "outputs": [],
   "source": [
    "import pandas as pd\n",
    "import os\n",
    "from glob import glob\n",
    "import numpy as np\n",
    "\n",
    "import matplotlib.pyplot as plt\n",
    "from tqdm import tqdm"
   ]
  },
  {
   "cell_type": "markdown",
   "metadata": {},
   "source": [
    "## load  channel name and cell type info\n",
    "\n",
    "<!-- \tON\tON/OFF\tOFF\tUnknown\tSum\n",
    "count\t32\t10\t13\t52\t107 -->\n"
   ]
  },
  {
   "cell_type": "code",
   "execution_count": 2,
   "metadata": {},
   "outputs": [],
   "source": [
    "dataset = '20180828'\n",
    "\n",
    "data_path = os.path.join('data1', dataset)\n",
    "\n",
    "\n",
    "width = 8\n",
    "height = 8\n",
    "fps = 10\n",
    "\n",
    "width = 8\n",
    "height = 8\n",
    "fps = 25\n",
    "\n",
    "width = 13\n",
    "height = 13\n",
    "fps = 10\n",
    "\n",
    "width = 26\n",
    "height = 26\n",
    "fps = 10"
   ]
  },
  {
   "cell_type": "code",
   "execution_count": 3,
   "metadata": {},
   "outputs": [
    {
     "data": {
      "text/html": [
       "<div>\n",
       "<style scoped>\n",
       "    .dataframe tbody tr th:only-of-type {\n",
       "        vertical-align: middle;\n",
       "    }\n",
       "\n",
       "    .dataframe tbody tr th {\n",
       "        vertical-align: top;\n",
       "    }\n",
       "\n",
       "    .dataframe thead th {\n",
       "        text-align: right;\n",
       "    }\n",
       "</style>\n",
       "<table border=\"1\" class=\"dataframe\">\n",
       "  <thead>\n",
       "    <tr style=\"text-align: right;\">\n",
       "      <th></th>\n",
       "      <th>channel</th>\n",
       "      <th>cell_type</th>\n",
       "    </tr>\n",
       "  </thead>\n",
       "  <tbody>\n",
       "    <tr>\n",
       "      <th>0</th>\n",
       "      <td>12a</td>\n",
       "      <td>OFF</td>\n",
       "    </tr>\n",
       "    <tr>\n",
       "      <th>1</th>\n",
       "      <td>12b</td>\n",
       "      <td>Unknown</td>\n",
       "    </tr>\n",
       "    <tr>\n",
       "      <th>2</th>\n",
       "      <td>12c</td>\n",
       "      <td>ON</td>\n",
       "    </tr>\n",
       "    <tr>\n",
       "      <th>3</th>\n",
       "      <td>12d</td>\n",
       "      <td>OFF</td>\n",
       "    </tr>\n",
       "    <tr>\n",
       "      <th>4</th>\n",
       "      <td>12e</td>\n",
       "      <td>ON</td>\n",
       "    </tr>\n",
       "    <tr>\n",
       "      <th>...</th>\n",
       "      <td>...</td>\n",
       "      <td>...</td>\n",
       "    </tr>\n",
       "    <tr>\n",
       "      <th>103</th>\n",
       "      <td>83b</td>\n",
       "      <td>Unknown</td>\n",
       "    </tr>\n",
       "    <tr>\n",
       "      <th>104</th>\n",
       "      <td>84a</td>\n",
       "      <td>Unknown</td>\n",
       "    </tr>\n",
       "    <tr>\n",
       "      <th>105</th>\n",
       "      <td>86a</td>\n",
       "      <td>Unknown</td>\n",
       "    </tr>\n",
       "    <tr>\n",
       "      <th>106</th>\n",
       "      <td>86b</td>\n",
       "      <td>Unknown</td>\n",
       "    </tr>\n",
       "    <tr>\n",
       "      <th>107</th>\n",
       "      <td>87a</td>\n",
       "      <td>Unknown</td>\n",
       "    </tr>\n",
       "  </tbody>\n",
       "</table>\n",
       "<p>108 rows × 2 columns</p>\n",
       "</div>"
      ],
      "text/plain": [
       "    channel cell_type\n",
       "0       12a       OFF\n",
       "1       12b   Unknown\n",
       "2       12c        ON\n",
       "3       12d       OFF\n",
       "4       12e        ON\n",
       "..      ...       ...\n",
       "103     83b   Unknown\n",
       "104     84a   Unknown\n",
       "105     86a   Unknown\n",
       "106     86b   Unknown\n",
       "107     87a   Unknown\n",
       "\n",
       "[108 rows x 2 columns]"
      ]
     },
     "execution_count": 3,
     "metadata": {},
     "output_type": "execute_result"
    }
   ],
   "source": [
    "# read the csv file\n",
    "info = pd.read_csv(os.path.join(data_path, 'cell_type_{}pix_{}Hz.csv'.format(width, fps)))\n",
    "\n",
    "info.replace('-', 'Unknown', inplace=True)\n",
    "\n",
    "info"
   ]
  },
  {
   "cell_type": "code",
   "execution_count": 4,
   "metadata": {},
   "outputs": [
    {
     "data": {
      "text/plain": [
       "ON         0.296296\n",
       "OFF        0.277778\n",
       "Unknown    0.425926\n",
       "Name: cell_type, dtype: float64"
      ]
     },
     "execution_count": 4,
     "metadata": {},
     "output_type": "execute_result"
    }
   ],
   "source": [
    "info['cell_type'].value_counts()[['ON', 'OFF', 'Unknown']] / len(info)"
   ]
  },
  {
   "cell_type": "markdown",
   "metadata": {},
   "source": [
    "## load stim"
   ]
  },
  {
   "cell_type": "code",
   "execution_count": 5,
   "metadata": {},
   "outputs": [
    {
     "data": {
      "text/plain": [
       "'data1/20180828/StimInfo_26pix_66um_10Hz.mat'"
      ]
     },
     "execution_count": 5,
     "metadata": {},
     "output_type": "execute_result"
    }
   ],
   "source": [
    "stim_info_path = glob(os.path.join(data_path,'StimInfo_{}pix_*_{}Hz.mat'.format(width, fps)))[0]\n",
    "stim_info_path\n",
    "# stim_info_path = os.path.join(data_path,'StimInfo_8pix_215um_10Hz.mat')"
   ]
  },
  {
   "cell_type": "code",
   "execution_count": 6,
   "metadata": {},
   "outputs": [],
   "source": [
    "# read stimulus\n",
    "import scipy.io as sio\n",
    "stim = list()\n",
    "for stim_info in sio.loadmat(stim_info_path)['StimInfo']:\n",
    "    stim.append(stim_info[0][0])\n",
    "    # print(stim_info[0][0].shape)\n",
    "stim = np.array(stim)"
   ]
  },
  {
   "cell_type": "code",
   "execution_count": 7,
   "metadata": {},
   "outputs": [
    {
     "data": {
      "text/plain": [
       "(9000, 676)"
      ]
     },
     "execution_count": 7,
     "metadata": {},
     "output_type": "execute_result"
    }
   ],
   "source": [
    "stim.shape"
   ]
  },
  {
   "cell_type": "code",
   "execution_count": 8,
   "metadata": {},
   "outputs": [
    {
     "data": {
      "text/plain": [
       "<matplotlib.image.AxesImage at 0x7fd0e7891650>"
      ]
     },
     "execution_count": 8,
     "metadata": {},
     "output_type": "execute_result"
    },
    {
     "data": {
      "image/png": "[encoded data removed]",
      "text/plain": [
       "<Figure size 432x288 with 1 Axes>"
      ]
     },
     "metadata": {
      "needs_background": "light"
     },
     "output_type": "display_data"
    }
   ],
   "source": [
    "plt.imshow(stim[0,:].reshape(height,width), cmap='gray')"
   ]
  },
  {
   "cell_type": "markdown",
   "metadata": {},
   "source": [
    "## load spike counts"
   ]
  },
  {
   "cell_type": "code",
   "execution_count": 9,
   "metadata": {},
   "outputs": [],
   "source": [
    "def count_spikes(spike_times, bins, timestamp_start=0):\n",
    "    num_bins = bins.shape[0]\n",
    "    spike_count = np.zeros_like(bins)\n",
    "    for i in range(num_bins):\n",
    "        if i == 0:\n",
    "            continue\n",
    "\n",
    "        spike_count[i] = np.sum(np.logical_and(spike_times >= timestamp_start + bins[i-1], spike_times < timestamp_start + bins[i]))\n",
    "    return spike_count"
   ]
  },
  {
   "cell_type": "code",
   "execution_count": 10,
   "metadata": {},
   "outputs": [
    {
     "name": "stderr",
     "output_type": "stream",
     "text": [
      "  1%|          | 1/108 [00:00<00:20,  5.18it/s]"
     ]
    },
    {
     "name": "stdout",
     "output_type": "stream",
     "text": [
      "data1/20180828/SpikeTrain_20180828/SpikeTrain_ND2_26pix_66um_10Hz/A1a.mat\n"
     ]
    },
    {
     "name": "stderr",
     "output_type": "stream",
     "text": [
      "100%|██████████| 108/108 [00:15<00:00,  6.86it/s]\n"
     ]
    }
   ],
   "source": [
    "# read spike counts\n",
    "path = glob(os.path.join(data_path, 'SpikeTrain_'+dataset,  'SpikeTrain_ND2_{}pix_*_{}Hz'.format(width,fps)))[0]\n",
    "\n",
    "# load time stamps\n",
    "filename = os.path.join(path, 'A1a.mat')\n",
    "print(filename)\n",
    "ts = sio.loadmat(filename)['A1a'].ravel()\n",
    "# print(ts[0], ts[-1], ts.shape)\n",
    "\n",
    "# load spike times\n",
    "# channel_names = list()\n",
    "spike_counts = list()\n",
    "for i, channel_name in enumerate(tqdm(info['channel'])):\n",
    "    filename = os.path.join(path, 'ch_' + channel_name)\n",
    "    # print(filename)\n",
    "    spike_time = sio.loadmat(filename)['ch_' + channel_name].ravel()\n",
    "\n",
    "    # count spikes\n",
    "    spike_counts.append(count_spikes(spike_time, ts))\n",
    "\n",
    "spike_counts = np.array(spike_counts)"
   ]
  },
  {
   "cell_type": "code",
   "execution_count": 11,
   "metadata": {},
   "outputs": [
    {
     "data": {
      "text/plain": [
       "(108, 9000)"
      ]
     },
     "execution_count": 11,
     "metadata": {},
     "output_type": "execute_result"
    }
   ],
   "source": [
    "spike_counts.shape"
   ]
  },
  {
   "cell_type": "code",
   "execution_count": 12,
   "metadata": {},
   "outputs": [
    {
     "data": {
      "text/plain": [
       "(array([711688., 153088.,  58199.,  25019.,  11695.,   5742.,   3005.]),\n",
       " array([-0.5,  0.5,  1.5,  2.5,  3.5,  4.5,  5.5,  6.5]),\n",
       " <a list of 7 Patch objects>)"
      ]
     },
     "execution_count": 12,
     "metadata": {},
     "output_type": "execute_result"
    },
    {
     "data": {
      "image/png": "[encoded data removed]",
      "text/plain": [
       "<Figure size 432x288 with 1 Axes>"
      ]
     },
     "metadata": {
      "needs_background": "light"
     },
     "output_type": "display_data"
    }
   ],
   "source": [
    "plt.hist(spike_counts.ravel(), [-0.5, 0.5, 1.5, 2.5, 3.5, 4.5, 5.5, 6.5])"
   ]
  },
  {
   "cell_type": "markdown",
   "metadata": {},
   "source": [
    "## save to npz and csv\n",
    "\n",
    "put these files under `data`"
   ]
  },
  {
   "cell_type": "code",
   "execution_count": 13,
   "metadata": {},
   "outputs": [],
   "source": [
    "basename = dataset+'_{}pix_{}Hz'.format(width, fps)\n",
    "\n",
    "np.savez(basename, dataset=dataset, stim=stim, spike_counts=spike_counts)\n",
    "\n",
    "info.to_csv(basename+'_info.csv', index=None)"
   ]
  },
  {
   "cell_type": "code",
   "execution_count": null,
   "metadata": {},
   "outputs": [],
   "source": []
  },
  {
   "cell_type": "code",
   "execution_count": null,
   "metadata": {},
   "outputs": [],
   "source": []
  }
 ],
 "metadata": {
  "kernelspec": {
   "display_name": "Python 3",
   "language": "python",
   "name": "python3"
  },
  "language_info": {
   "codemirror_mode": {
    "name": "ipython",
    "version": 3
   },
   "file_extension": ".py",
   "mimetype": "text/x-python",
   "name": "python",
   "nbconvert_exporter": "python",
   "pygments_lexer": "ipython3",
   "version": "3.7.6"
  }
 },
 "nbformat": 4,
 "nbformat_minor": 4
}
